{
  "cells": [
    {
      "cell_type": "markdown",
      "metadata": {
        "id": "view-in-github",
        "colab_type": "text"
      },
      "source": [
        "<a href=\"https://colab.research.google.com/github/sidsanc/257_MachineLearning/blob/main/Assignment_2/Fractal_Clustering/CMPE_257_Fractal_Clustering.ipynb\" target=\"_parent\"><img src=\"https://colab.research.google.com/assets/colab-badge.svg\" alt=\"Open In Colab\"/></a>"
      ]
    },
    {
      "cell_type": "markdown",
      "metadata": {
        "id": "ROGECNiVPpms"
      },
      "source": [
        "# House Price Prediction "
      ]
    },
    {
      "cell_type": "markdown",
      "metadata": {
        "id": "oj0GsdLtfoRG"
      },
      "source": [
        "**Objective** - Assessing the possible return on investment (ROI) of a real estate investment: Investors can use home price forecasts to assess the possible ROI of a property and decide whether to buy or sell in accordance with the results.\n"
      ]
    },
    {
      "cell_type": "markdown",
      "metadata": {
        "id": "WNPe3X_jzd2g"
      },
      "source": [
        "***The following was implemented by Siddhant Sancheti(016710421).***"
      ]
    },
    {
      "cell_type": "markdown",
      "metadata": {
        "id": "ul1a6JtvkHeZ"
      },
      "source": [
        "### Loading the Data"
      ]
    },
    {
      "cell_type": "code",
      "execution_count": null,
      "metadata": {
        "id": "l5WMaEyEiUR1"
      },
      "outputs": [],
      "source": [
        "import pandas as pd\n",
        "import matplotlib.pyplot as plt\n",
        "import numpy as np"
      ]
    },
    {
      "cell_type": "code",
      "execution_count": null,
      "metadata": {
        "colab": {
          "base_uri": "https://localhost:8080/"
        },
        "id": "TD27dBLrhXZ7",
        "outputId": "a60ade19-4875-45b2-8106-1cd205ec2c0c"
      },
      "outputs": [
        {
          "data": {
            "text/html": [
              "\n",
              "  <div id=\"df-106cef5f-ad58-452f-8736-dea83c881830\">\n",
              "    <div class=\"colab-df-container\">\n",
              "      <div>\n",
              "<style scoped>\n",
              "    .dataframe tbody tr th:only-of-type {\n",
              "        vertical-align: middle;\n",
              "    }\n",
              "\n",
              "    .dataframe tbody tr th {\n",
              "        vertical-align: top;\n",
              "    }\n",
              "\n",
              "    .dataframe thead th {\n",
              "        text-align: right;\n",
              "    }\n",
              "</style>\n",
              "<table border=\"1\" class=\"dataframe\">\n",
              "  <thead>\n",
              "    <tr style=\"text-align: right;\">\n",
              "      <th></th>\n",
              "      <th>RegionID</th>\n",
              "      <th>SizeRank</th>\n",
              "      <th>RegionName</th>\n",
              "      <th>RegionType</th>\n",
              "      <th>StateName</th>\n",
              "      <th>State</th>\n",
              "      <th>Metro</th>\n",
              "      <th>StateCodeFIPS</th>\n",
              "      <th>MunicipalCodeFIPS</th>\n",
              "      <th>2000-01-31</th>\n",
              "      <th>...</th>\n",
              "      <th>2022-04-30</th>\n",
              "      <th>2022-05-31</th>\n",
              "      <th>2022-06-30</th>\n",
              "      <th>2022-07-31</th>\n",
              "      <th>2022-08-31</th>\n",
              "      <th>2022-09-30</th>\n",
              "      <th>2022-10-31</th>\n",
              "      <th>2022-11-30</th>\n",
              "      <th>2022-12-31</th>\n",
              "      <th>2023-01-31</th>\n",
              "    </tr>\n",
              "  </thead>\n",
              "  <tbody>\n",
              "    <tr>\n",
              "      <th>0</th>\n",
              "      <td>3101</td>\n",
              "      <td>0</td>\n",
              "      <td>Los Angeles County</td>\n",
              "      <td>county</td>\n",
              "      <td>CA</td>\n",
              "      <td>CA</td>\n",
              "      <td>Los Angeles-Long Beach-Anaheim, CA</td>\n",
              "      <td>6</td>\n",
              "      <td>37</td>\n",
              "      <td>201160.880491</td>\n",
              "      <td>...</td>\n",
              "      <td>813769.466391</td>\n",
              "      <td>822431.376391</td>\n",
              "      <td>827584.636712</td>\n",
              "      <td>830036.864170</td>\n",
              "      <td>828594.826334</td>\n",
              "      <td>825129.195530</td>\n",
              "      <td>821447.712758</td>\n",
              "      <td>819001.945987</td>\n",
              "      <td>815813.142567</td>\n",
              "      <td>808678.647857</td>\n",
              "    </tr>\n",
              "    <tr>\n",
              "      <th>1</th>\n",
              "      <td>139</td>\n",
              "      <td>1</td>\n",
              "      <td>Cook County</td>\n",
              "      <td>county</td>\n",
              "      <td>IL</td>\n",
              "      <td>IL</td>\n",
              "      <td>Chicago-Naperville-Elgin, IL-IN-WI</td>\n",
              "      <td>17</td>\n",
              "      <td>31</td>\n",
              "      <td>132825.754108</td>\n",
              "      <td>...</td>\n",
              "      <td>280514.453444</td>\n",
              "      <td>282556.258884</td>\n",
              "      <td>283399.419980</td>\n",
              "      <td>282758.634204</td>\n",
              "      <td>281428.057013</td>\n",
              "      <td>279335.719049</td>\n",
              "      <td>277575.708756</td>\n",
              "      <td>276789.412421</td>\n",
              "      <td>276040.906854</td>\n",
              "      <td>276658.122961</td>\n",
              "    </tr>\n",
              "    <tr>\n",
              "      <th>2</th>\n",
              "      <td>1090</td>\n",
              "      <td>2</td>\n",
              "      <td>Harris County</td>\n",
              "      <td>county</td>\n",
              "      <td>TX</td>\n",
              "      <td>TX</td>\n",
              "      <td>Houston-The Woodlands-Sugar Land, TX</td>\n",
              "      <td>48</td>\n",
              "      <td>201</td>\n",
              "      <td>104596.806928</td>\n",
              "      <td>...</td>\n",
              "      <td>265177.057834</td>\n",
              "      <td>269412.445906</td>\n",
              "      <td>273130.570365</td>\n",
              "      <td>275762.243180</td>\n",
              "      <td>276948.900393</td>\n",
              "      <td>276978.432118</td>\n",
              "      <td>276585.996347</td>\n",
              "      <td>276120.477385</td>\n",
              "      <td>274992.553186</td>\n",
              "      <td>273317.012108</td>\n",
              "    </tr>\n",
              "    <tr>\n",
              "      <th>3</th>\n",
              "      <td>2402</td>\n",
              "      <td>3</td>\n",
              "      <td>Maricopa County</td>\n",
              "      <td>county</td>\n",
              "      <td>AZ</td>\n",
              "      <td>AZ</td>\n",
              "      <td>Phoenix-Mesa-Chandler, AZ</td>\n",
              "      <td>4</td>\n",
              "      <td>13</td>\n",
              "      <td>141536.726396</td>\n",
              "      <td>...</td>\n",
              "      <td>451324.374826</td>\n",
              "      <td>460208.622243</td>\n",
              "      <td>467689.426727</td>\n",
              "      <td>471562.656551</td>\n",
              "      <td>471109.950209</td>\n",
              "      <td>466791.409465</td>\n",
              "      <td>461144.420585</td>\n",
              "      <td>455003.906651</td>\n",
              "      <td>448469.645177</td>\n",
              "      <td>443192.871681</td>\n",
              "    </tr>\n",
              "    <tr>\n",
              "      <th>4</th>\n",
              "      <td>2841</td>\n",
              "      <td>4</td>\n",
              "      <td>San Diego County</td>\n",
              "      <td>county</td>\n",
              "      <td>CA</td>\n",
              "      <td>CA</td>\n",
              "      <td>San Diego-Chula Vista-Carlsbad, CA</td>\n",
              "      <td>6</td>\n",
              "      <td>73</td>\n",
              "      <td>207968.566822</td>\n",
              "      <td>...</td>\n",
              "      <td>847898.586557</td>\n",
              "      <td>864259.328619</td>\n",
              "      <td>873352.448962</td>\n",
              "      <td>873825.528780</td>\n",
              "      <td>866733.566062</td>\n",
              "      <td>855018.047342</td>\n",
              "      <td>844378.996804</td>\n",
              "      <td>836239.400659</td>\n",
              "      <td>829201.659955</td>\n",
              "      <td>822400.646686</td>\n",
              "    </tr>\n",
              "  </tbody>\n",
              "</table>\n",
              "<p>5 rows × 286 columns</p>\n",
              "</div>\n",
              "      <button class=\"colab-df-convert\" onclick=\"convertToInteractive('df-106cef5f-ad58-452f-8736-dea83c881830')\"\n",
              "              title=\"Convert this dataframe to an interactive table.\"\n",
              "              style=\"display:none;\">\n",
              "        \n",
              "  <svg xmlns=\"http://www.w3.org/2000/svg\" height=\"24px\"viewBox=\"0 0 24 24\"\n",
              "       width=\"24px\">\n",
              "    <path d=\"M0 0h24v24H0V0z\" fill=\"none\"/>\n",
              "    <path d=\"M18.56 5.44l.94 2.06.94-2.06 2.06-.94-2.06-.94-.94-2.06-.94 2.06-2.06.94zm-11 1L8.5 8.5l.94-2.06 2.06-.94-2.06-.94L8.5 2.5l-.94 2.06-2.06.94zm10 10l.94 2.06.94-2.06 2.06-.94-2.06-.94-.94-2.06-.94 2.06-2.06.94z\"/><path d=\"M17.41 7.96l-1.37-1.37c-.4-.4-.92-.59-1.43-.59-.52 0-1.04.2-1.43.59L10.3 9.45l-7.72 7.72c-.78.78-.78 2.05 0 2.83L4 21.41c.39.39.9.59 1.41.59.51 0 1.02-.2 1.41-.59l7.78-7.78 2.81-2.81c.8-.78.8-2.07 0-2.86zM5.41 20L4 18.59l7.72-7.72 1.47 1.35L5.41 20z\"/>\n",
              "  </svg>\n",
              "      </button>\n",
              "      \n",
              "  <style>\n",
              "    .colab-df-container {\n",
              "      display:flex;\n",
              "      flex-wrap:wrap;\n",
              "      gap: 12px;\n",
              "    }\n",
              "\n",
              "    .colab-df-convert {\n",
              "      background-color: #E8F0FE;\n",
              "      border: none;\n",
              "      border-radius: 50%;\n",
              "      cursor: pointer;\n",
              "      display: none;\n",
              "      fill: #1967D2;\n",
              "      height: 32px;\n",
              "      padding: 0 0 0 0;\n",
              "      width: 32px;\n",
              "    }\n",
              "\n",
              "    .colab-df-convert:hover {\n",
              "      background-color: #E2EBFA;\n",
              "      box-shadow: 0px 1px 2px rgba(60, 64, 67, 0.3), 0px 1px 3px 1px rgba(60, 64, 67, 0.15);\n",
              "      fill: #174EA6;\n",
              "    }\n",
              "\n",
              "    [theme=dark] .colab-df-convert {\n",
              "      background-color: #3B4455;\n",
              "      fill: #D2E3FC;\n",
              "    }\n",
              "\n",
              "    [theme=dark] .colab-df-convert:hover {\n",
              "      background-color: #434B5C;\n",
              "      box-shadow: 0px 1px 3px 1px rgba(0, 0, 0, 0.15);\n",
              "      filter: drop-shadow(0px 1px 2px rgba(0, 0, 0, 0.3));\n",
              "      fill: #FFFFFF;\n",
              "    }\n",
              "  </style>\n",
              "\n",
              "      <script>\n",
              "        const buttonEl =\n",
              "          document.querySelector('#df-106cef5f-ad58-452f-8736-dea83c881830 button.colab-df-convert');\n",
              "        buttonEl.style.display =\n",
              "          google.colab.kernel.accessAllowed ? 'block' : 'none';\n",
              "\n",
              "        async function convertToInteractive(key) {\n",
              "          const element = document.querySelector('#df-106cef5f-ad58-452f-8736-dea83c881830');\n",
              "          const dataTable =\n",
              "            await google.colab.kernel.invokeFunction('convertToInteractive',\n",
              "                                                     [key], {});\n",
              "          if (!dataTable) return;\n",
              "\n",
              "          const docLinkHtml = 'Like what you see? Visit the ' +\n",
              "            '<a target=\"_blank\" href=https://colab.research.google.com/notebooks/data_table.ipynb>data table notebook</a>'\n",
              "            + ' to learn more about interactive tables.';\n",
              "          element.innerHTML = '';\n",
              "          dataTable['output_type'] = 'display_data';\n",
              "          await google.colab.output.renderOutput(dataTable, element);\n",
              "          const docLink = document.createElement('div');\n",
              "          docLink.innerHTML = docLinkHtml;\n",
              "          element.appendChild(docLink);\n",
              "        }\n",
              "      </script>\n",
              "    </div>\n",
              "  </div>\n",
              "  "
            ],
            "text/plain": [
              "   RegionID  SizeRank          RegionName RegionType StateName State  \\\n",
              "0      3101         0  Los Angeles County     county        CA    CA   \n",
              "1       139         1         Cook County     county        IL    IL   \n",
              "2      1090         2       Harris County     county        TX    TX   \n",
              "3      2402         3     Maricopa County     county        AZ    AZ   \n",
              "4      2841         4    San Diego County     county        CA    CA   \n",
              "\n",
              "                                  Metro  StateCodeFIPS  MunicipalCodeFIPS  \\\n",
              "0    Los Angeles-Long Beach-Anaheim, CA              6                 37   \n",
              "1    Chicago-Naperville-Elgin, IL-IN-WI             17                 31   \n",
              "2  Houston-The Woodlands-Sugar Land, TX             48                201   \n",
              "3             Phoenix-Mesa-Chandler, AZ              4                 13   \n",
              "4    San Diego-Chula Vista-Carlsbad, CA              6                 73   \n",
              "\n",
              "      2000-01-31  ...     2022-04-30     2022-05-31     2022-06-30  \\\n",
              "0  201160.880491  ...  813769.466391  822431.376391  827584.636712   \n",
              "1  132825.754108  ...  280514.453444  282556.258884  283399.419980   \n",
              "2  104596.806928  ...  265177.057834  269412.445906  273130.570365   \n",
              "3  141536.726396  ...  451324.374826  460208.622243  467689.426727   \n",
              "4  207968.566822  ...  847898.586557  864259.328619  873352.448962   \n",
              "\n",
              "      2022-07-31     2022-08-31     2022-09-30     2022-10-31     2022-11-30  \\\n",
              "0  830036.864170  828594.826334  825129.195530  821447.712758  819001.945987   \n",
              "1  282758.634204  281428.057013  279335.719049  277575.708756  276789.412421   \n",
              "2  275762.243180  276948.900393  276978.432118  276585.996347  276120.477385   \n",
              "3  471562.656551  471109.950209  466791.409465  461144.420585  455003.906651   \n",
              "4  873825.528780  866733.566062  855018.047342  844378.996804  836239.400659   \n",
              "\n",
              "      2022-12-31     2023-01-31  \n",
              "0  815813.142567  808678.647857  \n",
              "1  276040.906854  276658.122961  \n",
              "2  274992.553186  273317.012108  \n",
              "3  448469.645177  443192.871681  \n",
              "4  829201.659955  822400.646686  \n",
              "\n",
              "[5 rows x 286 columns]"
            ]
          },
          "execution_count": 2,
          "metadata": {},
          "output_type": "execute_result"
        }
      ],
      "source": [
        "url = 'https://drive.google.com/file/d/1qA2fTUqptEp1Tl7-BJ65CPxb_pAEreB5/view'\n",
        "url='https://drive.google.com/uc?id=' + url.split('/')[-2]\n",
        "df = pd.read_csv(url)\n",
        "df.head()"
      ]
    },
    {
      "cell_type": "markdown",
      "metadata": {
        "id": "SWRpzowDkKS3"
      },
      "source": [
        "### Preprocessing"
      ]
    },
    {
      "cell_type": "code",
      "execution_count": null,
      "metadata": {
        "colab": {
          "base_uri": "https://localhost:8080/",
          "height": 307
        },
        "id": "sl5qH8ovi2cw",
        "outputId": "7429af38-fd11-4a63-9546-059ecb4c08cf"
      },
      "outputs": [
        {
          "data": {
            "text/plain": [
              "<matplotlib.axes._subplots.AxesSubplot at 0x7f95eec7ae80>"
            ]
          },
          "execution_count": 3,
          "metadata": {},
          "output_type": "execute_result"
        },
        {
          "data": {
            "image/png": "[encoded data removed]",
            "text/plain": [
              "<Figure size 432x288 with 1 Axes>"
            ]
          },
          "metadata": {},
          "output_type": "display_data"
        }
      ],
      "source": [
        "pd.options.plotting.backend = 'matplotlib'\n",
        "df['RegionType'].value_counts().plot.bar()"
      ]
    },
    {
      "cell_type": "code",
      "execution_count": null,
      "metadata": {
        "colab": {
          "base_uri": "https://localhost:8080/"
        },
        "id": "lb9GJSuFkURT",
        "outputId": "3c5bdd3c-3f57-4a16-e789-baf06d01f416"
      },
      "outputs": [
        {
          "data": {
            "text/plain": [
              "Washington County    30\n",
              "Jefferson County     25\n",
              "Franklin County      24\n",
              "Lincoln County       23\n",
              "Jackson County       23\n",
              "                     ..\n",
              "Winona County         1\n",
              "Saint Mary Parish     1\n",
              "Ogle County           1\n",
              "Culpeper County       1\n",
              "Arthur County         1\n",
              "Name: RegionName, Length: 1840, dtype: int64"
            ]
          },
          "execution_count": 4,
          "metadata": {},
          "output_type": "execute_result"
        }
      ],
      "source": [
        "df['RegionName'].value_counts()"
      ]
    },
    {
      "cell_type": "markdown",
      "metadata": {
        "id": "CkCaJOtkt4Ik"
      },
      "source": [
        "**Creating a dataframe with Month on Month Increase Percentage**"
      ]
    },
    {
      "cell_type": "code",
      "execution_count": null,
      "metadata": {
        "id": "U0NsTlyckxLU"
      },
      "outputs": [],
      "source": [
        "change_df = df.iloc[:, 9:]\n",
        "change_df = change_df.pct_change(axis=1)"
      ]
    },
    {
      "cell_type": "code",
      "execution_count": null,
      "metadata": {
        "colab": {
          "base_uri": "https://localhost:8080/",
          "height": 317
        },
        "id": "IU1Koi-zl6S5",
        "outputId": "f6f336c9-e60d-466d-b4bf-94e998a27680"
      },
      "outputs": [
        {
          "data": {
            "text/html": [
              "\n",
              "  <div id=\"df-56d92fa9-9094-4343-986e-2113cba669e7\">\n",
              "    <div class=\"colab-df-container\">\n",
              "      <div>\n",
              "<style scoped>\n",
              "    .dataframe tbody tr th:only-of-type {\n",
              "        vertical-align: middle;\n",
              "    }\n",
              "\n",
              "    .dataframe tbody tr th {\n",
              "        vertical-align: top;\n",
              "    }\n",
              "\n",
              "    .dataframe thead th {\n",
              "        text-align: right;\n",
              "    }\n",
              "</style>\n",
              "<table border=\"1\" class=\"dataframe\">\n",
              "  <thead>\n",
              "    <tr style=\"text-align: right;\">\n",
              "      <th></th>\n",
              "      <th>2000-01-31</th>\n",
              "      <th>2000-02-29</th>\n",
              "      <th>2000-03-31</th>\n",
              "      <th>2000-04-30</th>\n",
              "      <th>2000-05-31</th>\n",
              "      <th>2000-06-30</th>\n",
              "      <th>2000-07-31</th>\n",
              "      <th>2000-08-31</th>\n",
              "      <th>2000-09-30</th>\n",
              "      <th>2000-10-31</th>\n",
              "      <th>...</th>\n",
              "      <th>2022-05-31</th>\n",
              "      <th>2022-06-30</th>\n",
              "      <th>2022-07-31</th>\n",
              "      <th>2022-08-31</th>\n",
              "      <th>2022-09-30</th>\n",
              "      <th>2022-10-31</th>\n",
              "      <th>2022-11-30</th>\n",
              "      <th>2022-12-31</th>\n",
              "      <th>2023-01-31</th>\n",
              "      <th>Mean</th>\n",
              "    </tr>\n",
              "  </thead>\n",
              "  <tbody>\n",
              "    <tr>\n",
              "      <th>0</th>\n",
              "      <td>NaN</td>\n",
              "      <td>0.001071</td>\n",
              "      <td>0.004114</td>\n",
              "      <td>0.008088</td>\n",
              "      <td>0.010265</td>\n",
              "      <td>0.009753</td>\n",
              "      <td>0.009820</td>\n",
              "      <td>0.010056</td>\n",
              "      <td>0.009273</td>\n",
              "      <td>0.007380</td>\n",
              "      <td>...</td>\n",
              "      <td>0.010644</td>\n",
              "      <td>0.006266</td>\n",
              "      <td>0.002963</td>\n",
              "      <td>-0.001737</td>\n",
              "      <td>-0.004183</td>\n",
              "      <td>-0.004462</td>\n",
              "      <td>-0.002977</td>\n",
              "      <td>-0.003894</td>\n",
              "      <td>-0.008745</td>\n",
              "      <td>0.005</td>\n",
              "    </tr>\n",
              "    <tr>\n",
              "      <th>1</th>\n",
              "      <td>NaN</td>\n",
              "      <td>-0.000191</td>\n",
              "      <td>0.001657</td>\n",
              "      <td>0.004755</td>\n",
              "      <td>0.006106</td>\n",
              "      <td>0.006353</td>\n",
              "      <td>0.005831</td>\n",
              "      <td>0.008089</td>\n",
              "      <td>0.009300</td>\n",
              "      <td>0.011075</td>\n",
              "      <td>...</td>\n",
              "      <td>0.007279</td>\n",
              "      <td>0.002984</td>\n",
              "      <td>-0.002261</td>\n",
              "      <td>-0.004706</td>\n",
              "      <td>-0.007435</td>\n",
              "      <td>-0.006301</td>\n",
              "      <td>-0.002833</td>\n",
              "      <td>-0.002704</td>\n",
              "      <td>0.002236</td>\n",
              "      <td>0.003</td>\n",
              "    </tr>\n",
              "    <tr>\n",
              "      <th>2</th>\n",
              "      <td>NaN</td>\n",
              "      <td>-0.000271</td>\n",
              "      <td>-0.001479</td>\n",
              "      <td>-0.000621</td>\n",
              "      <td>-0.000244</td>\n",
              "      <td>0.001708</td>\n",
              "      <td>0.001928</td>\n",
              "      <td>0.002785</td>\n",
              "      <td>0.003620</td>\n",
              "      <td>0.003046</td>\n",
              "      <td>...</td>\n",
              "      <td>0.015972</td>\n",
              "      <td>0.013801</td>\n",
              "      <td>0.009635</td>\n",
              "      <td>0.004303</td>\n",
              "      <td>0.000107</td>\n",
              "      <td>-0.001417</td>\n",
              "      <td>-0.001683</td>\n",
              "      <td>-0.004085</td>\n",
              "      <td>-0.006093</td>\n",
              "      <td>0.003</td>\n",
              "    </tr>\n",
              "    <tr>\n",
              "      <th>3</th>\n",
              "      <td>NaN</td>\n",
              "      <td>0.002045</td>\n",
              "      <td>0.002694</td>\n",
              "      <td>0.005524</td>\n",
              "      <td>0.006054</td>\n",
              "      <td>0.005086</td>\n",
              "      <td>0.005036</td>\n",
              "      <td>0.004657</td>\n",
              "      <td>0.005236</td>\n",
              "      <td>0.004837</td>\n",
              "      <td>...</td>\n",
              "      <td>0.019685</td>\n",
              "      <td>0.016255</td>\n",
              "      <td>0.008282</td>\n",
              "      <td>-0.000960</td>\n",
              "      <td>-0.009167</td>\n",
              "      <td>-0.012097</td>\n",
              "      <td>-0.013316</td>\n",
              "      <td>-0.014361</td>\n",
              "      <td>-0.011766</td>\n",
              "      <td>0.004</td>\n",
              "    </tr>\n",
              "    <tr>\n",
              "      <th>4</th>\n",
              "      <td>NaN</td>\n",
              "      <td>0.003930</td>\n",
              "      <td>0.004758</td>\n",
              "      <td>0.010724</td>\n",
              "      <td>0.011464</td>\n",
              "      <td>0.014312</td>\n",
              "      <td>0.016437</td>\n",
              "      <td>0.017770</td>\n",
              "      <td>0.016425</td>\n",
              "      <td>0.013601</td>\n",
              "      <td>...</td>\n",
              "      <td>0.019296</td>\n",
              "      <td>0.010521</td>\n",
              "      <td>0.000542</td>\n",
              "      <td>-0.008116</td>\n",
              "      <td>-0.013517</td>\n",
              "      <td>-0.012443</td>\n",
              "      <td>-0.009640</td>\n",
              "      <td>-0.008416</td>\n",
              "      <td>-0.008202</td>\n",
              "      <td>0.005</td>\n",
              "    </tr>\n",
              "  </tbody>\n",
              "</table>\n",
              "<p>5 rows × 278 columns</p>\n",
              "</div>\n",
              "      <button class=\"colab-df-convert\" onclick=\"convertToInteractive('df-56d92fa9-9094-4343-986e-2113cba669e7')\"\n",
              "              title=\"Convert this dataframe to an interactive table.\"\n",
              "              style=\"display:none;\">\n",
              "        \n",
              "  <svg xmlns=\"http://www.w3.org/2000/svg\" height=\"24px\"viewBox=\"0 0 24 24\"\n",
              "       width=\"24px\">\n",
              "    <path d=\"M0 0h24v24H0V0z\" fill=\"none\"/>\n",
              "    <path d=\"M18.56 5.44l.94 2.06.94-2.06 2.06-.94-2.06-.94-.94-2.06-.94 2.06-2.06.94zm-11 1L8.5 8.5l.94-2.06 2.06-.94-2.06-.94L8.5 2.5l-.94 2.06-2.06.94zm10 10l.94 2.06.94-2.06 2.06-.94-2.06-.94-.94-2.06-.94 2.06-2.06.94z\"/><path d=\"M17.41 7.96l-1.37-1.37c-.4-.4-.92-.59-1.43-.59-.52 0-1.04.2-1.43.59L10.3 9.45l-7.72 7.72c-.78.78-.78 2.05 0 2.83L4 21.41c.39.39.9.59 1.41.59.51 0 1.02-.2 1.41-.59l7.78-7.78 2.81-2.81c.8-.78.8-2.07 0-2.86zM5.41 20L4 18.59l7.72-7.72 1.47 1.35L5.41 20z\"/>\n",
              "  </svg>\n",
              "      </button>\n",
              "      \n",
              "  <style>\n",
              "    .colab-df-container {\n",
              "      display:flex;\n",
              "      flex-wrap:wrap;\n",
              "      gap: 12px;\n",
              "    }\n",
              "\n",
              "    .colab-df-convert {\n",
              "      background-color: #E8F0FE;\n",
              "      border: none;\n",
              "      border-radius: 50%;\n",
              "      cursor: pointer;\n",
              "      display: none;\n",
              "      fill: #1967D2;\n",
              "      height: 32px;\n",
              "      padding: 0 0 0 0;\n",
              "      width: 32px;\n",
              "    }\n",
              "\n",
              "    .colab-df-convert:hover {\n",
              "      background-color: #E2EBFA;\n",
              "      box-shadow: 0px 1px 2px rgba(60, 64, 67, 0.3), 0px 1px 3px 1px rgba(60, 64, 67, 0.15);\n",
              "      fill: #174EA6;\n",
              "    }\n",
              "\n",
              "    [theme=dark] .colab-df-convert {\n",
              "      background-color: #3B4455;\n",
              "      fill: #D2E3FC;\n",
              "    }\n",
              "\n",
              "    [theme=dark] .colab-df-convert:hover {\n",
              "      background-color: #434B5C;\n",
              "      box-shadow: 0px 1px 3px 1px rgba(0, 0, 0, 0.15);\n",
              "      filter: drop-shadow(0px 1px 2px rgba(0, 0, 0, 0.3));\n",
              "      fill: #FFFFFF;\n",
              "    }\n",
              "  </style>\n",
              "\n",
              "      <script>\n",
              "        const buttonEl =\n",
              "          document.querySelector('#df-56d92fa9-9094-4343-986e-2113cba669e7 button.colab-df-convert');\n",
              "        buttonEl.style.display =\n",
              "          google.colab.kernel.accessAllowed ? 'block' : 'none';\n",
              "\n",
              "        async function convertToInteractive(key) {\n",
              "          const element = document.querySelector('#df-56d92fa9-9094-4343-986e-2113cba669e7');\n",
              "          const dataTable =\n",
              "            await google.colab.kernel.invokeFunction('convertToInteractive',\n",
              "                                                     [key], {});\n",
              "          if (!dataTable) return;\n",
              "\n",
              "          const docLinkHtml = 'Like what you see? Visit the ' +\n",
              "            '<a target=\"_blank\" href=https://colab.research.google.com/notebooks/data_table.ipynb>data table notebook</a>'\n",
              "            + ' to learn more about interactive tables.';\n",
              "          element.innerHTML = '';\n",
              "          dataTable['output_type'] = 'display_data';\n",
              "          await google.colab.output.renderOutput(dataTable, element);\n",
              "          const docLink = document.createElement('div');\n",
              "          docLink.innerHTML = docLinkHtml;\n",
              "          element.appendChild(docLink);\n",
              "        }\n",
              "      </script>\n",
              "    </div>\n",
              "  </div>\n",
              "  "
            ],
            "text/plain": [
              "   2000-01-31  2000-02-29  2000-03-31  2000-04-30  2000-05-31  2000-06-30  \\\n",
              "0         NaN    0.001071    0.004114    0.008088    0.010265    0.009753   \n",
              "1         NaN   -0.000191    0.001657    0.004755    0.006106    0.006353   \n",
              "2         NaN   -0.000271   -0.001479   -0.000621   -0.000244    0.001708   \n",
              "3         NaN    0.002045    0.002694    0.005524    0.006054    0.005086   \n",
              "4         NaN    0.003930    0.004758    0.010724    0.011464    0.014312   \n",
              "\n",
              "   2000-07-31  2000-08-31  2000-09-30  2000-10-31  ...  2022-05-31  \\\n",
              "0    0.009820    0.010056    0.009273    0.007380  ...    0.010644   \n",
              "1    0.005831    0.008089    0.009300    0.011075  ...    0.007279   \n",
              "2    0.001928    0.002785    0.003620    0.003046  ...    0.015972   \n",
              "3    0.005036    0.004657    0.005236    0.004837  ...    0.019685   \n",
              "4    0.016437    0.017770    0.016425    0.013601  ...    0.019296   \n",
              "\n",
              "   2022-06-30  2022-07-31  2022-08-31  2022-09-30  2022-10-31  2022-11-30  \\\n",
              "0    0.006266    0.002963   -0.001737   -0.004183   -0.004462   -0.002977   \n",
              "1    0.002984   -0.002261   -0.004706   -0.007435   -0.006301   -0.002833   \n",
              "2    0.013801    0.009635    0.004303    0.000107   -0.001417   -0.001683   \n",
              "3    0.016255    0.008282   -0.000960   -0.009167   -0.012097   -0.013316   \n",
              "4    0.010521    0.000542   -0.008116   -0.013517   -0.012443   -0.009640   \n",
              "\n",
              "   2022-12-31  2023-01-31   Mean  \n",
              "0   -0.003894   -0.008745  0.005  \n",
              "1   -0.002704    0.002236  0.003  \n",
              "2   -0.004085   -0.006093  0.003  \n",
              "3   -0.014361   -0.011766  0.004  \n",
              "4   -0.008416   -0.008202  0.005  \n",
              "\n",
              "[5 rows x 278 columns]"
            ]
          },
          "execution_count": 6,
          "metadata": {},
          "output_type": "execute_result"
        }
      ],
      "source": [
        "change_df['Mean'] = change_df.mean(axis = 1).round(decimals = 3)\n",
        "change_df.head()"
      ]
    },
    {
      "cell_type": "code",
      "execution_count": null,
      "metadata": {
        "colab": {
          "base_uri": "https://localhost:8080/",
          "height": 266
        },
        "id": "dR9sw6ummQ5X",
        "outputId": "f73bdd61-ab49-45c1-acc4-5f35ac52ae11"
      },
      "outputs": [
        {
          "data": {
            "text/plain": [
              "<matplotlib.axes._subplots.AxesSubplot at 0x7f95eebbf610>"
            ]
          },
          "execution_count": 7,
          "metadata": {},
          "output_type": "execute_result"
        },
        {
          "data": {
            "image/png": "[encoded data removed]",
            "text/plain": [
              "<Figure size 432x288 with 1 Axes>"
            ]
          },
          "metadata": {},
          "output_type": "display_data"
        }
      ],
      "source": [
        "change_df['Mean'].value_counts().plot.pie()"
      ]
    },
    {
      "cell_type": "code",
      "execution_count": null,
      "metadata": {
        "colab": {
          "base_uri": "https://localhost:8080/",
          "height": 421
        },
        "id": "RZbKg3wgGDi0",
        "outputId": "fa245501-d71f-45ba-d101-d680679cb092"
      },
      "outputs": [
        {
          "data": {
            "text/html": [
              "\n",
              "  <div id=\"df-07ad083d-4a1e-4c33-aec9-277de712d077\">\n",
              "    <div class=\"colab-df-container\">\n",
              "      <div>\n",
              "<style scoped>\n",
              "    .dataframe tbody tr th:only-of-type {\n",
              "        vertical-align: middle;\n",
              "    }\n",
              "\n",
              "    .dataframe tbody tr th {\n",
              "        vertical-align: top;\n",
              "    }\n",
              "\n",
              "    .dataframe thead th {\n",
              "        text-align: right;\n",
              "    }\n",
              "</style>\n",
              "<table border=\"1\" class=\"dataframe\">\n",
              "  <thead>\n",
              "    <tr style=\"text-align: right;\">\n",
              "      <th></th>\n",
              "      <th>2000-01-31</th>\n",
              "      <th>2000-02-29</th>\n",
              "      <th>2000-03-31</th>\n",
              "      <th>2000-04-30</th>\n",
              "      <th>2000-05-31</th>\n",
              "      <th>2000-06-30</th>\n",
              "      <th>2000-07-31</th>\n",
              "      <th>2000-08-31</th>\n",
              "      <th>2000-09-30</th>\n",
              "      <th>2000-10-31</th>\n",
              "      <th>...</th>\n",
              "      <th>2022-05-31</th>\n",
              "      <th>2022-06-30</th>\n",
              "      <th>2022-07-31</th>\n",
              "      <th>2022-08-31</th>\n",
              "      <th>2022-09-30</th>\n",
              "      <th>2022-10-31</th>\n",
              "      <th>2022-11-30</th>\n",
              "      <th>2022-12-31</th>\n",
              "      <th>2023-01-31</th>\n",
              "      <th>Y</th>\n",
              "    </tr>\n",
              "  </thead>\n",
              "  <tbody>\n",
              "    <tr>\n",
              "      <th>0</th>\n",
              "      <td>201160.880491</td>\n",
              "      <td>201376.294939</td>\n",
              "      <td>202204.760878</td>\n",
              "      <td>203840.218061</td>\n",
              "      <td>205932.549781</td>\n",
              "      <td>207941.104745</td>\n",
              "      <td>209983.041983</td>\n",
              "      <td>212094.583933</td>\n",
              "      <td>214061.310244</td>\n",
              "      <td>215641.163325</td>\n",
              "      <td>...</td>\n",
              "      <td>822431.376391</td>\n",
              "      <td>8.275846e+05</td>\n",
              "      <td>8.300369e+05</td>\n",
              "      <td>8.285948e+05</td>\n",
              "      <td>825129.195530</td>\n",
              "      <td>821447.712758</td>\n",
              "      <td>819001.945987</td>\n",
              "      <td>815813.142567</td>\n",
              "      <td>808678.647857</td>\n",
              "      <td>Los Angeles County</td>\n",
              "    </tr>\n",
              "    <tr>\n",
              "      <th>1</th>\n",
              "      <td>132825.754108</td>\n",
              "      <td>132800.343980</td>\n",
              "      <td>133020.447052</td>\n",
              "      <td>133653.020987</td>\n",
              "      <td>134469.131120</td>\n",
              "      <td>135323.411224</td>\n",
              "      <td>136112.538960</td>\n",
              "      <td>137213.559502</td>\n",
              "      <td>138489.650689</td>\n",
              "      <td>140023.455159</td>\n",
              "      <td>...</td>\n",
              "      <td>282556.258884</td>\n",
              "      <td>2.833994e+05</td>\n",
              "      <td>2.827586e+05</td>\n",
              "      <td>2.814281e+05</td>\n",
              "      <td>279335.719049</td>\n",
              "      <td>277575.708756</td>\n",
              "      <td>276789.412421</td>\n",
              "      <td>276040.906854</td>\n",
              "      <td>276658.122961</td>\n",
              "      <td>Cook County</td>\n",
              "    </tr>\n",
              "    <tr>\n",
              "      <th>2</th>\n",
              "      <td>104596.806928</td>\n",
              "      <td>104568.422018</td>\n",
              "      <td>104413.769758</td>\n",
              "      <td>104348.877864</td>\n",
              "      <td>104323.438664</td>\n",
              "      <td>104501.606653</td>\n",
              "      <td>104703.128333</td>\n",
              "      <td>104994.747034</td>\n",
              "      <td>105374.879723</td>\n",
              "      <td>105695.812200</td>\n",
              "      <td>...</td>\n",
              "      <td>269412.445906</td>\n",
              "      <td>2.731306e+05</td>\n",
              "      <td>2.757622e+05</td>\n",
              "      <td>2.769489e+05</td>\n",
              "      <td>276978.432118</td>\n",
              "      <td>276585.996347</td>\n",
              "      <td>276120.477385</td>\n",
              "      <td>274992.553186</td>\n",
              "      <td>273317.012108</td>\n",
              "      <td>Harris County</td>\n",
              "    </tr>\n",
              "    <tr>\n",
              "      <th>4</th>\n",
              "      <td>207968.566822</td>\n",
              "      <td>208785.884184</td>\n",
              "      <td>209779.381219</td>\n",
              "      <td>212029.096109</td>\n",
              "      <td>214459.817224</td>\n",
              "      <td>217529.135884</td>\n",
              "      <td>221104.735244</td>\n",
              "      <td>225033.796022</td>\n",
              "      <td>228729.881085</td>\n",
              "      <td>231840.754632</td>\n",
              "      <td>...</td>\n",
              "      <td>864259.328619</td>\n",
              "      <td>8.733524e+05</td>\n",
              "      <td>8.738255e+05</td>\n",
              "      <td>8.667336e+05</td>\n",
              "      <td>855018.047342</td>\n",
              "      <td>844378.996804</td>\n",
              "      <td>836239.400659</td>\n",
              "      <td>829201.659955</td>\n",
              "      <td>822400.646686</td>\n",
              "      <td>San Diego County</td>\n",
              "    </tr>\n",
              "    <tr>\n",
              "      <th>5</th>\n",
              "      <td>245218.565050</td>\n",
              "      <td>247375.831940</td>\n",
              "      <td>248907.523248</td>\n",
              "      <td>252042.132435</td>\n",
              "      <td>254749.820041</td>\n",
              "      <td>257616.876737</td>\n",
              "      <td>260564.955656</td>\n",
              "      <td>263461.624178</td>\n",
              "      <td>266329.317777</td>\n",
              "      <td>269388.719094</td>\n",
              "      <td>...</td>\n",
              "      <td>996085.381923</td>\n",
              "      <td>1.005477e+06</td>\n",
              "      <td>1.005832e+06</td>\n",
              "      <td>1.000694e+06</td>\n",
              "      <td>993181.031151</td>\n",
              "      <td>988627.402185</td>\n",
              "      <td>985263.822026</td>\n",
              "      <td>980739.167763</td>\n",
              "      <td>971399.859295</td>\n",
              "      <td>Orange County</td>\n",
              "    </tr>\n",
              "  </tbody>\n",
              "</table>\n",
              "<p>5 rows × 278 columns</p>\n",
              "</div>\n",
              "      <button class=\"colab-df-convert\" onclick=\"convertToInteractive('df-07ad083d-4a1e-4c33-aec9-277de712d077')\"\n",
              "              title=\"Convert this dataframe to an interactive table.\"\n",
              "              style=\"display:none;\">\n",
              "        \n",
              "  <svg xmlns=\"http://www.w3.org/2000/svg\" height=\"24px\"viewBox=\"0 0 24 24\"\n",
              "       width=\"24px\">\n",
              "    <path d=\"M0 0h24v24H0V0z\" fill=\"none\"/>\n",
              "    <path d=\"M18.56 5.44l.94 2.06.94-2.06 2.06-.94-2.06-.94-.94-2.06-.94 2.06-2.06.94zm-11 1L8.5 8.5l.94-2.06 2.06-.94-2.06-.94L8.5 2.5l-.94 2.06-2.06.94zm10 10l.94 2.06.94-2.06 2.06-.94-2.06-.94-.94-2.06-.94 2.06-2.06.94z\"/><path d=\"M17.41 7.96l-1.37-1.37c-.4-.4-.92-.59-1.43-.59-.52 0-1.04.2-1.43.59L10.3 9.45l-7.72 7.72c-.78.78-.78 2.05 0 2.83L4 21.41c.39.39.9.59 1.41.59.51 0 1.02-.2 1.41-.59l7.78-7.78 2.81-2.81c.8-.78.8-2.07 0-2.86zM5.41 20L4 18.59l7.72-7.72 1.47 1.35L5.41 20z\"/>\n",
              "  </svg>\n",
              "      </button>\n",
              "      \n",
              "  <style>\n",
              "    .colab-df-container {\n",
              "      display:flex;\n",
              "      flex-wrap:wrap;\n",
              "      gap: 12px;\n",
              "    }\n",
              "\n",
              "    .colab-df-convert {\n",
              "      background-color: #E8F0FE;\n",
              "      border: none;\n",
              "      border-radius: 50%;\n",
              "      cursor: pointer;\n",
              "      display: none;\n",
              "      fill: #1967D2;\n",
              "      height: 32px;\n",
              "      padding: 0 0 0 0;\n",
              "      width: 32px;\n",
              "    }\n",
              "\n",
              "    .colab-df-convert:hover {\n",
              "      background-color: #E2EBFA;\n",
              "      box-shadow: 0px 1px 2px rgba(60, 64, 67, 0.3), 0px 1px 3px 1px rgba(60, 64, 67, 0.15);\n",
              "      fill: #174EA6;\n",
              "    }\n",
              "\n",
              "    [theme=dark] .colab-df-convert {\n",
              "      background-color: #3B4455;\n",
              "      fill: #D2E3FC;\n",
              "    }\n",
              "\n",
              "    [theme=dark] .colab-df-convert:hover {\n",
              "      background-color: #434B5C;\n",
              "      box-shadow: 0px 1px 3px 1px rgba(0, 0, 0, 0.15);\n",
              "      filter: drop-shadow(0px 1px 2px rgba(0, 0, 0, 0.3));\n",
              "      fill: #FFFFFF;\n",
              "    }\n",
              "  </style>\n",
              "\n",
              "      <script>\n",
              "        const buttonEl =\n",
              "          document.querySelector('#df-07ad083d-4a1e-4c33-aec9-277de712d077 button.colab-df-convert');\n",
              "        buttonEl.style.display =\n",
              "          google.colab.kernel.accessAllowed ? 'block' : 'none';\n",
              "\n",
              "        async function convertToInteractive(key) {\n",
              "          const element = document.querySelector('#df-07ad083d-4a1e-4c33-aec9-277de712d077');\n",
              "          const dataTable =\n",
              "            await google.colab.kernel.invokeFunction('convertToInteractive',\n",
              "                                                     [key], {});\n",
              "          if (!dataTable) return;\n",
              "\n",
              "          const docLinkHtml = 'Like what you see? Visit the ' +\n",
              "            '<a target=\"_blank\" href=https://colab.research.google.com/notebooks/data_table.ipynb>data table notebook</a>'\n",
              "            + ' to learn more about interactive tables.';\n",
              "          element.innerHTML = '';\n",
              "          dataTable['output_type'] = 'display_data';\n",
              "          await google.colab.output.renderOutput(dataTable, element);\n",
              "          const docLink = document.createElement('div');\n",
              "          docLink.innerHTML = docLinkHtml;\n",
              "          element.appendChild(docLink);\n",
              "        }\n",
              "      </script>\n",
              "    </div>\n",
              "  </div>\n",
              "  "
            ],
            "text/plain": [
              "      2000-01-31     2000-02-29     2000-03-31     2000-04-30     2000-05-31  \\\n",
              "0  201160.880491  201376.294939  202204.760878  203840.218061  205932.549781   \n",
              "1  132825.754108  132800.343980  133020.447052  133653.020987  134469.131120   \n",
              "2  104596.806928  104568.422018  104413.769758  104348.877864  104323.438664   \n",
              "4  207968.566822  208785.884184  209779.381219  212029.096109  214459.817224   \n",
              "5  245218.565050  247375.831940  248907.523248  252042.132435  254749.820041   \n",
              "\n",
              "      2000-06-30     2000-07-31     2000-08-31     2000-09-30     2000-10-31  \\\n",
              "0  207941.104745  209983.041983  212094.583933  214061.310244  215641.163325   \n",
              "1  135323.411224  136112.538960  137213.559502  138489.650689  140023.455159   \n",
              "2  104501.606653  104703.128333  104994.747034  105374.879723  105695.812200   \n",
              "4  217529.135884  221104.735244  225033.796022  228729.881085  231840.754632   \n",
              "5  257616.876737  260564.955656  263461.624178  266329.317777  269388.719094   \n",
              "\n",
              "   ...     2022-05-31    2022-06-30    2022-07-31    2022-08-31  \\\n",
              "0  ...  822431.376391  8.275846e+05  8.300369e+05  8.285948e+05   \n",
              "1  ...  282556.258884  2.833994e+05  2.827586e+05  2.814281e+05   \n",
              "2  ...  269412.445906  2.731306e+05  2.757622e+05  2.769489e+05   \n",
              "4  ...  864259.328619  8.733524e+05  8.738255e+05  8.667336e+05   \n",
              "5  ...  996085.381923  1.005477e+06  1.005832e+06  1.000694e+06   \n",
              "\n",
              "      2022-09-30     2022-10-31     2022-11-30     2022-12-31     2023-01-31  \\\n",
              "0  825129.195530  821447.712758  819001.945987  815813.142567  808678.647857   \n",
              "1  279335.719049  277575.708756  276789.412421  276040.906854  276658.122961   \n",
              "2  276978.432118  276585.996347  276120.477385  274992.553186  273317.012108   \n",
              "4  855018.047342  844378.996804  836239.400659  829201.659955  822400.646686   \n",
              "5  993181.031151  988627.402185  985263.822026  980739.167763  971399.859295   \n",
              "\n",
              "                    Y  \n",
              "0  Los Angeles County  \n",
              "1         Cook County  \n",
              "2       Harris County  \n",
              "4    San Diego County  \n",
              "5       Orange County  \n",
              "\n",
              "[5 rows x 278 columns]"
            ]
          },
          "execution_count": 8,
          "metadata": {},
          "output_type": "execute_result"
        }
      ],
      "source": [
        "train_df = df.iloc[:,9:]\n",
        "train_df['Y'] = df['RegionName']\n",
        "train_df = train_df.dropna()\n",
        "train_df.head()"
      ]
    },
    {
      "cell_type": "code",
      "execution_count": null,
      "metadata": {
        "id": "6XPyOzGRGRMO"
      },
      "outputs": [],
      "source": [
        "from sklearn.model_selection import train_test_split\n",
        "train_df_y = train_df['Y']\n",
        "train_df = train_df.drop('Y', axis = 1)\n",
        "X_train, X_test, Y_train, Y_test = train_test_split(train_df,train_df_y, test_size=0.33, random_state=4)\n"
      ]
    },
    {
      "cell_type": "markdown",
      "metadata": {
        "id": "V_OGLFyH23qr"
      },
      "source": [
        "### Applying Fractal Clustering"
      ]
    },
    {
      "cell_type": "code",
      "execution_count": null,
      "metadata": {
        "id": "X4KqipH229n-"
      },
      "outputs": [],
      "source": [
        "from sklearn.preprocessing import RobustScaler\n",
        "from sklearn.cluster import KMeans\n",
        "from sklearn import metrics"
      ]
    },
    {
      "cell_type": "markdown",
      "metadata": {
        "id": "iotR4zC8x25n"
      },
      "source": [
        "**UTILITIES**"
      ]
    },
    {
      "cell_type": "code",
      "execution_count": null,
      "metadata": {
        "id": "Yxnx4xtq3DyH"
      },
      "outputs": [],
      "source": [
        "def plot_cluster(df, max_loop=50):\n",
        "    try:\n",
        "        df.drop('cluster', axis=1, inplace=True)\n",
        "    except:\n",
        "        next\n",
        "    X = df.iloc[:,1:]\n",
        "    rb = RobustScaler()\n",
        "    X_rb = rb.fit_transform(X)\n",
        "    \n",
        "    sse_within_cluster = {}\n",
        "    silhouette_score = {}\n",
        "    \n",
        "    for k in range(2, max_loop):\n",
        "        kmeans = KMeans(n_clusters=k,  random_state=10, n_init=10)\n",
        "        kmeans.fit(X_rb)\n",
        "        sse_within_cluster[k] = kmeans.inertia_\n",
        "        silhouette_score[k] = metrics.silhouette_score(X_rb, kmeans.labels_, random_state=10)\n",
        "\n",
        "    _ = plt.figure(figsize=(10,6))\n",
        "    ax1 = plt.subplot(211)\n",
        "    _ = plt.plot(list(sse_within_cluster.keys()), list(sse_within_cluster.values()))\n",
        "    _ = plt.xlabel(\"Number of Clusters\")\n",
        "    _ = plt.ylabel(\"SSE Within Cluster\")\n",
        "    _ = plt.title(\"Within Cluster SSE After K-Means Clustering\")\n",
        "    _ = plt.xticks([i for i in range(2, max_loop)], rotation=75)\n",
        "    \n",
        "    ax2 = plt.subplot(212)\n",
        "    _ = plt.plot(list(silhouette_score.keys()), list(silhouette_score.values()))\n",
        "    _ = plt.xlabel(\"Number of Clusters\")\n",
        "    _ = plt.ylabel(\"Silhouette Score\")\n",
        "    _ = plt.title(\"Silhouette Score After K-Means Clustering\")\n",
        "    _ = plt.xticks([i for i in range(2, max_loop)], rotation=75)\n",
        "    \n",
        "    plt.subplots_adjust(top=0.92, bottom=0.08, left=0.10, right=0.95, hspace=0.5, wspace=0.35)\n"
      ]
    },
    {
      "cell_type": "code",
      "execution_count": null,
      "metadata": {
        "id": "_BSV4chD9lbA"
      },
      "outputs": [],
      "source": [
        "def apply_cluster(df, clusters=2):\n",
        "    try:\n",
        "        df.drop('cluster', axis=1, inplace=True)\n",
        "    except:\n",
        "        next\n",
        "    X = df.iloc[:,1:]\n",
        "    rb = RobustScaler()\n",
        "    X_rb = rb.fit_transform(X)\n",
        "    kmeans = KMeans(n_clusters=clusters, random_state=10, n_init=10)  \n",
        "    kmeans.fit(X_rb) \n",
        "    score = metrics.silhouette_score(X_rb, kmeans.labels_, random_state=10)\n",
        "    df['cluster'] = kmeans.labels_\n",
        "    sse_within_cluster = kmeans.inertia_\n",
        "    \n",
        "    print(\"clustering performance\")\n",
        "    print(\"-----------------------------------\")\n",
        "    print(\"silhouette score: \" + str(score.round(2)))\n",
        "    print(\"sse withing cluster: \" + str(sse_within_cluster))\n",
        "    \n",
        "    return df"
      ]
    },
    {
      "cell_type": "code",
      "execution_count": null,
      "metadata": {
        "id": "NfIgdxTXNJGv"
      },
      "outputs": [],
      "source": [
        "change_df_train = change_df.iloc[:,1:].dropna().drop('Mean',axis=1)"
      ]
    },
    {
      "cell_type": "markdown",
      "metadata": {
        "id": "gJZd9iWKwkBp"
      },
      "source": [
        "For every iteration we will do the following - \n",
        "\n",
        "*   Performing K-Means for 2 to 24 clusters and ploting the SSE and Silhouette Score.\n",
        "*   Applying K-Means with the optimal number of clusters.\n",
        "*   Checking the Skewdness of the clusters.\n",
        "*   Adding Colors and RegionName to our dataframe.\n",
        "*   Ploting the clusters on a scatter plot.\n",
        "\n"
      ]
    },
    {
      "cell_type": "markdown",
      "metadata": {
        "id": "FPh7d8Y7Q2mt"
      },
      "source": [
        "#### First Iteration"
      ]
    },
    {
      "cell_type": "code",
      "execution_count": null,
      "metadata": {
        "colab": {
          "base_uri": "https://localhost:8080/",
          "height": 446
        },
        "id": "myrTL3zS3n_G",
        "outputId": "dc6aadfe-1ea8-4d4e-895a-2318ae94cc70"
      },
      "outputs": [
        {
          "data": {
            "image/png": "[encoded data removed]",
            "text/plain": [
              "<Figure size 720x432 with 2 Axes>"
            ]
          },
          "metadata": {},
          "output_type": "display_data"
        }
      ],
      "source": [
        "\n",
        "plot_cluster(change_df_train, max_loop=25)"
      ]
    },
    {
      "cell_type": "markdown",
      "metadata": {
        "id": "X_zmuYiExmjQ"
      },
      "source": [
        "**Optimal Cluster** is 3."
      ]
    },
    {
      "cell_type": "code",
      "execution_count": null,
      "metadata": {
        "colab": {
          "base_uri": "https://localhost:8080/"
        },
        "id": "CaaRYYye6sHZ",
        "outputId": "f9b35f25-4906-4890-c2e3-6ca9064f5b27"
      },
      "outputs": [
        {
          "name": "stdout",
          "output_type": "stream",
          "text": [
            "clustering performance\n",
            "-----------------------------------\n",
            "silhouette score: 0.16\n",
            "sse withing cluster: 307957.3514072577\n"
          ]
        }
      ],
      "source": [
        "first_trial = apply_cluster(change_df_train, clusters=3)"
      ]
    },
    {
      "cell_type": "code",
      "execution_count": null,
      "metadata": {
        "colab": {
          "base_uri": "https://localhost:8080/"
        },
        "id": "ItgDPjUyCaFO",
        "outputId": "f313b0ce-f4a3-42fe-cc69-363b9b038f36"
      },
      "outputs": [
        {
          "data": {
            "text/plain": [
              "cluster  cluster\n",
              "0        0          786\n",
              "1        1          249\n",
              "2        2            1\n",
              "Name: cluster, dtype: int64"
            ]
          },
          "execution_count": 156,
          "metadata": {},
          "output_type": "execute_result"
        }
      ],
      "source": [
        "cluster_perf_df = first_trial.groupby('cluster')\n",
        "cluster_perf_df['cluster'].value_counts()"
      ]
    },
    {
      "cell_type": "code",
      "execution_count": null,
      "metadata": {
        "colab": {
          "base_uri": "https://localhost:8080/",
          "height": 438
        },
        "id": "ukn5DrXwMTEp",
        "outputId": "c14957ab-ddfa-4faf-cc0f-f21f57207307"
      },
      "outputs": [
        {
          "data": {
            "text/html": [
              "\n",
              "  <div id=\"df-1626362d-4dc3-4645-9016-9e031bf56b25\">\n",
              "    <div class=\"colab-df-container\">\n",
              "      <div>\n",
              "<style scoped>\n",
              "    .dataframe tbody tr th:only-of-type {\n",
              "        vertical-align: middle;\n",
              "    }\n",
              "\n",
              "    .dataframe tbody tr th {\n",
              "        vertical-align: top;\n",
              "    }\n",
              "\n",
              "    .dataframe thead th {\n",
              "        text-align: right;\n",
              "    }\n",
              "</style>\n",
              "<table border=\"1\" class=\"dataframe\">\n",
              "  <thead>\n",
              "    <tr style=\"text-align: right;\">\n",
              "      <th></th>\n",
              "      <th>2000-02-29</th>\n",
              "      <th>2000-03-31</th>\n",
              "      <th>2000-04-30</th>\n",
              "      <th>2000-05-31</th>\n",
              "      <th>2000-06-30</th>\n",
              "      <th>2000-07-31</th>\n",
              "      <th>2000-08-31</th>\n",
              "      <th>2000-09-30</th>\n",
              "      <th>2000-10-31</th>\n",
              "      <th>2000-11-30</th>\n",
              "      <th>...</th>\n",
              "      <th>2022-07-31</th>\n",
              "      <th>2022-08-31</th>\n",
              "      <th>2022-09-30</th>\n",
              "      <th>2022-10-31</th>\n",
              "      <th>2022-11-30</th>\n",
              "      <th>2022-12-31</th>\n",
              "      <th>2023-01-31</th>\n",
              "      <th>cluster</th>\n",
              "      <th>c</th>\n",
              "      <th>Y</th>\n",
              "    </tr>\n",
              "  </thead>\n",
              "  <tbody>\n",
              "    <tr>\n",
              "      <th>0</th>\n",
              "      <td>0.001071</td>\n",
              "      <td>0.004114</td>\n",
              "      <td>0.008088</td>\n",
              "      <td>0.010265</td>\n",
              "      <td>0.009753</td>\n",
              "      <td>0.009820</td>\n",
              "      <td>0.010056</td>\n",
              "      <td>0.009273</td>\n",
              "      <td>0.007380</td>\n",
              "      <td>0.006706</td>\n",
              "      <td>...</td>\n",
              "      <td>0.002963</td>\n",
              "      <td>-0.001737</td>\n",
              "      <td>-0.004183</td>\n",
              "      <td>-0.004462</td>\n",
              "      <td>-0.002977</td>\n",
              "      <td>-0.003894</td>\n",
              "      <td>-0.008745</td>\n",
              "      <td>1</td>\n",
              "      <td>#81DF20</td>\n",
              "      <td>Los Angeles County</td>\n",
              "    </tr>\n",
              "    <tr>\n",
              "      <th>1</th>\n",
              "      <td>-0.000191</td>\n",
              "      <td>0.001657</td>\n",
              "      <td>0.004755</td>\n",
              "      <td>0.006106</td>\n",
              "      <td>0.006353</td>\n",
              "      <td>0.005831</td>\n",
              "      <td>0.008089</td>\n",
              "      <td>0.009300</td>\n",
              "      <td>0.011075</td>\n",
              "      <td>0.012412</td>\n",
              "      <td>...</td>\n",
              "      <td>-0.002261</td>\n",
              "      <td>-0.004706</td>\n",
              "      <td>-0.007435</td>\n",
              "      <td>-0.006301</td>\n",
              "      <td>-0.002833</td>\n",
              "      <td>-0.002704</td>\n",
              "      <td>0.002236</td>\n",
              "      <td>1</td>\n",
              "      <td>#81DF20</td>\n",
              "      <td>Cook County</td>\n",
              "    </tr>\n",
              "    <tr>\n",
              "      <th>2</th>\n",
              "      <td>-0.000271</td>\n",
              "      <td>-0.001479</td>\n",
              "      <td>-0.000621</td>\n",
              "      <td>-0.000244</td>\n",
              "      <td>0.001708</td>\n",
              "      <td>0.001928</td>\n",
              "      <td>0.002785</td>\n",
              "      <td>0.003620</td>\n",
              "      <td>0.003046</td>\n",
              "      <td>0.004928</td>\n",
              "      <td>...</td>\n",
              "      <td>0.009635</td>\n",
              "      <td>0.004303</td>\n",
              "      <td>0.000107</td>\n",
              "      <td>-0.001417</td>\n",
              "      <td>-0.001683</td>\n",
              "      <td>-0.004085</td>\n",
              "      <td>-0.006093</td>\n",
              "      <td>0</td>\n",
              "      <td>#DF2020</td>\n",
              "      <td>Harris County</td>\n",
              "    </tr>\n",
              "    <tr>\n",
              "      <th>3</th>\n",
              "      <td>0.002045</td>\n",
              "      <td>0.002694</td>\n",
              "      <td>0.005524</td>\n",
              "      <td>0.006054</td>\n",
              "      <td>0.005086</td>\n",
              "      <td>0.005036</td>\n",
              "      <td>0.004657</td>\n",
              "      <td>0.005236</td>\n",
              "      <td>0.004837</td>\n",
              "      <td>0.004863</td>\n",
              "      <td>...</td>\n",
              "      <td>0.008282</td>\n",
              "      <td>-0.000960</td>\n",
              "      <td>-0.009167</td>\n",
              "      <td>-0.012097</td>\n",
              "      <td>-0.013316</td>\n",
              "      <td>-0.014361</td>\n",
              "      <td>-0.011766</td>\n",
              "      <td>1</td>\n",
              "      <td>#81DF20</td>\n",
              "      <td>Maricopa County</td>\n",
              "    </tr>\n",
              "    <tr>\n",
              "      <th>4</th>\n",
              "      <td>0.003930</td>\n",
              "      <td>0.004758</td>\n",
              "      <td>0.010724</td>\n",
              "      <td>0.011464</td>\n",
              "      <td>0.014312</td>\n",
              "      <td>0.016437</td>\n",
              "      <td>0.017770</td>\n",
              "      <td>0.016425</td>\n",
              "      <td>0.013601</td>\n",
              "      <td>0.013024</td>\n",
              "      <td>...</td>\n",
              "      <td>0.000542</td>\n",
              "      <td>-0.008116</td>\n",
              "      <td>-0.013517</td>\n",
              "      <td>-0.012443</td>\n",
              "      <td>-0.009640</td>\n",
              "      <td>-0.008416</td>\n",
              "      <td>-0.008202</td>\n",
              "      <td>1</td>\n",
              "      <td>#81DF20</td>\n",
              "      <td>San Diego County</td>\n",
              "    </tr>\n",
              "  </tbody>\n",
              "</table>\n",
              "<p>5 rows × 279 columns</p>\n",
              "</div>\n",
              "      <button class=\"colab-df-convert\" onclick=\"convertToInteractive('df-1626362d-4dc3-4645-9016-9e031bf56b25')\"\n",
              "              title=\"Convert this dataframe to an interactive table.\"\n",
              "              style=\"display:none;\">\n",
              "        \n",
              "  <svg xmlns=\"http://www.w3.org/2000/svg\" height=\"24px\"viewBox=\"0 0 24 24\"\n",
              "       width=\"24px\">\n",
              "    <path d=\"M0 0h24v24H0V0z\" fill=\"none\"/>\n",
              "    <path d=\"M18.56 5.44l.94 2.06.94-2.06 2.06-.94-2.06-.94-.94-2.06-.94 2.06-2.06.94zm-11 1L8.5 8.5l.94-2.06 2.06-.94-2.06-.94L8.5 2.5l-.94 2.06-2.06.94zm10 10l.94 2.06.94-2.06 2.06-.94-2.06-.94-.94-2.06-.94 2.06-2.06.94z\"/><path d=\"M17.41 7.96l-1.37-1.37c-.4-.4-.92-.59-1.43-.59-.52 0-1.04.2-1.43.59L10.3 9.45l-7.72 7.72c-.78.78-.78 2.05 0 2.83L4 21.41c.39.39.9.59 1.41.59.51 0 1.02-.2 1.41-.59l7.78-7.78 2.81-2.81c.8-.78.8-2.07 0-2.86zM5.41 20L4 18.59l7.72-7.72 1.47 1.35L5.41 20z\"/>\n",
              "  </svg>\n",
              "      </button>\n",
              "      \n",
              "  <style>\n",
              "    .colab-df-container {\n",
              "      display:flex;\n",
              "      flex-wrap:wrap;\n",
              "      gap: 12px;\n",
              "    }\n",
              "\n",
              "    .colab-df-convert {\n",
              "      background-color: #E8F0FE;\n",
              "      border: none;\n",
              "      border-radius: 50%;\n",
              "      cursor: pointer;\n",
              "      display: none;\n",
              "      fill: #1967D2;\n",
              "      height: 32px;\n",
              "      padding: 0 0 0 0;\n",
              "      width: 32px;\n",
              "    }\n",
              "\n",
              "    .colab-df-convert:hover {\n",
              "      background-color: #E2EBFA;\n",
              "      box-shadow: 0px 1px 2px rgba(60, 64, 67, 0.3), 0px 1px 3px 1px rgba(60, 64, 67, 0.15);\n",
              "      fill: #174EA6;\n",
              "    }\n",
              "\n",
              "    [theme=dark] .colab-df-convert {\n",
              "      background-color: #3B4455;\n",
              "      fill: #D2E3FC;\n",
              "    }\n",
              "\n",
              "    [theme=dark] .colab-df-convert:hover {\n",
              "      background-color: #434B5C;\n",
              "      box-shadow: 0px 1px 3px 1px rgba(0, 0, 0, 0.15);\n",
              "      filter: drop-shadow(0px 1px 2px rgba(0, 0, 0, 0.3));\n",
              "      fill: #FFFFFF;\n",
              "    }\n",
              "  </style>\n",
              "\n",
              "      <script>\n",
              "        const buttonEl =\n",
              "          document.querySelector('#df-1626362d-4dc3-4645-9016-9e031bf56b25 button.colab-df-convert');\n",
              "        buttonEl.style.display =\n",
              "          google.colab.kernel.accessAllowed ? 'block' : 'none';\n",
              "\n",
              "        async function convertToInteractive(key) {\n",
              "          const element = document.querySelector('#df-1626362d-4dc3-4645-9016-9e031bf56b25');\n",
              "          const dataTable =\n",
              "            await google.colab.kernel.invokeFunction('convertToInteractive',\n",
              "                                                     [key], {});\n",
              "          if (!dataTable) return;\n",
              "\n",
              "          const docLinkHtml = 'Like what you see? Visit the ' +\n",
              "            '<a target=\"_blank\" href=https://colab.research.google.com/notebooks/data_table.ipynb>data table notebook</a>'\n",
              "            + ' to learn more about interactive tables.';\n",
              "          element.innerHTML = '';\n",
              "          dataTable['output_type'] = 'display_data';\n",
              "          await google.colab.output.renderOutput(dataTable, element);\n",
              "          const docLink = document.createElement('div');\n",
              "          docLink.innerHTML = docLinkHtml;\n",
              "          element.appendChild(docLink);\n",
              "        }\n",
              "      </script>\n",
              "    </div>\n",
              "  </div>\n",
              "  "
            ],
            "text/plain": [
              "   2000-02-29  2000-03-31  2000-04-30  2000-05-31  2000-06-30  2000-07-31  \\\n",
              "0    0.001071    0.004114    0.008088    0.010265    0.009753    0.009820   \n",
              "1   -0.000191    0.001657    0.004755    0.006106    0.006353    0.005831   \n",
              "2   -0.000271   -0.001479   -0.000621   -0.000244    0.001708    0.001928   \n",
              "3    0.002045    0.002694    0.005524    0.006054    0.005086    0.005036   \n",
              "4    0.003930    0.004758    0.010724    0.011464    0.014312    0.016437   \n",
              "\n",
              "   2000-08-31  2000-09-30  2000-10-31  2000-11-30  ...  2022-07-31  \\\n",
              "0    0.010056    0.009273    0.007380    0.006706  ...    0.002963   \n",
              "1    0.008089    0.009300    0.011075    0.012412  ...   -0.002261   \n",
              "2    0.002785    0.003620    0.003046    0.004928  ...    0.009635   \n",
              "3    0.004657    0.005236    0.004837    0.004863  ...    0.008282   \n",
              "4    0.017770    0.016425    0.013601    0.013024  ...    0.000542   \n",
              "\n",
              "   2022-08-31  2022-09-30  2022-10-31  2022-11-30  2022-12-31  2023-01-31  \\\n",
              "0   -0.001737   -0.004183   -0.004462   -0.002977   -0.003894   -0.008745   \n",
              "1   -0.004706   -0.007435   -0.006301   -0.002833   -0.002704    0.002236   \n",
              "2    0.004303    0.000107   -0.001417   -0.001683   -0.004085   -0.006093   \n",
              "3   -0.000960   -0.009167   -0.012097   -0.013316   -0.014361   -0.011766   \n",
              "4   -0.008116   -0.013517   -0.012443   -0.009640   -0.008416   -0.008202   \n",
              "\n",
              "   cluster        c                   Y  \n",
              "0        1  #81DF20  Los Angeles County  \n",
              "1        1  #81DF20         Cook County  \n",
              "2        0  #DF2020       Harris County  \n",
              "3        1  #81DF20     Maricopa County  \n",
              "4        1  #81DF20    San Diego County  \n",
              "\n",
              "[5 rows x 279 columns]"
            ]
          },
          "execution_count": 157,
          "metadata": {},
          "output_type": "execute_result"
        }
      ],
      "source": [
        "colors = ['#DF2020', '#81DF20', '#2095DF']\n",
        "first_trial['c'] = first_trial.cluster.map({0:colors[0], 1:colors[1], 2:colors[2]})\n",
        "first_trial['Y'] = df['RegionName']\n",
        "first_trial.head()"
      ]
    },
    {
      "cell_type": "code",
      "execution_count": null,
      "metadata": {
        "colab": {
          "base_uri": "https://localhost:8080/",
          "height": 283
        },
        "id": "9TFL8Q_LKtLw",
        "outputId": "a78575ab-a938-40f2-cfde-f6cfe8b610ec"
      },
      "outputs": [
        {
          "data": {
            "text/plain": [
              "<matplotlib.collections.PathCollection at 0x7f28707b2b80>"
            ]
          },
          "execution_count": 158,
          "metadata": {},
          "output_type": "execute_result"
        },
        {
          "data": {
            "image/png": "[encoded data removed]",
            "text/plain": [
              "<Figure size 432x288 with 1 Axes>"
            ]
          },
          "metadata": {},
          "output_type": "display_data"
        }
      ],
      "source": [
        "plt.scatter(first_trial['2000-02-29'], first_trial['2023-01-31'],c=first_trial.c, alpha = 0.6, s=10)"
      ]
    },
    {
      "cell_type": "markdown",
      "metadata": {
        "id": "KqUm9UG-uJUF"
      },
      "source": [
        "We see that after the first iterration there are 2 prominent clusters and hence we need to perform a second iteration on the more prominent one.\n",
        "\n"
      ]
    },
    {
      "cell_type": "markdown",
      "metadata": {
        "id": "ih9Ov36TQ77x"
      },
      "source": [
        "#### Second Iteration"
      ]
    },
    {
      "cell_type": "code",
      "execution_count": null,
      "metadata": {
        "id": "O8EKgJ7KONMe"
      },
      "outputs": [],
      "source": [
        "df3 = first_trial.query(\"cluster == 0\").reset_index(drop=True).drop(['c', 'Y'], axis=1)"
      ]
    },
    {
      "cell_type": "code",
      "execution_count": null,
      "metadata": {
        "colab": {
          "base_uri": "https://localhost:8080/",
          "height": 446
        },
        "id": "oWrTbA3BOaG1",
        "outputId": "c4ed98c2-5648-4192-ac8f-677769ffc961"
      },
      "outputs": [
        {
          "data": {
            "image/png": "[encoded data removed]",
            "text/plain": [
              "<Figure size 720x432 with 2 Axes>"
            ]
          },
          "metadata": {},
          "output_type": "display_data"
        }
      ],
      "source": [
        "plot_cluster(df3, max_loop=25)"
      ]
    },
    {
      "cell_type": "markdown",
      "metadata": {
        "id": "auiMSu4SxrzS"
      },
      "source": [
        "**Optimal Cluster** is 2."
      ]
    },
    {
      "cell_type": "code",
      "execution_count": null,
      "metadata": {
        "colab": {
          "base_uri": "https://localhost:8080/"
        },
        "id": "0u4cOuOKOwSJ",
        "outputId": "a1f0fd74-a1cf-4bfe-94d7-e9cfd83036d4"
      },
      "outputs": [
        {
          "name": "stdout",
          "output_type": "stream",
          "text": [
            "clustering performance\n",
            "-----------------------------------\n",
            "silhouette score: 0.06\n",
            "sse withing cluster: 289427.03580761305\n"
          ]
        }
      ],
      "source": [
        "second_trial= apply_cluster(df3, clusters=2)"
      ]
    },
    {
      "cell_type": "code",
      "execution_count": null,
      "metadata": {
        "colab": {
          "base_uri": "https://localhost:8080/"
        },
        "id": "bUbBTR-RPLPm",
        "outputId": "498399f9-7a4b-4a0e-b03b-11816475e09c"
      },
      "outputs": [
        {
          "data": {
            "text/plain": [
              "cluster  cluster\n",
              "0        0          151\n",
              "1        1          635\n",
              "Name: cluster, dtype: int64"
            ]
          },
          "execution_count": 131,
          "metadata": {},
          "output_type": "execute_result"
        }
      ],
      "source": [
        "cluster_perf_df = second_trial.groupby('cluster')\n",
        "cluster_perf_df['cluster'].value_counts()"
      ]
    },
    {
      "cell_type": "code",
      "execution_count": null,
      "metadata": {
        "colab": {
          "base_uri": "https://localhost:8080/",
          "height": 438
        },
        "id": "RtI7pAujPErv",
        "outputId": "426c79ff-b4f8-4517-924b-270be6c26686"
      },
      "outputs": [
        {
          "data": {
            "text/html": [
              "\n",
              "  <div id=\"df-c13406f0-5f25-4ab2-9ce4-9a41d0e354c1\">\n",
              "    <div class=\"colab-df-container\">\n",
              "      <div>\n",
              "<style scoped>\n",
              "    .dataframe tbody tr th:only-of-type {\n",
              "        vertical-align: middle;\n",
              "    }\n",
              "\n",
              "    .dataframe tbody tr th {\n",
              "        vertical-align: top;\n",
              "    }\n",
              "\n",
              "    .dataframe thead th {\n",
              "        text-align: right;\n",
              "    }\n",
              "</style>\n",
              "<table border=\"1\" class=\"dataframe\">\n",
              "  <thead>\n",
              "    <tr style=\"text-align: right;\">\n",
              "      <th></th>\n",
              "      <th>2000-02-29</th>\n",
              "      <th>2000-03-31</th>\n",
              "      <th>2000-04-30</th>\n",
              "      <th>2000-05-31</th>\n",
              "      <th>2000-06-30</th>\n",
              "      <th>2000-07-31</th>\n",
              "      <th>2000-08-31</th>\n",
              "      <th>2000-09-30</th>\n",
              "      <th>2000-10-31</th>\n",
              "      <th>2000-11-30</th>\n",
              "      <th>...</th>\n",
              "      <th>2022-07-31</th>\n",
              "      <th>2022-08-31</th>\n",
              "      <th>2022-09-30</th>\n",
              "      <th>2022-10-31</th>\n",
              "      <th>2022-11-30</th>\n",
              "      <th>2022-12-31</th>\n",
              "      <th>2023-01-31</th>\n",
              "      <th>cluster</th>\n",
              "      <th>c</th>\n",
              "      <th>Y</th>\n",
              "    </tr>\n",
              "  </thead>\n",
              "  <tbody>\n",
              "    <tr>\n",
              "      <th>0</th>\n",
              "      <td>-0.000271</td>\n",
              "      <td>-0.001479</td>\n",
              "      <td>-0.000621</td>\n",
              "      <td>-0.000244</td>\n",
              "      <td>0.001708</td>\n",
              "      <td>0.001928</td>\n",
              "      <td>0.002785</td>\n",
              "      <td>0.003620</td>\n",
              "      <td>0.003046</td>\n",
              "      <td>0.004928</td>\n",
              "      <td>...</td>\n",
              "      <td>0.009635</td>\n",
              "      <td>0.004303</td>\n",
              "      <td>0.000107</td>\n",
              "      <td>-0.001417</td>\n",
              "      <td>-0.001683</td>\n",
              "      <td>-0.004085</td>\n",
              "      <td>-0.006093</td>\n",
              "      <td>1</td>\n",
              "      <td>#3cb44b</td>\n",
              "      <td>Los Angeles County</td>\n",
              "    </tr>\n",
              "    <tr>\n",
              "      <th>1</th>\n",
              "      <td>0.000629</td>\n",
              "      <td>0.000857</td>\n",
              "      <td>0.001930</td>\n",
              "      <td>0.002420</td>\n",
              "      <td>0.002418</td>\n",
              "      <td>0.002784</td>\n",
              "      <td>0.003668</td>\n",
              "      <td>0.004729</td>\n",
              "      <td>0.005020</td>\n",
              "      <td>0.005001</td>\n",
              "      <td>...</td>\n",
              "      <td>0.007059</td>\n",
              "      <td>0.001332</td>\n",
              "      <td>-0.002531</td>\n",
              "      <td>-0.002649</td>\n",
              "      <td>-0.003011</td>\n",
              "      <td>-0.005268</td>\n",
              "      <td>-0.006705</td>\n",
              "      <td>1</td>\n",
              "      <td>#3cb44b</td>\n",
              "      <td>Cook County</td>\n",
              "    </tr>\n",
              "    <tr>\n",
              "      <th>2</th>\n",
              "      <td>0.000708</td>\n",
              "      <td>0.000264</td>\n",
              "      <td>0.001055</td>\n",
              "      <td>0.001242</td>\n",
              "      <td>0.001630</td>\n",
              "      <td>0.001342</td>\n",
              "      <td>0.002244</td>\n",
              "      <td>0.002082</td>\n",
              "      <td>0.002563</td>\n",
              "      <td>0.002291</td>\n",
              "      <td>...</td>\n",
              "      <td>0.008278</td>\n",
              "      <td>0.002037</td>\n",
              "      <td>-0.002480</td>\n",
              "      <td>-0.003629</td>\n",
              "      <td>-0.004406</td>\n",
              "      <td>-0.007544</td>\n",
              "      <td>-0.009169</td>\n",
              "      <td>1</td>\n",
              "      <td>#3cb44b</td>\n",
              "      <td>Harris County</td>\n",
              "    </tr>\n",
              "    <tr>\n",
              "      <th>3</th>\n",
              "      <td>0.000961</td>\n",
              "      <td>0.000741</td>\n",
              "      <td>0.001389</td>\n",
              "      <td>-0.004536</td>\n",
              "      <td>-0.006389</td>\n",
              "      <td>-0.007153</td>\n",
              "      <td>-0.001487</td>\n",
              "      <td>0.000013</td>\n",
              "      <td>0.000384</td>\n",
              "      <td>-0.000048</td>\n",
              "      <td>...</td>\n",
              "      <td>0.008533</td>\n",
              "      <td>0.002742</td>\n",
              "      <td>-0.001904</td>\n",
              "      <td>-0.002695</td>\n",
              "      <td>-0.002530</td>\n",
              "      <td>-0.004425</td>\n",
              "      <td>-0.004419</td>\n",
              "      <td>1</td>\n",
              "      <td>#3cb44b</td>\n",
              "      <td>Maricopa County</td>\n",
              "    </tr>\n",
              "    <tr>\n",
              "      <th>4</th>\n",
              "      <td>0.002066</td>\n",
              "      <td>0.001995</td>\n",
              "      <td>0.004427</td>\n",
              "      <td>0.006715</td>\n",
              "      <td>0.006562</td>\n",
              "      <td>0.006855</td>\n",
              "      <td>0.004585</td>\n",
              "      <td>0.005164</td>\n",
              "      <td>0.005243</td>\n",
              "      <td>0.005520</td>\n",
              "      <td>...</td>\n",
              "      <td>0.003473</td>\n",
              "      <td>-0.003443</td>\n",
              "      <td>-0.005950</td>\n",
              "      <td>-0.003763</td>\n",
              "      <td>-0.001855</td>\n",
              "      <td>-0.003500</td>\n",
              "      <td>0.000178</td>\n",
              "      <td>0</td>\n",
              "      <td>#e6194b</td>\n",
              "      <td>San Diego County</td>\n",
              "    </tr>\n",
              "  </tbody>\n",
              "</table>\n",
              "<p>5 rows × 279 columns</p>\n",
              "</div>\n",
              "      <button class=\"colab-df-convert\" onclick=\"convertToInteractive('df-c13406f0-5f25-4ab2-9ce4-9a41d0e354c1')\"\n",
              "              title=\"Convert this dataframe to an interactive table.\"\n",
              "              style=\"display:none;\">\n",
              "        \n",
              "  <svg xmlns=\"http://www.w3.org/2000/svg\" height=\"24px\"viewBox=\"0 0 24 24\"\n",
              "       width=\"24px\">\n",
              "    <path d=\"M0 0h24v24H0V0z\" fill=\"none\"/>\n",
              "    <path d=\"M18.56 5.44l.94 2.06.94-2.06 2.06-.94-2.06-.94-.94-2.06-.94 2.06-2.06.94zm-11 1L8.5 8.5l.94-2.06 2.06-.94-2.06-.94L8.5 2.5l-.94 2.06-2.06.94zm10 10l.94 2.06.94-2.06 2.06-.94-2.06-.94-.94-2.06-.94 2.06-2.06.94z\"/><path d=\"M17.41 7.96l-1.37-1.37c-.4-.4-.92-.59-1.43-.59-.52 0-1.04.2-1.43.59L10.3 9.45l-7.72 7.72c-.78.78-.78 2.05 0 2.83L4 21.41c.39.39.9.59 1.41.59.51 0 1.02-.2 1.41-.59l7.78-7.78 2.81-2.81c.8-.78.8-2.07 0-2.86zM5.41 20L4 18.59l7.72-7.72 1.47 1.35L5.41 20z\"/>\n",
              "  </svg>\n",
              "      </button>\n",
              "      \n",
              "  <style>\n",
              "    .colab-df-container {\n",
              "      display:flex;\n",
              "      flex-wrap:wrap;\n",
              "      gap: 12px;\n",
              "    }\n",
              "\n",
              "    .colab-df-convert {\n",
              "      background-color: #E8F0FE;\n",
              "      border: none;\n",
              "      border-radius: 50%;\n",
              "      cursor: pointer;\n",
              "      display: none;\n",
              "      fill: #1967D2;\n",
              "      height: 32px;\n",
              "      padding: 0 0 0 0;\n",
              "      width: 32px;\n",
              "    }\n",
              "\n",
              "    .colab-df-convert:hover {\n",
              "      background-color: #E2EBFA;\n",
              "      box-shadow: 0px 1px 2px rgba(60, 64, 67, 0.3), 0px 1px 3px 1px rgba(60, 64, 67, 0.15);\n",
              "      fill: #174EA6;\n",
              "    }\n",
              "\n",
              "    [theme=dark] .colab-df-convert {\n",
              "      background-color: #3B4455;\n",
              "      fill: #D2E3FC;\n",
              "    }\n",
              "\n",
              "    [theme=dark] .colab-df-convert:hover {\n",
              "      background-color: #434B5C;\n",
              "      box-shadow: 0px 1px 3px 1px rgba(0, 0, 0, 0.15);\n",
              "      filter: drop-shadow(0px 1px 2px rgba(0, 0, 0, 0.3));\n",
              "      fill: #FFFFFF;\n",
              "    }\n",
              "  </style>\n",
              "\n",
              "      <script>\n",
              "        const buttonEl =\n",
              "          document.querySelector('#df-c13406f0-5f25-4ab2-9ce4-9a41d0e354c1 button.colab-df-convert');\n",
              "        buttonEl.style.display =\n",
              "          google.colab.kernel.accessAllowed ? 'block' : 'none';\n",
              "\n",
              "        async function convertToInteractive(key) {\n",
              "          const element = document.querySelector('#df-c13406f0-5f25-4ab2-9ce4-9a41d0e354c1');\n",
              "          const dataTable =\n",
              "            await google.colab.kernel.invokeFunction('convertToInteractive',\n",
              "                                                     [key], {});\n",
              "          if (!dataTable) return;\n",
              "\n",
              "          const docLinkHtml = 'Like what you see? Visit the ' +\n",
              "            '<a target=\"_blank\" href=https://colab.research.google.com/notebooks/data_table.ipynb>data table notebook</a>'\n",
              "            + ' to learn more about interactive tables.';\n",
              "          element.innerHTML = '';\n",
              "          dataTable['output_type'] = 'display_data';\n",
              "          await google.colab.output.renderOutput(dataTable, element);\n",
              "          const docLink = document.createElement('div');\n",
              "          docLink.innerHTML = docLinkHtml;\n",
              "          element.appendChild(docLink);\n",
              "        }\n",
              "      </script>\n",
              "    </div>\n",
              "  </div>\n",
              "  "
            ],
            "text/plain": [
              "   2000-02-29  2000-03-31  2000-04-30  2000-05-31  2000-06-30  2000-07-31  \\\n",
              "0   -0.000271   -0.001479   -0.000621   -0.000244    0.001708    0.001928   \n",
              "1    0.000629    0.000857    0.001930    0.002420    0.002418    0.002784   \n",
              "2    0.000708    0.000264    0.001055    0.001242    0.001630    0.001342   \n",
              "3    0.000961    0.000741    0.001389   -0.004536   -0.006389   -0.007153   \n",
              "4    0.002066    0.001995    0.004427    0.006715    0.006562    0.006855   \n",
              "\n",
              "   2000-08-31  2000-09-30  2000-10-31  2000-11-30  ...  2022-07-31  \\\n",
              "0    0.002785    0.003620    0.003046    0.004928  ...    0.009635   \n",
              "1    0.003668    0.004729    0.005020    0.005001  ...    0.007059   \n",
              "2    0.002244    0.002082    0.002563    0.002291  ...    0.008278   \n",
              "3   -0.001487    0.000013    0.000384   -0.000048  ...    0.008533   \n",
              "4    0.004585    0.005164    0.005243    0.005520  ...    0.003473   \n",
              "\n",
              "   2022-08-31  2022-09-30  2022-10-31  2022-11-30  2022-12-31  2023-01-31  \\\n",
              "0    0.004303    0.000107   -0.001417   -0.001683   -0.004085   -0.006093   \n",
              "1    0.001332   -0.002531   -0.002649   -0.003011   -0.005268   -0.006705   \n",
              "2    0.002037   -0.002480   -0.003629   -0.004406   -0.007544   -0.009169   \n",
              "3    0.002742   -0.001904   -0.002695   -0.002530   -0.004425   -0.004419   \n",
              "4   -0.003443   -0.005950   -0.003763   -0.001855   -0.003500    0.000178   \n",
              "\n",
              "   cluster        c                   Y  \n",
              "0        1  #3cb44b  Los Angeles County  \n",
              "1        1  #3cb44b         Cook County  \n",
              "2        1  #3cb44b       Harris County  \n",
              "3        1  #3cb44b     Maricopa County  \n",
              "4        0  #e6194b    San Diego County  \n",
              "\n",
              "[5 rows x 279 columns]"
            ]
          },
          "execution_count": 132,
          "metadata": {},
          "output_type": "execute_result"
        }
      ],
      "source": [
        "colors = ['#e6194b', '#3cb44b']\n",
        "second_trial['c'] = second_trial.cluster.map({0:colors[0], 1:colors[1]})\n",
        "second_trial['Y'] = df['RegionName']\n",
        "second_trial.head()"
      ]
    },
    {
      "cell_type": "code",
      "execution_count": null,
      "metadata": {
        "colab": {
          "base_uri": "https://localhost:8080/",
          "height": 283
        },
        "id": "fMRadICfPTqB",
        "outputId": "9da9e8fa-5a07-4c3f-9319-331eb3d8085a"
      },
      "outputs": [
        {
          "data": {
            "text/plain": [
              "<matplotlib.collections.PathCollection at 0x7f2870572d30>"
            ]
          },
          "execution_count": 133,
          "metadata": {},
          "output_type": "execute_result"
        },
        {
          "data": {
            "image/png": "[encoded data removed]",
            "text/plain": [
              "<Figure size 432x288 with 1 Axes>"
            ]
          },
          "metadata": {},
          "output_type": "display_data"
        }
      ],
      "source": [
        "plt.scatter(second_trial['2000-02-29'], second_trial['2023-01-31'],c=second_trial.c, alpha = 0.6, s=10)"
      ]
    },
    {
      "cell_type": "markdown",
      "metadata": {
        "id": "4JXZkNIWv68V"
      },
      "source": [
        "After the second iteration we again found two prominent clusters, thus we will dive deeper and perform a third iteration on the more prominent cluster."
      ]
    },
    {
      "cell_type": "markdown",
      "metadata": {
        "id": "ti3ZiV72Q_HI"
      },
      "source": [
        "#### Third Iteration"
      ]
    },
    {
      "cell_type": "code",
      "execution_count": null,
      "metadata": {
        "id": "HvYAN_FIQt3K"
      },
      "outputs": [],
      "source": [
        "df4 = second_trial.query(\"cluster == 1\").reset_index(drop=True).drop(['c', 'Y'], axis=1)"
      ]
    },
    {
      "cell_type": "code",
      "execution_count": null,
      "metadata": {
        "colab": {
          "base_uri": "https://localhost:8080/",
          "height": 446
        },
        "id": "m3gCqY-WQywu",
        "outputId": "47735299-4e31-4579-d715-9d074bb26439"
      },
      "outputs": [
        {
          "data": {
            "image/png": "[encoded data removed]",
            "text/plain": [
              "<Figure size 720x432 with 2 Axes>"
            ]
          },
          "metadata": {},
          "output_type": "display_data"
        }
      ],
      "source": [
        "plot_cluster(df4, max_loop=25)"
      ]
    },
    {
      "cell_type": "markdown",
      "metadata": {
        "id": "BBLnIsBgxvry"
      },
      "source": [
        "**Optimal Cluster** is 2."
      ]
    },
    {
      "cell_type": "code",
      "execution_count": null,
      "metadata": {
        "colab": {
          "base_uri": "https://localhost:8080/"
        },
        "id": "8OXN2JZ6fypu",
        "outputId": "b0fb81c1-5393-4e62-f32d-49a1c774c0e9"
      },
      "outputs": [
        {
          "name": "stdout",
          "output_type": "stream",
          "text": [
            "clustering performance\n",
            "-----------------------------------\n",
            "silhouette score: 0.43\n",
            "sse withing cluster: 270974.5772739487\n"
          ]
        }
      ],
      "source": [
        "third_trial = apply_cluster(df4, clusters=2)"
      ]
    },
    {
      "cell_type": "code",
      "execution_count": null,
      "metadata": {
        "colab": {
          "base_uri": "https://localhost:8080/"
        },
        "id": "KeDs18_uf66c",
        "outputId": "0331d7c5-0231-43fc-8a32-47535e92390b"
      },
      "outputs": [
        {
          "data": {
            "text/plain": [
              "cluster  cluster\n",
              "0        0            6\n",
              "1        1          629\n",
              "Name: cluster, dtype: int64"
            ]
          },
          "execution_count": 137,
          "metadata": {},
          "output_type": "execute_result"
        }
      ],
      "source": [
        "cluster_perf_df = third_trial.groupby('cluster')\n",
        "cluster_perf_df['cluster'].value_counts()"
      ]
    },
    {
      "cell_type": "code",
      "execution_count": null,
      "metadata": {
        "colab": {
          "base_uri": "https://localhost:8080/",
          "height": 438
        },
        "id": "f4vwWyPff7fr",
        "outputId": "0b175088-250e-4f5d-af51-2dc487b5b2c0"
      },
      "outputs": [
        {
          "data": {
            "text/html": [
              "\n",
              "  <div id=\"df-2767b007-0f00-4fbd-bb7b-792fd85826cc\">\n",
              "    <div class=\"colab-df-container\">\n",
              "      <div>\n",
              "<style scoped>\n",
              "    .dataframe tbody tr th:only-of-type {\n",
              "        vertical-align: middle;\n",
              "    }\n",
              "\n",
              "    .dataframe tbody tr th {\n",
              "        vertical-align: top;\n",
              "    }\n",
              "\n",
              "    .dataframe thead th {\n",
              "        text-align: right;\n",
              "    }\n",
              "</style>\n",
              "<table border=\"1\" class=\"dataframe\">\n",
              "  <thead>\n",
              "    <tr style=\"text-align: right;\">\n",
              "      <th></th>\n",
              "      <th>2000-02-29</th>\n",
              "      <th>2000-03-31</th>\n",
              "      <th>2000-04-30</th>\n",
              "      <th>2000-05-31</th>\n",
              "      <th>2000-06-30</th>\n",
              "      <th>2000-07-31</th>\n",
              "      <th>2000-08-31</th>\n",
              "      <th>2000-09-30</th>\n",
              "      <th>2000-10-31</th>\n",
              "      <th>2000-11-30</th>\n",
              "      <th>...</th>\n",
              "      <th>2022-07-31</th>\n",
              "      <th>2022-08-31</th>\n",
              "      <th>2022-09-30</th>\n",
              "      <th>2022-10-31</th>\n",
              "      <th>2022-11-30</th>\n",
              "      <th>2022-12-31</th>\n",
              "      <th>2023-01-31</th>\n",
              "      <th>cluster</th>\n",
              "      <th>c</th>\n",
              "      <th>Y</th>\n",
              "    </tr>\n",
              "  </thead>\n",
              "  <tbody>\n",
              "    <tr>\n",
              "      <th>0</th>\n",
              "      <td>-0.000271</td>\n",
              "      <td>-0.001479</td>\n",
              "      <td>-0.000621</td>\n",
              "      <td>-0.000244</td>\n",
              "      <td>0.001708</td>\n",
              "      <td>0.001928</td>\n",
              "      <td>0.002785</td>\n",
              "      <td>0.003620</td>\n",
              "      <td>0.003046</td>\n",
              "      <td>0.004928</td>\n",
              "      <td>...</td>\n",
              "      <td>0.009635</td>\n",
              "      <td>0.004303</td>\n",
              "      <td>0.000107</td>\n",
              "      <td>-0.001417</td>\n",
              "      <td>-0.001683</td>\n",
              "      <td>-0.004085</td>\n",
              "      <td>-6.093042e-03</td>\n",
              "      <td>1</td>\n",
              "      <td>#3cb44b</td>\n",
              "      <td>Los Angeles County</td>\n",
              "    </tr>\n",
              "    <tr>\n",
              "      <th>1</th>\n",
              "      <td>0.000629</td>\n",
              "      <td>0.000857</td>\n",
              "      <td>0.001930</td>\n",
              "      <td>0.002420</td>\n",
              "      <td>0.002418</td>\n",
              "      <td>0.002784</td>\n",
              "      <td>0.003668</td>\n",
              "      <td>0.004729</td>\n",
              "      <td>0.005020</td>\n",
              "      <td>0.005001</td>\n",
              "      <td>...</td>\n",
              "      <td>0.007059</td>\n",
              "      <td>0.001332</td>\n",
              "      <td>-0.002531</td>\n",
              "      <td>-0.002649</td>\n",
              "      <td>-0.003011</td>\n",
              "      <td>-0.005268</td>\n",
              "      <td>-6.705173e-03</td>\n",
              "      <td>1</td>\n",
              "      <td>#3cb44b</td>\n",
              "      <td>Cook County</td>\n",
              "    </tr>\n",
              "    <tr>\n",
              "      <th>2</th>\n",
              "      <td>0.000708</td>\n",
              "      <td>0.000264</td>\n",
              "      <td>0.001055</td>\n",
              "      <td>0.001242</td>\n",
              "      <td>0.001630</td>\n",
              "      <td>0.001342</td>\n",
              "      <td>0.002244</td>\n",
              "      <td>0.002082</td>\n",
              "      <td>0.002563</td>\n",
              "      <td>0.002291</td>\n",
              "      <td>...</td>\n",
              "      <td>0.008278</td>\n",
              "      <td>0.002037</td>\n",
              "      <td>-0.002480</td>\n",
              "      <td>-0.003629</td>\n",
              "      <td>-0.004406</td>\n",
              "      <td>-0.007544</td>\n",
              "      <td>-9.168719e-03</td>\n",
              "      <td>1</td>\n",
              "      <td>#3cb44b</td>\n",
              "      <td>Harris County</td>\n",
              "    </tr>\n",
              "    <tr>\n",
              "      <th>3</th>\n",
              "      <td>0.000961</td>\n",
              "      <td>0.000741</td>\n",
              "      <td>0.001389</td>\n",
              "      <td>-0.004536</td>\n",
              "      <td>-0.006389</td>\n",
              "      <td>-0.007153</td>\n",
              "      <td>-0.001487</td>\n",
              "      <td>0.000013</td>\n",
              "      <td>0.000384</td>\n",
              "      <td>-0.000048</td>\n",
              "      <td>...</td>\n",
              "      <td>0.008533</td>\n",
              "      <td>0.002742</td>\n",
              "      <td>-0.001904</td>\n",
              "      <td>-0.002695</td>\n",
              "      <td>-0.002530</td>\n",
              "      <td>-0.004425</td>\n",
              "      <td>-4.418648e-03</td>\n",
              "      <td>1</td>\n",
              "      <td>#3cb44b</td>\n",
              "      <td>Maricopa County</td>\n",
              "    </tr>\n",
              "    <tr>\n",
              "      <th>4</th>\n",
              "      <td>0.000756</td>\n",
              "      <td>0.001487</td>\n",
              "      <td>0.003229</td>\n",
              "      <td>0.003877</td>\n",
              "      <td>0.003910</td>\n",
              "      <td>0.004191</td>\n",
              "      <td>0.005055</td>\n",
              "      <td>0.005130</td>\n",
              "      <td>0.004762</td>\n",
              "      <td>0.004200</td>\n",
              "      <td>...</td>\n",
              "      <td>0.008294</td>\n",
              "      <td>0.002400</td>\n",
              "      <td>-0.001981</td>\n",
              "      <td>-0.002563</td>\n",
              "      <td>-0.002289</td>\n",
              "      <td>-0.002625</td>\n",
              "      <td>-7.166316e-08</td>\n",
              "      <td>1</td>\n",
              "      <td>#3cb44b</td>\n",
              "      <td>San Diego County</td>\n",
              "    </tr>\n",
              "  </tbody>\n",
              "</table>\n",
              "<p>5 rows × 279 columns</p>\n",
              "</div>\n",
              "      <button class=\"colab-df-convert\" onclick=\"convertToInteractive('df-2767b007-0f00-4fbd-bb7b-792fd85826cc')\"\n",
              "              title=\"Convert this dataframe to an interactive table.\"\n",
              "              style=\"display:none;\">\n",
              "        \n",
              "  <svg xmlns=\"http://www.w3.org/2000/svg\" height=\"24px\"viewBox=\"0 0 24 24\"\n",
              "       width=\"24px\">\n",
              "    <path d=\"M0 0h24v24H0V0z\" fill=\"none\"/>\n",
              "    <path d=\"M18.56 5.44l.94 2.06.94-2.06 2.06-.94-2.06-.94-.94-2.06-.94 2.06-2.06.94zm-11 1L8.5 8.5l.94-2.06 2.06-.94-2.06-.94L8.5 2.5l-.94 2.06-2.06.94zm10 10l.94 2.06.94-2.06 2.06-.94-2.06-.94-.94-2.06-.94 2.06-2.06.94z\"/><path d=\"M17.41 7.96l-1.37-1.37c-.4-.4-.92-.59-1.43-.59-.52 0-1.04.2-1.43.59L10.3 9.45l-7.72 7.72c-.78.78-.78 2.05 0 2.83L4 21.41c.39.39.9.59 1.41.59.51 0 1.02-.2 1.41-.59l7.78-7.78 2.81-2.81c.8-.78.8-2.07 0-2.86zM5.41 20L4 18.59l7.72-7.72 1.47 1.35L5.41 20z\"/>\n",
              "  </svg>\n",
              "      </button>\n",
              "      \n",
              "  <style>\n",
              "    .colab-df-container {\n",
              "      display:flex;\n",
              "      flex-wrap:wrap;\n",
              "      gap: 12px;\n",
              "    }\n",
              "\n",
              "    .colab-df-convert {\n",
              "      background-color: #E8F0FE;\n",
              "      border: none;\n",
              "      border-radius: 50%;\n",
              "      cursor: pointer;\n",
              "      display: none;\n",
              "      fill: #1967D2;\n",
              "      height: 32px;\n",
              "      padding: 0 0 0 0;\n",
              "      width: 32px;\n",
              "    }\n",
              "\n",
              "    .colab-df-convert:hover {\n",
              "      background-color: #E2EBFA;\n",
              "      box-shadow: 0px 1px 2px rgba(60, 64, 67, 0.3), 0px 1px 3px 1px rgba(60, 64, 67, 0.15);\n",
              "      fill: #174EA6;\n",
              "    }\n",
              "\n",
              "    [theme=dark] .colab-df-convert {\n",
              "      background-color: #3B4455;\n",
              "      fill: #D2E3FC;\n",
              "    }\n",
              "\n",
              "    [theme=dark] .colab-df-convert:hover {\n",
              "      background-color: #434B5C;\n",
              "      box-shadow: 0px 1px 3px 1px rgba(0, 0, 0, 0.15);\n",
              "      filter: drop-shadow(0px 1px 2px rgba(0, 0, 0, 0.3));\n",
              "      fill: #FFFFFF;\n",
              "    }\n",
              "  </style>\n",
              "\n",
              "      <script>\n",
              "        const buttonEl =\n",
              "          document.querySelector('#df-2767b007-0f00-4fbd-bb7b-792fd85826cc button.colab-df-convert');\n",
              "        buttonEl.style.display =\n",
              "          google.colab.kernel.accessAllowed ? 'block' : 'none';\n",
              "\n",
              "        async function convertToInteractive(key) {\n",
              "          const element = document.querySelector('#df-2767b007-0f00-4fbd-bb7b-792fd85826cc');\n",
              "          const dataTable =\n",
              "            await google.colab.kernel.invokeFunction('convertToInteractive',\n",
              "                                                     [key], {});\n",
              "          if (!dataTable) return;\n",
              "\n",
              "          const docLinkHtml = 'Like what you see? Visit the ' +\n",
              "            '<a target=\"_blank\" href=https://colab.research.google.com/notebooks/data_table.ipynb>data table notebook</a>'\n",
              "            + ' to learn more about interactive tables.';\n",
              "          element.innerHTML = '';\n",
              "          dataTable['output_type'] = 'display_data';\n",
              "          await google.colab.output.renderOutput(dataTable, element);\n",
              "          const docLink = document.createElement('div');\n",
              "          docLink.innerHTML = docLinkHtml;\n",
              "          element.appendChild(docLink);\n",
              "        }\n",
              "      </script>\n",
              "    </div>\n",
              "  </div>\n",
              "  "
            ],
            "text/plain": [
              "   2000-02-29  2000-03-31  2000-04-30  2000-05-31  2000-06-30  2000-07-31  \\\n",
              "0   -0.000271   -0.001479   -0.000621   -0.000244    0.001708    0.001928   \n",
              "1    0.000629    0.000857    0.001930    0.002420    0.002418    0.002784   \n",
              "2    0.000708    0.000264    0.001055    0.001242    0.001630    0.001342   \n",
              "3    0.000961    0.000741    0.001389   -0.004536   -0.006389   -0.007153   \n",
              "4    0.000756    0.001487    0.003229    0.003877    0.003910    0.004191   \n",
              "\n",
              "   2000-08-31  2000-09-30  2000-10-31  2000-11-30  ...  2022-07-31  \\\n",
              "0    0.002785    0.003620    0.003046    0.004928  ...    0.009635   \n",
              "1    0.003668    0.004729    0.005020    0.005001  ...    0.007059   \n",
              "2    0.002244    0.002082    0.002563    0.002291  ...    0.008278   \n",
              "3   -0.001487    0.000013    0.000384   -0.000048  ...    0.008533   \n",
              "4    0.005055    0.005130    0.004762    0.004200  ...    0.008294   \n",
              "\n",
              "   2022-08-31  2022-09-30  2022-10-31  2022-11-30  2022-12-31    2023-01-31  \\\n",
              "0    0.004303    0.000107   -0.001417   -0.001683   -0.004085 -6.093042e-03   \n",
              "1    0.001332   -0.002531   -0.002649   -0.003011   -0.005268 -6.705173e-03   \n",
              "2    0.002037   -0.002480   -0.003629   -0.004406   -0.007544 -9.168719e-03   \n",
              "3    0.002742   -0.001904   -0.002695   -0.002530   -0.004425 -4.418648e-03   \n",
              "4    0.002400   -0.001981   -0.002563   -0.002289   -0.002625 -7.166316e-08   \n",
              "\n",
              "   cluster        c                   Y  \n",
              "0        1  #3cb44b  Los Angeles County  \n",
              "1        1  #3cb44b         Cook County  \n",
              "2        1  #3cb44b       Harris County  \n",
              "3        1  #3cb44b     Maricopa County  \n",
              "4        1  #3cb44b    San Diego County  \n",
              "\n",
              "[5 rows x 279 columns]"
            ]
          },
          "execution_count": 138,
          "metadata": {},
          "output_type": "execute_result"
        }
      ],
      "source": [
        "colors = ['#e6194b', '#3cb44b']\n",
        "third_trial['c'] = third_trial.cluster.map({0:colors[0], 1:colors[1]})\n",
        "third_trial['Y'] = df['RegionName']\n",
        "third_trial.head()"
      ]
    },
    {
      "cell_type": "code",
      "execution_count": null,
      "metadata": {
        "colab": {
          "base_uri": "https://localhost:8080/",
          "height": 108
        },
        "id": "FosVgpr-gBJ2",
        "outputId": "308aa8ff-05a6-44e7-c3e2-bac7b82e167f"
      },
      "outputs": [
        {
          "data": {
            "text/plain": [
              "<matplotlib.collections.PathCollection at 0x7f28719b5220>"
            ]
          },
          "execution_count": 139,
          "metadata": {},
          "output_type": "execute_result"
        },
        {
          "data": {
            "image/png": "[encoded data removed]",
            "text/plain": [
              "<Figure size 432x288 with 1 Axes>"
            ]
          },
          "metadata": {},
          "output_type": "display_data"
        }
      ],
      "source": [
        "plt.scatter(third_trial['2000-02-29'], third_trial['2023-01-31'],c=third_trial.c, alpha = 0.6, s=10)"
      ]
    },
    {
      "cell_type": "code",
      "execution_count": null,
      "metadata": {
        "colab": {
          "base_uri": "https://localhost:8080/"
        },
        "id": "tReVp4vtgOYT",
        "outputId": "8bbbc48d-4e09-4de5-d23d-a4b3ef5f092e"
      },
      "outputs": [
        {
          "data": {
            "text/plain": [
              "cluster  Y                 \n",
              "0        Garland County        1\n",
              "         Rensselaer County     1\n",
              "         Roanoke County        1\n",
              "         Tippecanoe County     1\n",
              "         Volusia County        1\n",
              "                              ..\n",
              "1        Yamhill County        1\n",
              "         Yavapai County        1\n",
              "         Yellowstone County    1\n",
              "         Yolo County           1\n",
              "         Yuma County           1\n",
              "Name: Y, Length: 527, dtype: int64"
            ]
          },
          "execution_count": 140,
          "metadata": {},
          "output_type": "execute_result"
        }
      ],
      "source": [
        "cluster_perf_df['Y'].value_counts()"
      ]
    },
    {
      "cell_type": "markdown",
      "metadata": {
        "id": "oRzxpX46wMKv"
      },
      "source": [
        "On performing the third iteration we got one prominent cluster which will become our golden cluster."
      ]
    },
    {
      "cell_type": "markdown",
      "metadata": {
        "id": "gCU-2ywm--hi"
      },
      "source": [
        "### Finding Most Suitable Algorithm"
      ]
    },
    {
      "cell_type": "markdown",
      "metadata": {
        "id": "379wzkfxGY06"
      },
      "source": [
        "**UTILITIES**"
      ]
    },
    {
      "cell_type": "code",
      "execution_count": null,
      "metadata": {
        "id": "2AGWu3GhGOO-"
      },
      "outputs": [],
      "source": [
        "from sklearn.preprocessing import RobustScaler\n",
        "from sklearn.cluster import KMeans\n",
        "from sklearn import metrics\n",
        "from sklearn.cluster import AgglomerativeClustering"
      ]
    },
    {
      "cell_type": "markdown",
      "metadata": {
        "id": "mhyNoWMAFF__"
      },
      "source": [
        "Function to Calculate **Fractal Distance** between two points"
      ]
    },
    {
      "cell_type": "code",
      "execution_count": null,
      "metadata": {
        "id": "ZwKPoHkN_wyq"
      },
      "outputs": [],
      "source": [
        "def fractal_distance(p1, p2): \n",
        "  x1, y1, x2, y2 = p1[0],p1[1], p2[0], p2[1]\n",
        "  num_divisions = 3\n",
        "  # Create a grid with num_divisions x num_divisions boxes\n",
        "  x = np.linspace(min(x1, x2), max(x1, x2), num_divisions + 1) \n",
        "  y = np.linspace(min(y1, y2), max(y1, y2), num_divisions + 1) \n",
        "  grid = np.zeros((num_divisions, num_divisions))\n",
        "  \n",
        "  # Place a point at each of the two endpoints\n",
        "  x1_idx = np.argmin(np.abs(x - x1)) - 1\n",
        "  y1_idx = np.argmin(np.abs(y - y1)) - 1\n",
        "  grid[y1_idx, x1_idx] = 1\n",
        "  x2_idx = np.argmin(np.abs(x - x2)) - 1\n",
        "  y2_idx = np.argmin(np.abs(y - y2)) - 1\n",
        "  grid[y2_idx, x2_idx] = 1\n",
        "\n",
        "  # Count the number of boxes that contain at least one point \n",
        "  num_boxes_with_points = 0\n",
        "  for i in range(num_divisions):\n",
        "    for j in range(num_divisions):\n",
        "      if np.sum(grid[i:i+2, j:j+2]) > 0:\n",
        "        num_boxes_with_points += 1\n",
        "  \n",
        "  # Calculate the fractal dimension and use it to estimate the length of the path\n",
        "  fractal_dim = np.log(num_boxes_with_points) / np.log(2)\n",
        "  fractal_length = (2 ** fractal_dim) * ((x2 - x1) ** 2 + (y2 - y1) ** 2) ** 0.5\n",
        "  return fractal_length"
      ]
    },
    {
      "cell_type": "code",
      "execution_count": null,
      "metadata": {
        "colab": {
          "base_uri": "https://localhost:8080/"
        },
        "id": "DRefnImoEhTN",
        "outputId": "02effc69-8886-44e8-e102-b0dee5ffcee0"
      },
      "outputs": [
        {
          "output_type": "stream",
          "name": "stdout",
          "text": [
            "Looking in indexes: https://pypi.org/simple, https://us-python.pkg.dev/colab-wheels/public/simple/\n",
            "Requirement already satisfied: pyclustering in /usr/local/lib/python3.8/dist-packages (0.10.1.2)\n",
            "Requirement already satisfied: matplotlib>=3.0.0 in /usr/local/lib/python3.8/dist-packages (from pyclustering) (3.2.2)\n",
            "Requirement already satisfied: Pillow>=5.2.0 in /usr/local/lib/python3.8/dist-packages (from pyclustering) (7.1.2)\n",
            "Requirement already satisfied: numpy>=1.15.2 in /usr/local/lib/python3.8/dist-packages (from pyclustering) (1.21.6)\n",
            "Requirement already satisfied: scipy>=1.1.0 in /usr/local/lib/python3.8/dist-packages (from pyclustering) (1.7.3)\n",
            "Requirement already satisfied: cycler>=0.10 in /usr/local/lib/python3.8/dist-packages (from matplotlib>=3.0.0->pyclustering) (0.11.0)\n",
            "Requirement already satisfied: python-dateutil>=2.1 in /usr/local/lib/python3.8/dist-packages (from matplotlib>=3.0.0->pyclustering) (2.8.2)\n",
            "Requirement already satisfied: kiwisolver>=1.0.1 in /usr/local/lib/python3.8/dist-packages (from matplotlib>=3.0.0->pyclustering) (1.4.4)\n",
            "Requirement already satisfied: pyparsing!=2.0.4,!=2.1.2,!=2.1.6,>=2.0.1 in /usr/local/lib/python3.8/dist-packages (from matplotlib>=3.0.0->pyclustering) (3.0.9)\n",
            "Requirement already satisfied: six>=1.5 in /usr/local/lib/python3.8/dist-packages (from python-dateutil>=2.1->matplotlib>=3.0.0->pyclustering) (1.15.0)\n"
          ]
        }
      ],
      "source": [
        "!pip install pyclustering"
      ]
    },
    {
      "cell_type": "markdown",
      "metadata": {
        "id": "hV-XT61yF0QR"
      },
      "source": [
        "Function to Plot and Compare **K-Means** with Fractal distance"
      ]
    },
    {
      "cell_type": "code",
      "execution_count": null,
      "metadata": {
        "id": "DzV3bDqvEPRT"
      },
      "outputs": [],
      "source": [
        "from pyclustering.cluster.kmeans import kmeans\n",
        "from pyclustering.utils.metric import type_metric, distance_metric\n",
        "from pyclustering.cluster.center_initializer import random_center_initializer\n",
        "from pyclustering.cluster.encoder import type_encoding\n",
        "from pyclustering.cluster.encoder import cluster_encoder\n",
        "from pyclustering.cluster.silhouette import silhouette\n",
        "\n",
        "def plot_cluster_kmeans(df, max_loop=50):\n",
        "    try:\n",
        "        df.drop('cluster', axis=1, inplace=True)\n",
        "    except:\n",
        "        next\n",
        "    X = df.iloc[:,1:].values    \n",
        "    rb = RobustScaler()\n",
        "    X_rb = rb.fit_transform(X)\n",
        "    \n",
        "    silhouette_score = {}\n",
        "    metric  = distance_metric(type_metric.USER_DEFINED, func=fractal_distance)\n",
        "    \n",
        "    for k in range(2, max_loop):\n",
        "        initial_centers = random_center_initializer(X, k, random_state=5).initialize()\n",
        "        instance = kmeans(X_rb, initial_centers=initial_centers, metric=metric)\n",
        "        instance.process()\n",
        "        silhouette_score_i = silhouette(X_rb, instance.get_clusters()).process().get_score()\n",
        "        silhouette_score[k] = sum(silhouette_score_i) / len(silhouette_score_i)\n",
        "\n",
        "    _ = plt.figure(figsize=(10,6))\n",
        "\n",
        "    ax1 = plt.subplot(212)\n",
        "    _ = plt.plot(list(silhouette_score.keys()), list(silhouette_score.values()))\n",
        "    _ = plt.xlabel(\"Number of Clusters\")\n",
        "    _ = plt.ylabel(\"Silhouette Score\")\n",
        "    _ = plt.title(\"Silhouette Score After K-Means Clustering\")\n",
        "    _ = plt.xticks([i for i in range(2, max_loop)], rotation=75)\n",
        "    \n",
        "    plt.subplots_adjust(top=0.92, bottom=0.08, left=0.10, right=0.95, hspace=0.5, wspace=0.35)\n"
      ]
    },
    {
      "cell_type": "markdown",
      "metadata": {
        "id": "YfU21ha1GBwq"
      },
      "source": [
        "Function to Plot and Compare **DBSCAN** with Fractal distance"
      ]
    },
    {
      "cell_type": "code",
      "execution_count": null,
      "metadata": {
        "id": "x43rV-umgqrr"
      },
      "outputs": [],
      "source": [
        " from sklearn.cluster import DBSCAN\n",
        "def plot_cluster_dbscan(df):\n",
        "    try:\n",
        "        df.drop('cluster', axis=1, inplace=True)\n",
        "    except:\n",
        "        next\n",
        "    X = df.iloc[:,1:].values    \n",
        "    rb = RobustScaler()\n",
        "    X_rb = rb.fit_transform(X)\n",
        "\n",
        "\n",
        "    silhouette_score = -1\n",
        "    \n",
        "    \n",
        "    cluster_labels = DBSCAN(eps=3, min_samples=2, metric=fractal_distance).fit_predict(X_rb)\n",
        "    silhouette_score = metrics.silhouette_score(X_rb, cluster_labels, random_state=10)\n",
        "\n",
        "    print(\"Silhouette Score is \", silhouette_score)"
      ]
    },
    {
      "cell_type": "markdown",
      "metadata": {
        "id": "AWcGnWp4GJc7"
      },
      "source": [
        "Function to Plot and Compare **Spectral Clustering** with Fractal distance"
      ]
    },
    {
      "cell_type": "code",
      "execution_count": null,
      "metadata": {
        "id": "FI0Ig1VjgqlF"
      },
      "outputs": [],
      "source": [
        "from sklearn.cluster import SpectralClustering\n",
        "def plot_cluster_spectral(df, max_loop=50):\n",
        "    try:\n",
        "        df.drop('cluster', axis=1, inplace=True)\n",
        "    except:\n",
        "        next\n",
        "    X = df.iloc[:,1:].values    \n",
        "    rb = RobustScaler()\n",
        "    X_rb = rb.fit_transform(X)\n",
        "\n",
        "    silhouette_score = {}\n",
        "\n",
        "    for k in range(2, max_loop):\n",
        "        cluster_labels = SpectralClustering(n_clusters=k, assign_labels='discretize', random_state=10, affinity=fractal_distance).fit_predict(X_rb)\n",
        "        silhouette_score[k] = metrics.silhouette_score(X_rb, cluster_labels, random_state=10)\n",
        "\n",
        "    ax2 = plt.subplot(212)\n",
        "    _ = plt.plot(list(silhouette_score.keys()), list(silhouette_score.values()))\n",
        "    _ = plt.xlabel(\"Number of Clusters\")\n",
        "    _ = plt.ylabel(\"Silhouette Score\")\n",
        "    _ = plt.title(\"Silhouette Score After Spectral Clustering\")\n",
        "    _ = plt.xticks([i for i in range(2, max_loop)], rotation=75)\n",
        "    \n",
        "    plt.subplots_adjust(top=0.92, bottom=0.08, left=0.10, right=0.95, hspace=0.5, wspace=0.35)\n"
      ]
    },
    {
      "cell_type": "markdown",
      "metadata": {
        "id": "l7wd2VZHGPkq"
      },
      "source": [
        "Function to Plot and Compare **Agglomerative Clustering** with Fractal distance"
      ]
    },
    {
      "cell_type": "code",
      "execution_count": null,
      "metadata": {
        "id": "g8GnkRtvgq8E"
      },
      "outputs": [],
      "source": [
        "from scipy.cluster.hierarchy import linkage\n",
        "from sklearn.cluster import AgglomerativeClustering\n",
        "def plot_cluster_agglomerative(df, max_loop=50):\n",
        "    try:\n",
        "        df.drop('cluster', axis=1, inplace=True)\n",
        "    except:\n",
        "        next\n",
        "    X = df.iloc[:,1:].values    \n",
        "    rb = RobustScaler()\n",
        "    X_rb = rb.fit_transform(X)\n",
        "\n",
        "    def sim_affinity(X):\n",
        "      return metrics.pairwise_distances(X, metric=fractal_distance)\n",
        "\n",
        "    silhouette_score = {}\n",
        "    \n",
        "    for k in range(2, max_loop):\n",
        "        instance = AgglomerativeClustering(n_clusters=k, affinity=sim_affinity, linkage='average')\n",
        "        instance.fit_predict(X_rb)\n",
        "        cluster_labels = instance.labels_\n",
        "        silhouette_score[k] = metrics.silhouette_score(X_rb, cluster_labels, random_state=10)\n",
        "\n",
        "    _ = plt.figure(figsize=(10,6))\n",
        "    \n",
        "    ax1 = plt.subplot(212)\n",
        "    _ = plt.plot(list(silhouette_score.keys()), list(silhouette_score.values()))\n",
        "    _ = plt.xlabel(\"Number of Clusters\")\n",
        "    _ = plt.ylabel(\"Silhouette Score\")\n",
        "    _ = plt.title(\"Silhouette Score After Agglomerative Clustering\")\n",
        "    _ = plt.xticks([i for i in range(2, max_loop)], rotation=75)\n",
        "    \n",
        "    plt.subplots_adjust(top=0.92, bottom=0.08, left=0.10, right=0.95, hspace=0.5, wspace=0.35)\n"
      ]
    },
    {
      "cell_type": "code",
      "execution_count": null,
      "metadata": {
        "id": "mVJAmX7jEOZy"
      },
      "outputs": [],
      "source": [
        "change_df_train = change_df.iloc[:,1:].dropna().drop('Mean',axis=1)"
      ]
    },
    {
      "cell_type": "code",
      "execution_count": null,
      "metadata": {
        "colab": {
          "base_uri": "https://localhost:8080/",
          "height": 222
        },
        "id": "_IkLvPxVEjTs",
        "outputId": "21928f98-51b1-431f-dce5-72ad7261e8f8"
      },
      "outputs": [
        {
          "output_type": "display_data",
          "data": {
            "text/plain": [
              "<Figure size 720x432 with 1 Axes>"
            ],
            "image/png": "[encoded data removed]"
          },
          "metadata": {
            "needs_background": "light"
          }
        }
      ],
      "source": [
        "plot_cluster_kmeans(change_df_train, 10)"
      ]
    },
    {
      "cell_type": "code",
      "execution_count": null,
      "metadata": {
        "colab": {
          "base_uri": "https://localhost:8080/",
          "height": 173
        },
        "id": "4Xl9pNSUvcDi",
        "outputId": "687f6b66-e96f-40f2-c877-8500411f0c5f"
      },
      "outputs": [
        {
          "output_type": "display_data",
          "data": {
            "text/plain": [
              "<Figure size 432x288 with 1 Axes>"
            ],
            "image/png": "[encoded data removed]"
          },
          "metadata": {
            "needs_background": "light"
          }
        }
      ],
      "source": [
        "plot_cluster_spectral(change_df_train, 10)"
      ]
    },
    {
      "cell_type": "code",
      "execution_count": null,
      "metadata": {
        "colab": {
          "base_uri": "https://localhost:8080/"
        },
        "id": "sxRk3UfUvcAh",
        "outputId": "5c44894c-cb99-459b-f1d7-29724c54213c"
      },
      "outputs": [
        {
          "output_type": "stream",
          "name": "stdout",
          "text": [
            "Silhouette Score is  0.0028006651828327896\n"
          ]
        }
      ],
      "source": [
        "plot_cluster_dbscan(change_df_train)"
      ]
    },
    {
      "cell_type": "code",
      "execution_count": null,
      "metadata": {
        "colab": {
          "base_uri": "https://localhost:8080/",
          "height": 222
        },
        "id": "9ohd3AOovb44",
        "outputId": "39cac7a6-3581-4d9e-919d-2389b7453596"
      },
      "outputs": [
        {
          "output_type": "display_data",
          "data": {
            "text/plain": [
              "<Figure size 720x432 with 1 Axes>"
            ],
            "image/png": "[encoded data removed]"
          },
          "metadata": {
            "needs_background": "light"
          }
        }
      ],
      "source": [
        "plot_cluster_agglomerative(change_df_train, 10)"
      ]
    },
    {
      "cell_type": "markdown",
      "metadata": {
        "id": "_w-flcMLExrT"
      },
      "source": [
        "Comparing the Silhouette score of different algorithms, the best suited algorithm is **Agglomerative Clustering**"
      ]
    },
    {
      "cell_type": "markdown",
      "metadata": {
        "id": "lrzwmJnZwE90"
      },
      "source": [
        "### Applying Fractal Clustering with - Agglomerative Clustering"
      ]
    },
    {
      "cell_type": "code",
      "execution_count": null,
      "metadata": {
        "id": "bx-8S01zwZdL"
      },
      "outputs": [],
      "source": [
        "def apply_cluster(df, clusters=2):\n",
        "    try:\n",
        "        df.drop('cluster', axis=1, inplace=True)\n",
        "    except:\n",
        "        next\n",
        "    X = df.iloc[:,1:]\n",
        "    rb = RobustScaler()\n",
        "    X_rb = rb.fit_transform(X)\n",
        "    def sim_affinity(X):\n",
        "      return metrics.pairwise_distances(X, metric=fractal_distance)\n",
        "\n",
        "    instance = AgglomerativeClustering(n_clusters=clusters, affinity=sim_affinity, linkage='average')\n",
        "    instance.fit_predict(X_rb)\n",
        "    score = metrics.silhouette_score(X_rb, instance.labels_, random_state=10)\n",
        "    df['cluster'] = instance.labels_\n",
        "    \n",
        "    print(\"clustering performance\")\n",
        "    print(\"-----------------------------------\")\n",
        "    print(\"silhouette score: \" + str(score.round(2)))\n",
        "    \n",
        "    return df"
      ]
    },
    {
      "cell_type": "markdown",
      "metadata": {
        "id": "iVG0bSP9G5CW"
      },
      "source": [
        "#### First Iteration"
      ]
    },
    {
      "cell_type": "code",
      "execution_count": null,
      "metadata": {
        "colab": {
          "background_save": true
        },
        "id": "bLeXUstpG5CX",
        "outputId": "aec1f069-4e7d-495a-92bf-31ea3731f244"
      },
      "outputs": [
        {
          "data": {
            "image/png": "[encoded data removed]",
            "text/plain": [
              "<Figure size 720x432 with 1 Axes>"
            ]
          },
          "metadata": {},
          "output_type": "display_data"
        }
      ],
      "source": [
        "plot_cluster_agglomerative(change_df_train, 15)"
      ]
    },
    {
      "cell_type": "markdown",
      "metadata": {
        "id": "D6pxjhdVG5CX"
      },
      "source": [
        "**Optimal Cluster** is 2."
      ]
    },
    {
      "cell_type": "code",
      "execution_count": null,
      "metadata": {
        "colab": {
          "base_uri": "https://localhost:8080/"
        },
        "id": "v5L60irnG5CY",
        "outputId": "2e64bae5-9df0-46ea-a600-8e6d953f5d85"
      },
      "outputs": [
        {
          "name": "stdout",
          "output_type": "stream",
          "text": [
            "clustering performance\n",
            "-----------------------------------\n",
            "silhouette score: 0.27\n"
          ]
        }
      ],
      "source": [
        "first_trial = apply_cluster(change_df_train, clusters=2)"
      ]
    },
    {
      "cell_type": "code",
      "execution_count": null,
      "metadata": {
        "colab": {
          "base_uri": "https://localhost:8080/"
        },
        "id": "28FbKTidG5CY",
        "outputId": "cfefbfb3-f2e5-40db-c662-89daeb078603"
      },
      "outputs": [
        {
          "data": {
            "text/plain": [
              "cluster  cluster\n",
              "0        0          1035\n",
              "1        1             1\n",
              "Name: cluster, dtype: int64"
            ]
          },
          "execution_count": 35,
          "metadata": {},
          "output_type": "execute_result"
        }
      ],
      "source": [
        "cluster_perf_df = first_trial.groupby('cluster')\n",
        "cluster_perf_df['cluster'].value_counts()"
      ]
    },
    {
      "cell_type": "code",
      "execution_count": null,
      "metadata": {
        "colab": {
          "base_uri": "https://localhost:8080/",
          "height": 438
        },
        "id": "CYbyDXH_G5CY",
        "outputId": "f8d5e248-42d4-40d7-b030-f820e3916cb9"
      },
      "outputs": [
        {
          "data": {
            "text/html": [
              "\n",
              "  <div id=\"df-2258ebf7-92a9-40cc-ba65-75908ac5c7fc\">\n",
              "    <div class=\"colab-df-container\">\n",
              "      <div>\n",
              "<style scoped>\n",
              "    .dataframe tbody tr th:only-of-type {\n",
              "        vertical-align: middle;\n",
              "    }\n",
              "\n",
              "    .dataframe tbody tr th {\n",
              "        vertical-align: top;\n",
              "    }\n",
              "\n",
              "    .dataframe thead th {\n",
              "        text-align: right;\n",
              "    }\n",
              "</style>\n",
              "<table border=\"1\" class=\"dataframe\">\n",
              "  <thead>\n",
              "    <tr style=\"text-align: right;\">\n",
              "      <th></th>\n",
              "      <th>2000-02-29</th>\n",
              "      <th>2000-03-31</th>\n",
              "      <th>2000-04-30</th>\n",
              "      <th>2000-05-31</th>\n",
              "      <th>2000-06-30</th>\n",
              "      <th>2000-07-31</th>\n",
              "      <th>2000-08-31</th>\n",
              "      <th>2000-09-30</th>\n",
              "      <th>2000-10-31</th>\n",
              "      <th>2000-11-30</th>\n",
              "      <th>...</th>\n",
              "      <th>2022-07-31</th>\n",
              "      <th>2022-08-31</th>\n",
              "      <th>2022-09-30</th>\n",
              "      <th>2022-10-31</th>\n",
              "      <th>2022-11-30</th>\n",
              "      <th>2022-12-31</th>\n",
              "      <th>2023-01-31</th>\n",
              "      <th>cluster</th>\n",
              "      <th>c</th>\n",
              "      <th>Y</th>\n",
              "    </tr>\n",
              "  </thead>\n",
              "  <tbody>\n",
              "    <tr>\n",
              "      <th>0</th>\n",
              "      <td>0.001071</td>\n",
              "      <td>0.004114</td>\n",
              "      <td>0.008088</td>\n",
              "      <td>0.010265</td>\n",
              "      <td>0.009753</td>\n",
              "      <td>0.009820</td>\n",
              "      <td>0.010056</td>\n",
              "      <td>0.009273</td>\n",
              "      <td>0.007380</td>\n",
              "      <td>0.006706</td>\n",
              "      <td>...</td>\n",
              "      <td>0.002963</td>\n",
              "      <td>-0.001737</td>\n",
              "      <td>-0.004183</td>\n",
              "      <td>-0.004462</td>\n",
              "      <td>-0.002977</td>\n",
              "      <td>-0.003894</td>\n",
              "      <td>-0.008745</td>\n",
              "      <td>0</td>\n",
              "      <td>#DF2020</td>\n",
              "      <td>Los Angeles County</td>\n",
              "    </tr>\n",
              "    <tr>\n",
              "      <th>1</th>\n",
              "      <td>-0.000191</td>\n",
              "      <td>0.001657</td>\n",
              "      <td>0.004755</td>\n",
              "      <td>0.006106</td>\n",
              "      <td>0.006353</td>\n",
              "      <td>0.005831</td>\n",
              "      <td>0.008089</td>\n",
              "      <td>0.009300</td>\n",
              "      <td>0.011075</td>\n",
              "      <td>0.012412</td>\n",
              "      <td>...</td>\n",
              "      <td>-0.002261</td>\n",
              "      <td>-0.004706</td>\n",
              "      <td>-0.007435</td>\n",
              "      <td>-0.006301</td>\n",
              "      <td>-0.002833</td>\n",
              "      <td>-0.002704</td>\n",
              "      <td>0.002236</td>\n",
              "      <td>0</td>\n",
              "      <td>#DF2020</td>\n",
              "      <td>Cook County</td>\n",
              "    </tr>\n",
              "    <tr>\n",
              "      <th>2</th>\n",
              "      <td>-0.000271</td>\n",
              "      <td>-0.001479</td>\n",
              "      <td>-0.000621</td>\n",
              "      <td>-0.000244</td>\n",
              "      <td>0.001708</td>\n",
              "      <td>0.001928</td>\n",
              "      <td>0.002785</td>\n",
              "      <td>0.003620</td>\n",
              "      <td>0.003046</td>\n",
              "      <td>0.004928</td>\n",
              "      <td>...</td>\n",
              "      <td>0.009635</td>\n",
              "      <td>0.004303</td>\n",
              "      <td>0.000107</td>\n",
              "      <td>-0.001417</td>\n",
              "      <td>-0.001683</td>\n",
              "      <td>-0.004085</td>\n",
              "      <td>-0.006093</td>\n",
              "      <td>0</td>\n",
              "      <td>#DF2020</td>\n",
              "      <td>Harris County</td>\n",
              "    </tr>\n",
              "    <tr>\n",
              "      <th>3</th>\n",
              "      <td>0.002045</td>\n",
              "      <td>0.002694</td>\n",
              "      <td>0.005524</td>\n",
              "      <td>0.006054</td>\n",
              "      <td>0.005086</td>\n",
              "      <td>0.005036</td>\n",
              "      <td>0.004657</td>\n",
              "      <td>0.005236</td>\n",
              "      <td>0.004837</td>\n",
              "      <td>0.004863</td>\n",
              "      <td>...</td>\n",
              "      <td>0.008282</td>\n",
              "      <td>-0.000960</td>\n",
              "      <td>-0.009167</td>\n",
              "      <td>-0.012097</td>\n",
              "      <td>-0.013316</td>\n",
              "      <td>-0.014361</td>\n",
              "      <td>-0.011766</td>\n",
              "      <td>0</td>\n",
              "      <td>#DF2020</td>\n",
              "      <td>Maricopa County</td>\n",
              "    </tr>\n",
              "    <tr>\n",
              "      <th>4</th>\n",
              "      <td>0.003930</td>\n",
              "      <td>0.004758</td>\n",
              "      <td>0.010724</td>\n",
              "      <td>0.011464</td>\n",
              "      <td>0.014312</td>\n",
              "      <td>0.016437</td>\n",
              "      <td>0.017770</td>\n",
              "      <td>0.016425</td>\n",
              "      <td>0.013601</td>\n",
              "      <td>0.013024</td>\n",
              "      <td>...</td>\n",
              "      <td>0.000542</td>\n",
              "      <td>-0.008116</td>\n",
              "      <td>-0.013517</td>\n",
              "      <td>-0.012443</td>\n",
              "      <td>-0.009640</td>\n",
              "      <td>-0.008416</td>\n",
              "      <td>-0.008202</td>\n",
              "      <td>0</td>\n",
              "      <td>#DF2020</td>\n",
              "      <td>San Diego County</td>\n",
              "    </tr>\n",
              "  </tbody>\n",
              "</table>\n",
              "<p>5 rows × 279 columns</p>\n",
              "</div>\n",
              "      <button class=\"colab-df-convert\" onclick=\"convertToInteractive('df-2258ebf7-92a9-40cc-ba65-75908ac5c7fc')\"\n",
              "              title=\"Convert this dataframe to an interactive table.\"\n",
              "              style=\"display:none;\">\n",
              "        \n",
              "  <svg xmlns=\"http://www.w3.org/2000/svg\" height=\"24px\"viewBox=\"0 0 24 24\"\n",
              "       width=\"24px\">\n",
              "    <path d=\"M0 0h24v24H0V0z\" fill=\"none\"/>\n",
              "    <path d=\"M18.56 5.44l.94 2.06.94-2.06 2.06-.94-2.06-.94-.94-2.06-.94 2.06-2.06.94zm-11 1L8.5 8.5l.94-2.06 2.06-.94-2.06-.94L8.5 2.5l-.94 2.06-2.06.94zm10 10l.94 2.06.94-2.06 2.06-.94-2.06-.94-.94-2.06-.94 2.06-2.06.94z\"/><path d=\"M17.41 7.96l-1.37-1.37c-.4-.4-.92-.59-1.43-.59-.52 0-1.04.2-1.43.59L10.3 9.45l-7.72 7.72c-.78.78-.78 2.05 0 2.83L4 21.41c.39.39.9.59 1.41.59.51 0 1.02-.2 1.41-.59l7.78-7.78 2.81-2.81c.8-.78.8-2.07 0-2.86zM5.41 20L4 18.59l7.72-7.72 1.47 1.35L5.41 20z\"/>\n",
              "  </svg>\n",
              "      </button>\n",
              "      \n",
              "  <style>\n",
              "    .colab-df-container {\n",
              "      display:flex;\n",
              "      flex-wrap:wrap;\n",
              "      gap: 12px;\n",
              "    }\n",
              "\n",
              "    .colab-df-convert {\n",
              "      background-color: #E8F0FE;\n",
              "      border: none;\n",
              "      border-radius: 50%;\n",
              "      cursor: pointer;\n",
              "      display: none;\n",
              "      fill: #1967D2;\n",
              "      height: 32px;\n",
              "      padding: 0 0 0 0;\n",
              "      width: 32px;\n",
              "    }\n",
              "\n",
              "    .colab-df-convert:hover {\n",
              "      background-color: #E2EBFA;\n",
              "      box-shadow: 0px 1px 2px rgba(60, 64, 67, 0.3), 0px 1px 3px 1px rgba(60, 64, 67, 0.15);\n",
              "      fill: #174EA6;\n",
              "    }\n",
              "\n",
              "    [theme=dark] .colab-df-convert {\n",
              "      background-color: #3B4455;\n",
              "      fill: #D2E3FC;\n",
              "    }\n",
              "\n",
              "    [theme=dark] .colab-df-convert:hover {\n",
              "      background-color: #434B5C;\n",
              "      box-shadow: 0px 1px 3px 1px rgba(0, 0, 0, 0.15);\n",
              "      filter: drop-shadow(0px 1px 2px rgba(0, 0, 0, 0.3));\n",
              "      fill: #FFFFFF;\n",
              "    }\n",
              "  </style>\n",
              "\n",
              "      <script>\n",
              "        const buttonEl =\n",
              "          document.querySelector('#df-2258ebf7-92a9-40cc-ba65-75908ac5c7fc button.colab-df-convert');\n",
              "        buttonEl.style.display =\n",
              "          google.colab.kernel.accessAllowed ? 'block' : 'none';\n",
              "\n",
              "        async function convertToInteractive(key) {\n",
              "          const element = document.querySelector('#df-2258ebf7-92a9-40cc-ba65-75908ac5c7fc');\n",
              "          const dataTable =\n",
              "            await google.colab.kernel.invokeFunction('convertToInteractive',\n",
              "                                                     [key], {});\n",
              "          if (!dataTable) return;\n",
              "\n",
              "          const docLinkHtml = 'Like what you see? Visit the ' +\n",
              "            '<a target=\"_blank\" href=https://colab.research.google.com/notebooks/data_table.ipynb>data table notebook</a>'\n",
              "            + ' to learn more about interactive tables.';\n",
              "          element.innerHTML = '';\n",
              "          dataTable['output_type'] = 'display_data';\n",
              "          await google.colab.output.renderOutput(dataTable, element);\n",
              "          const docLink = document.createElement('div');\n",
              "          docLink.innerHTML = docLinkHtml;\n",
              "          element.appendChild(docLink);\n",
              "        }\n",
              "      </script>\n",
              "    </div>\n",
              "  </div>\n",
              "  "
            ],
            "text/plain": [
              "   2000-02-29  2000-03-31  2000-04-30  2000-05-31  2000-06-30  2000-07-31  \\\n",
              "0    0.001071    0.004114    0.008088    0.010265    0.009753    0.009820   \n",
              "1   -0.000191    0.001657    0.004755    0.006106    0.006353    0.005831   \n",
              "2   -0.000271   -0.001479   -0.000621   -0.000244    0.001708    0.001928   \n",
              "3    0.002045    0.002694    0.005524    0.006054    0.005086    0.005036   \n",
              "4    0.003930    0.004758    0.010724    0.011464    0.014312    0.016437   \n",
              "\n",
              "   2000-08-31  2000-09-30  2000-10-31  2000-11-30  ...  2022-07-31  \\\n",
              "0    0.010056    0.009273    0.007380    0.006706  ...    0.002963   \n",
              "1    0.008089    0.009300    0.011075    0.012412  ...   -0.002261   \n",
              "2    0.002785    0.003620    0.003046    0.004928  ...    0.009635   \n",
              "3    0.004657    0.005236    0.004837    0.004863  ...    0.008282   \n",
              "4    0.017770    0.016425    0.013601    0.013024  ...    0.000542   \n",
              "\n",
              "   2022-08-31  2022-09-30  2022-10-31  2022-11-30  2022-12-31  2023-01-31  \\\n",
              "0   -0.001737   -0.004183   -0.004462   -0.002977   -0.003894   -0.008745   \n",
              "1   -0.004706   -0.007435   -0.006301   -0.002833   -0.002704    0.002236   \n",
              "2    0.004303    0.000107   -0.001417   -0.001683   -0.004085   -0.006093   \n",
              "3   -0.000960   -0.009167   -0.012097   -0.013316   -0.014361   -0.011766   \n",
              "4   -0.008116   -0.013517   -0.012443   -0.009640   -0.008416   -0.008202   \n",
              "\n",
              "   cluster        c                   Y  \n",
              "0        0  #DF2020  Los Angeles County  \n",
              "1        0  #DF2020         Cook County  \n",
              "2        0  #DF2020       Harris County  \n",
              "3        0  #DF2020     Maricopa County  \n",
              "4        0  #DF2020    San Diego County  \n",
              "\n",
              "[5 rows x 279 columns]"
            ]
          },
          "execution_count": 36,
          "metadata": {},
          "output_type": "execute_result"
        }
      ],
      "source": [
        "colors = ['#DF2020', '#81DF20']\n",
        "first_trial['c'] = first_trial.cluster.map({0:colors[0], 1:colors[1]})\n",
        "first_trial['Y'] = df['RegionName']\n",
        "first_trial.head()"
      ]
    },
    {
      "cell_type": "code",
      "execution_count": null,
      "metadata": {
        "colab": {
          "base_uri": "https://localhost:8080/",
          "height": 283
        },
        "id": "omH5uf12G5CY",
        "outputId": "48f610fd-e583-44c0-c6dc-d6080d33e64d"
      },
      "outputs": [
        {
          "data": {
            "text/plain": [
              "<matplotlib.collections.PathCollection at 0x7f95e3249400>"
            ]
          },
          "execution_count": 37,
          "metadata": {},
          "output_type": "execute_result"
        },
        {
          "data": {
            "image/png": "[encoded data removed]",
            "text/plain": [
              "<Figure size 432x288 with 1 Axes>"
            ]
          },
          "metadata": {},
          "output_type": "display_data"
        }
      ],
      "source": [
        "plt.scatter(first_trial['2000-02-29'], first_trial['2023-01-31'],c=first_trial.c, alpha = 0.6, s=10)"
      ]
    },
    {
      "cell_type": "markdown",
      "metadata": {
        "id": "2ooE2p4EG5CY"
      },
      "source": [
        "We see that after the first iterration there is only one Prominent Cluster. And so we will use it for the second iteration.\n",
        "\n"
      ]
    },
    {
      "cell_type": "markdown",
      "metadata": {
        "id": "4YyKtlQYVIdk"
      },
      "source": [
        "#### Second Iteration"
      ]
    },
    {
      "cell_type": "code",
      "execution_count": null,
      "metadata": {
        "id": "KX4coW_UVIdr"
      },
      "outputs": [],
      "source": [
        "df3 = first_trial.query(\"cluster == 0\").reset_index(drop=True).drop(['c', 'Y'], axis=1)"
      ]
    },
    {
      "cell_type": "code",
      "execution_count": null,
      "metadata": {
        "colab": {
          "background_save": true
        },
        "id": "pc4fZn9GVIdr",
        "outputId": "70cbcc86-b46a-403f-9e21-0eeca206d3c4"
      },
      "outputs": [
        {
          "data": {
            "image/png": "[encoded data removed]",
            "text/plain": [
              "<Figure size 720x432 with 1 Axes>"
            ]
          },
          "metadata": {},
          "output_type": "display_data"
        }
      ],
      "source": [
        "plot_cluster_agglomerative(df3, max_loop=15)"
      ]
    },
    {
      "cell_type": "markdown",
      "metadata": {
        "id": "DVcw9rGxVIdr"
      },
      "source": [
        "**Optimal Cluster** is 2."
      ]
    },
    {
      "cell_type": "code",
      "execution_count": null,
      "metadata": {
        "colab": {
          "background_save": true
        },
        "id": "MqsG3EJwVIdr",
        "outputId": "e80e8c9f-80ba-4129-f828-d284db7eaf75"
      },
      "outputs": [
        {
          "name": "stdout",
          "output_type": "stream",
          "text": [
            "clustering performance\n",
            "-----------------------------------\n",
            "silhouette score: 0.22\n"
          ]
        }
      ],
      "source": [
        "second_trial= apply_cluster(df3, clusters=2)"
      ]
    },
    {
      "cell_type": "code",
      "execution_count": null,
      "metadata": {
        "colab": {
          "background_save": true
        },
        "id": "C72OVJbwVIdr",
        "outputId": "b7117387-b880-447b-8422-be5e5358207a"
      },
      "outputs": [
        {
          "data": {
            "text/plain": [
              "cluster  cluster\n",
              "0        0          1033\n",
              "1        1             2\n",
              "Name: cluster, dtype: int64"
            ]
          },
          "execution_count": 39,
          "metadata": {},
          "output_type": "execute_result"
        }
      ],
      "source": [
        "cluster_perf_df = second_trial.groupby('cluster')\n",
        "cluster_perf_df['cluster'].value_counts()"
      ]
    },
    {
      "cell_type": "code",
      "execution_count": null,
      "metadata": {
        "colab": {
          "base_uri": "https://localhost:8080/",
          "height": 438
        },
        "id": "Ge9YNFOUVIdr",
        "outputId": "4d602441-8df2-44d1-8e58-2508088859de"
      },
      "outputs": [
        {
          "output_type": "execute_result",
          "data": {
            "text/plain": [
              "   2000-02-29  2000-03-31  2000-04-30  2000-05-31  2000-06-30  2000-07-31  \\\n",
              "0    0.001071    0.004114    0.008088    0.010265    0.009753    0.009820   \n",
              "1   -0.000191    0.001657    0.004755    0.006106    0.006353    0.005831   \n",
              "2   -0.000271   -0.001479   -0.000621   -0.000244    0.001708    0.001928   \n",
              "3    0.002045    0.002694    0.005524    0.006054    0.005086    0.005036   \n",
              "4    0.003930    0.004758    0.010724    0.011464    0.014312    0.016437   \n",
              "\n",
              "   2000-08-31  2000-09-30  2000-10-31  2000-11-30  ...  2022-07-31  \\\n",
              "0    0.010056    0.009273    0.007380    0.006706  ...    0.002963   \n",
              "1    0.008089    0.009300    0.011075    0.012412  ...   -0.002261   \n",
              "2    0.002785    0.003620    0.003046    0.004928  ...    0.009635   \n",
              "3    0.004657    0.005236    0.004837    0.004863  ...    0.008282   \n",
              "4    0.017770    0.016425    0.013601    0.013024  ...    0.000542   \n",
              "\n",
              "   2022-08-31  2022-09-30  2022-10-31  2022-11-30  2022-12-31  2023-01-31  \\\n",
              "0   -0.001737   -0.004183   -0.004462   -0.002977   -0.003894   -0.008745   \n",
              "1   -0.004706   -0.007435   -0.006301   -0.002833   -0.002704    0.002236   \n",
              "2    0.004303    0.000107   -0.001417   -0.001683   -0.004085   -0.006093   \n",
              "3   -0.000960   -0.009167   -0.012097   -0.013316   -0.014361   -0.011766   \n",
              "4   -0.008116   -0.013517   -0.012443   -0.009640   -0.008416   -0.008202   \n",
              "\n",
              "   cluster        c                   Y  \n",
              "0        0  #e6194b  Los Angeles County  \n",
              "1        0  #e6194b         Cook County  \n",
              "2        0  #e6194b       Harris County  \n",
              "3        0  #e6194b     Maricopa County  \n",
              "4        0  #e6194b    San Diego County  \n",
              "\n",
              "[5 rows x 279 columns]"
            ],
            "text/html": [
              "\n",
              "  <div id=\"df-ae6c3d66-33f8-4e7c-8f28-09ff68f3ad9f\">\n",
              "    <div class=\"colab-df-container\">\n",
              "      <div>\n",
              "<style scoped>\n",
              "    .dataframe tbody tr th:only-of-type {\n",
              "        vertical-align: middle;\n",
              "    }\n",
              "\n",
              "    .dataframe tbody tr th {\n",
              "        vertical-align: top;\n",
              "    }\n",
              "\n",
              "    .dataframe thead th {\n",
              "        text-align: right;\n",
              "    }\n",
              "</style>\n",
              "<table border=\"1\" class=\"dataframe\">\n",
              "  <thead>\n",
              "    <tr style=\"text-align: right;\">\n",
              "      <th></th>\n",
              "      <th>2000-02-29</th>\n",
              "      <th>2000-03-31</th>\n",
              "      <th>2000-04-30</th>\n",
              "      <th>2000-05-31</th>\n",
              "      <th>2000-06-30</th>\n",
              "      <th>2000-07-31</th>\n",
              "      <th>2000-08-31</th>\n",
              "      <th>2000-09-30</th>\n",
              "      <th>2000-10-31</th>\n",
              "      <th>2000-11-30</th>\n",
              "      <th>...</th>\n",
              "      <th>2022-07-31</th>\n",
              "      <th>2022-08-31</th>\n",
              "      <th>2022-09-30</th>\n",
              "      <th>2022-10-31</th>\n",
              "      <th>2022-11-30</th>\n",
              "      <th>2022-12-31</th>\n",
              "      <th>2023-01-31</th>\n",
              "      <th>cluster</th>\n",
              "      <th>c</th>\n",
              "      <th>Y</th>\n",
              "    </tr>\n",
              "  </thead>\n",
              "  <tbody>\n",
              "    <tr>\n",
              "      <th>0</th>\n",
              "      <td>0.001071</td>\n",
              "      <td>0.004114</td>\n",
              "      <td>0.008088</td>\n",
              "      <td>0.010265</td>\n",
              "      <td>0.009753</td>\n",
              "      <td>0.009820</td>\n",
              "      <td>0.010056</td>\n",
              "      <td>0.009273</td>\n",
              "      <td>0.007380</td>\n",
              "      <td>0.006706</td>\n",
              "      <td>...</td>\n",
              "      <td>0.002963</td>\n",
              "      <td>-0.001737</td>\n",
              "      <td>-0.004183</td>\n",
              "      <td>-0.004462</td>\n",
              "      <td>-0.002977</td>\n",
              "      <td>-0.003894</td>\n",
              "      <td>-0.008745</td>\n",
              "      <td>0</td>\n",
              "      <td>#e6194b</td>\n",
              "      <td>Los Angeles County</td>\n",
              "    </tr>\n",
              "    <tr>\n",
              "      <th>1</th>\n",
              "      <td>-0.000191</td>\n",
              "      <td>0.001657</td>\n",
              "      <td>0.004755</td>\n",
              "      <td>0.006106</td>\n",
              "      <td>0.006353</td>\n",
              "      <td>0.005831</td>\n",
              "      <td>0.008089</td>\n",
              "      <td>0.009300</td>\n",
              "      <td>0.011075</td>\n",
              "      <td>0.012412</td>\n",
              "      <td>...</td>\n",
              "      <td>-0.002261</td>\n",
              "      <td>-0.004706</td>\n",
              "      <td>-0.007435</td>\n",
              "      <td>-0.006301</td>\n",
              "      <td>-0.002833</td>\n",
              "      <td>-0.002704</td>\n",
              "      <td>0.002236</td>\n",
              "      <td>0</td>\n",
              "      <td>#e6194b</td>\n",
              "      <td>Cook County</td>\n",
              "    </tr>\n",
              "    <tr>\n",
              "      <th>2</th>\n",
              "      <td>-0.000271</td>\n",
              "      <td>-0.001479</td>\n",
              "      <td>-0.000621</td>\n",
              "      <td>-0.000244</td>\n",
              "      <td>0.001708</td>\n",
              "      <td>0.001928</td>\n",
              "      <td>0.002785</td>\n",
              "      <td>0.003620</td>\n",
              "      <td>0.003046</td>\n",
              "      <td>0.004928</td>\n",
              "      <td>...</td>\n",
              "      <td>0.009635</td>\n",
              "      <td>0.004303</td>\n",
              "      <td>0.000107</td>\n",
              "      <td>-0.001417</td>\n",
              "      <td>-0.001683</td>\n",
              "      <td>-0.004085</td>\n",
              "      <td>-0.006093</td>\n",
              "      <td>0</td>\n",
              "      <td>#e6194b</td>\n",
              "      <td>Harris County</td>\n",
              "    </tr>\n",
              "    <tr>\n",
              "      <th>3</th>\n",
              "      <td>0.002045</td>\n",
              "      <td>0.002694</td>\n",
              "      <td>0.005524</td>\n",
              "      <td>0.006054</td>\n",
              "      <td>0.005086</td>\n",
              "      <td>0.005036</td>\n",
              "      <td>0.004657</td>\n",
              "      <td>0.005236</td>\n",
              "      <td>0.004837</td>\n",
              "      <td>0.004863</td>\n",
              "      <td>...</td>\n",
              "      <td>0.008282</td>\n",
              "      <td>-0.000960</td>\n",
              "      <td>-0.009167</td>\n",
              "      <td>-0.012097</td>\n",
              "      <td>-0.013316</td>\n",
              "      <td>-0.014361</td>\n",
              "      <td>-0.011766</td>\n",
              "      <td>0</td>\n",
              "      <td>#e6194b</td>\n",
              "      <td>Maricopa County</td>\n",
              "    </tr>\n",
              "    <tr>\n",
              "      <th>4</th>\n",
              "      <td>0.003930</td>\n",
              "      <td>0.004758</td>\n",
              "      <td>0.010724</td>\n",
              "      <td>0.011464</td>\n",
              "      <td>0.014312</td>\n",
              "      <td>0.016437</td>\n",
              "      <td>0.017770</td>\n",
              "      <td>0.016425</td>\n",
              "      <td>0.013601</td>\n",
              "      <td>0.013024</td>\n",
              "      <td>...</td>\n",
              "      <td>0.000542</td>\n",
              "      <td>-0.008116</td>\n",
              "      <td>-0.013517</td>\n",
              "      <td>-0.012443</td>\n",
              "      <td>-0.009640</td>\n",
              "      <td>-0.008416</td>\n",
              "      <td>-0.008202</td>\n",
              "      <td>0</td>\n",
              "      <td>#e6194b</td>\n",
              "      <td>San Diego County</td>\n",
              "    </tr>\n",
              "  </tbody>\n",
              "</table>\n",
              "<p>5 rows × 279 columns</p>\n",
              "</div>\n",
              "      <button class=\"colab-df-convert\" onclick=\"convertToInteractive('df-ae6c3d66-33f8-4e7c-8f28-09ff68f3ad9f')\"\n",
              "              title=\"Convert this dataframe to an interactive table.\"\n",
              "              style=\"display:none;\">\n",
              "        \n",
              "  <svg xmlns=\"http://www.w3.org/2000/svg\" height=\"24px\"viewBox=\"0 0 24 24\"\n",
              "       width=\"24px\">\n",
              "    <path d=\"M0 0h24v24H0V0z\" fill=\"none\"/>\n",
              "    <path d=\"M18.56 5.44l.94 2.06.94-2.06 2.06-.94-2.06-.94-.94-2.06-.94 2.06-2.06.94zm-11 1L8.5 8.5l.94-2.06 2.06-.94-2.06-.94L8.5 2.5l-.94 2.06-2.06.94zm10 10l.94 2.06.94-2.06 2.06-.94-2.06-.94-.94-2.06-.94 2.06-2.06.94z\"/><path d=\"M17.41 7.96l-1.37-1.37c-.4-.4-.92-.59-1.43-.59-.52 0-1.04.2-1.43.59L10.3 9.45l-7.72 7.72c-.78.78-.78 2.05 0 2.83L4 21.41c.39.39.9.59 1.41.59.51 0 1.02-.2 1.41-.59l7.78-7.78 2.81-2.81c.8-.78.8-2.07 0-2.86zM5.41 20L4 18.59l7.72-7.72 1.47 1.35L5.41 20z\"/>\n",
              "  </svg>\n",
              "      </button>\n",
              "      \n",
              "  <style>\n",
              "    .colab-df-container {\n",
              "      display:flex;\n",
              "      flex-wrap:wrap;\n",
              "      gap: 12px;\n",
              "    }\n",
              "\n",
              "    .colab-df-convert {\n",
              "      background-color: #E8F0FE;\n",
              "      border: none;\n",
              "      border-radius: 50%;\n",
              "      cursor: pointer;\n",
              "      display: none;\n",
              "      fill: #1967D2;\n",
              "      height: 32px;\n",
              "      padding: 0 0 0 0;\n",
              "      width: 32px;\n",
              "    }\n",
              "\n",
              "    .colab-df-convert:hover {\n",
              "      background-color: #E2EBFA;\n",
              "      box-shadow: 0px 1px 2px rgba(60, 64, 67, 0.3), 0px 1px 3px 1px rgba(60, 64, 67, 0.15);\n",
              "      fill: #174EA6;\n",
              "    }\n",
              "\n",
              "    [theme=dark] .colab-df-convert {\n",
              "      background-color: #3B4455;\n",
              "      fill: #D2E3FC;\n",
              "    }\n",
              "\n",
              "    [theme=dark] .colab-df-convert:hover {\n",
              "      background-color: #434B5C;\n",
              "      box-shadow: 0px 1px 3px 1px rgba(0, 0, 0, 0.15);\n",
              "      filter: drop-shadow(0px 1px 2px rgba(0, 0, 0, 0.3));\n",
              "      fill: #FFFFFF;\n",
              "    }\n",
              "  </style>\n",
              "\n",
              "      <script>\n",
              "        const buttonEl =\n",
              "          document.querySelector('#df-ae6c3d66-33f8-4e7c-8f28-09ff68f3ad9f button.colab-df-convert');\n",
              "        buttonEl.style.display =\n",
              "          google.colab.kernel.accessAllowed ? 'block' : 'none';\n",
              "\n",
              "        async function convertToInteractive(key) {\n",
              "          const element = document.querySelector('#df-ae6c3d66-33f8-4e7c-8f28-09ff68f3ad9f');\n",
              "          const dataTable =\n",
              "            await google.colab.kernel.invokeFunction('convertToInteractive',\n",
              "                                                     [key], {});\n",
              "          if (!dataTable) return;\n",
              "\n",
              "          const docLinkHtml = 'Like what you see? Visit the ' +\n",
              "            '<a target=\"_blank\" href=https://colab.research.google.com/notebooks/data_table.ipynb>data table notebook</a>'\n",
              "            + ' to learn more about interactive tables.';\n",
              "          element.innerHTML = '';\n",
              "          dataTable['output_type'] = 'display_data';\n",
              "          await google.colab.output.renderOutput(dataTable, element);\n",
              "          const docLink = document.createElement('div');\n",
              "          docLink.innerHTML = docLinkHtml;\n",
              "          element.appendChild(docLink);\n",
              "        }\n",
              "      </script>\n",
              "    </div>\n",
              "  </div>\n",
              "  "
            ]
          },
          "metadata": {},
          "execution_count": 42
        }
      ],
      "source": [
        "colors = ['#e6194b', '#3cb44b']\n",
        "second_trial['c'] = second_trial.cluster.map({0:colors[0], 1:colors[1]})\n",
        "second_trial['Y'] = df['RegionName']\n",
        "second_trial.head()"
      ]
    },
    {
      "cell_type": "code",
      "execution_count": null,
      "metadata": {
        "colab": {
          "base_uri": "https://localhost:8080/",
          "height": 283
        },
        "id": "pq9qa9lwVIdr",
        "outputId": "0e369759-7b3d-4bdd-e480-dabc7b49e22d"
      },
      "outputs": [
        {
          "output_type": "execute_result",
          "data": {
            "text/plain": [
              "<matplotlib.collections.PathCollection at 0x7f95e31829d0>"
            ]
          },
          "metadata": {},
          "execution_count": 43
        },
        {
          "output_type": "display_data",
          "data": {
            "text/plain": [
              "<Figure size 432x288 with 1 Axes>"
            ],
            "image/png": "[encoded data removed]"
          },
          "metadata": {
            "needs_background": "light"
          }
        }
      ],
      "source": [
        "plt.scatter(second_trial['2000-02-29'], second_trial['2023-01-31'],c=second_trial.c, alpha = 0.6, s=10)"
      ]
    },
    {
      "cell_type": "markdown",
      "metadata": {
        "id": "fpTxP-xNVIdr"
      },
      "source": [
        "After the second iteration we find only one prominenet Cluster. This confirms that we have found our golden Cluster."
      ]
    },
    {
      "cell_type": "code",
      "source": [
        "df_golden = second_trial.query(\"cluster == 0\").reset_index(drop=True)\n",
        "df_golden.head()"
      ],
      "metadata": {
        "colab": {
          "base_uri": "https://localhost:8080/",
          "height": 438
        },
        "id": "7kXk0pLFuixP",
        "outputId": "c7be1828-8158-4886-b5ff-bdcfb41bc7e4"
      },
      "execution_count": null,
      "outputs": [
        {
          "output_type": "execute_result",
          "data": {
            "text/plain": [
              "   2000-02-29  2000-03-31  2000-04-30  2000-05-31  2000-06-30  2000-07-31  \\\n",
              "0    0.001071    0.004114    0.008088    0.010265    0.009753    0.009820   \n",
              "1   -0.000191    0.001657    0.004755    0.006106    0.006353    0.005831   \n",
              "2   -0.000271   -0.001479   -0.000621   -0.000244    0.001708    0.001928   \n",
              "3    0.002045    0.002694    0.005524    0.006054    0.005086    0.005036   \n",
              "4    0.003930    0.004758    0.010724    0.011464    0.014312    0.016437   \n",
              "\n",
              "   2000-08-31  2000-09-30  2000-10-31  2000-11-30  ...  2022-07-31  \\\n",
              "0    0.010056    0.009273    0.007380    0.006706  ...    0.002963   \n",
              "1    0.008089    0.009300    0.011075    0.012412  ...   -0.002261   \n",
              "2    0.002785    0.003620    0.003046    0.004928  ...    0.009635   \n",
              "3    0.004657    0.005236    0.004837    0.004863  ...    0.008282   \n",
              "4    0.017770    0.016425    0.013601    0.013024  ...    0.000542   \n",
              "\n",
              "   2022-08-31  2022-09-30  2022-10-31  2022-11-30  2022-12-31  2023-01-31  \\\n",
              "0   -0.001737   -0.004183   -0.004462   -0.002977   -0.003894   -0.008745   \n",
              "1   -0.004706   -0.007435   -0.006301   -0.002833   -0.002704    0.002236   \n",
              "2    0.004303    0.000107   -0.001417   -0.001683   -0.004085   -0.006093   \n",
              "3   -0.000960   -0.009167   -0.012097   -0.013316   -0.014361   -0.011766   \n",
              "4   -0.008116   -0.013517   -0.012443   -0.009640   -0.008416   -0.008202   \n",
              "\n",
              "   cluster        c                   Y  \n",
              "0        0  #e6194b  Los Angeles County  \n",
              "1        0  #e6194b         Cook County  \n",
              "2        0  #e6194b       Harris County  \n",
              "3        0  #e6194b     Maricopa County  \n",
              "4        0  #e6194b    San Diego County  \n",
              "\n",
              "[5 rows x 279 columns]"
            ],
            "text/html": [
              "\n",
              "  <div id=\"df-ab0377e6-0cf5-4b63-8696-afe90bf280d4\">\n",
              "    <div class=\"colab-df-container\">\n",
              "      <div>\n",
              "<style scoped>\n",
              "    .dataframe tbody tr th:only-of-type {\n",
              "        vertical-align: middle;\n",
              "    }\n",
              "\n",
              "    .dataframe tbody tr th {\n",
              "        vertical-align: top;\n",
              "    }\n",
              "\n",
              "    .dataframe thead th {\n",
              "        text-align: right;\n",
              "    }\n",
              "</style>\n",
              "<table border=\"1\" class=\"dataframe\">\n",
              "  <thead>\n",
              "    <tr style=\"text-align: right;\">\n",
              "      <th></th>\n",
              "      <th>2000-02-29</th>\n",
              "      <th>2000-03-31</th>\n",
              "      <th>2000-04-30</th>\n",
              "      <th>2000-05-31</th>\n",
              "      <th>2000-06-30</th>\n",
              "      <th>2000-07-31</th>\n",
              "      <th>2000-08-31</th>\n",
              "      <th>2000-09-30</th>\n",
              "      <th>2000-10-31</th>\n",
              "      <th>2000-11-30</th>\n",
              "      <th>...</th>\n",
              "      <th>2022-07-31</th>\n",
              "      <th>2022-08-31</th>\n",
              "      <th>2022-09-30</th>\n",
              "      <th>2022-10-31</th>\n",
              "      <th>2022-11-30</th>\n",
              "      <th>2022-12-31</th>\n",
              "      <th>2023-01-31</th>\n",
              "      <th>cluster</th>\n",
              "      <th>c</th>\n",
              "      <th>Y</th>\n",
              "    </tr>\n",
              "  </thead>\n",
              "  <tbody>\n",
              "    <tr>\n",
              "      <th>0</th>\n",
              "      <td>0.001071</td>\n",
              "      <td>0.004114</td>\n",
              "      <td>0.008088</td>\n",
              "      <td>0.010265</td>\n",
              "      <td>0.009753</td>\n",
              "      <td>0.009820</td>\n",
              "      <td>0.010056</td>\n",
              "      <td>0.009273</td>\n",
              "      <td>0.007380</td>\n",
              "      <td>0.006706</td>\n",
              "      <td>...</td>\n",
              "      <td>0.002963</td>\n",
              "      <td>-0.001737</td>\n",
              "      <td>-0.004183</td>\n",
              "      <td>-0.004462</td>\n",
              "      <td>-0.002977</td>\n",
              "      <td>-0.003894</td>\n",
              "      <td>-0.008745</td>\n",
              "      <td>0</td>\n",
              "      <td>#e6194b</td>\n",
              "      <td>Los Angeles County</td>\n",
              "    </tr>\n",
              "    <tr>\n",
              "      <th>1</th>\n",
              "      <td>-0.000191</td>\n",
              "      <td>0.001657</td>\n",
              "      <td>0.004755</td>\n",
              "      <td>0.006106</td>\n",
              "      <td>0.006353</td>\n",
              "      <td>0.005831</td>\n",
              "      <td>0.008089</td>\n",
              "      <td>0.009300</td>\n",
              "      <td>0.011075</td>\n",
              "      <td>0.012412</td>\n",
              "      <td>...</td>\n",
              "      <td>-0.002261</td>\n",
              "      <td>-0.004706</td>\n",
              "      <td>-0.007435</td>\n",
              "      <td>-0.006301</td>\n",
              "      <td>-0.002833</td>\n",
              "      <td>-0.002704</td>\n",
              "      <td>0.002236</td>\n",
              "      <td>0</td>\n",
              "      <td>#e6194b</td>\n",
              "      <td>Cook County</td>\n",
              "    </tr>\n",
              "    <tr>\n",
              "      <th>2</th>\n",
              "      <td>-0.000271</td>\n",
              "      <td>-0.001479</td>\n",
              "      <td>-0.000621</td>\n",
              "      <td>-0.000244</td>\n",
              "      <td>0.001708</td>\n",
              "      <td>0.001928</td>\n",
              "      <td>0.002785</td>\n",
              "      <td>0.003620</td>\n",
              "      <td>0.003046</td>\n",
              "      <td>0.004928</td>\n",
              "      <td>...</td>\n",
              "      <td>0.009635</td>\n",
              "      <td>0.004303</td>\n",
              "      <td>0.000107</td>\n",
              "      <td>-0.001417</td>\n",
              "      <td>-0.001683</td>\n",
              "      <td>-0.004085</td>\n",
              "      <td>-0.006093</td>\n",
              "      <td>0</td>\n",
              "      <td>#e6194b</td>\n",
              "      <td>Harris County</td>\n",
              "    </tr>\n",
              "    <tr>\n",
              "      <th>3</th>\n",
              "      <td>0.002045</td>\n",
              "      <td>0.002694</td>\n",
              "      <td>0.005524</td>\n",
              "      <td>0.006054</td>\n",
              "      <td>0.005086</td>\n",
              "      <td>0.005036</td>\n",
              "      <td>0.004657</td>\n",
              "      <td>0.005236</td>\n",
              "      <td>0.004837</td>\n",
              "      <td>0.004863</td>\n",
              "      <td>...</td>\n",
              "      <td>0.008282</td>\n",
              "      <td>-0.000960</td>\n",
              "      <td>-0.009167</td>\n",
              "      <td>-0.012097</td>\n",
              "      <td>-0.013316</td>\n",
              "      <td>-0.014361</td>\n",
              "      <td>-0.011766</td>\n",
              "      <td>0</td>\n",
              "      <td>#e6194b</td>\n",
              "      <td>Maricopa County</td>\n",
              "    </tr>\n",
              "    <tr>\n",
              "      <th>4</th>\n",
              "      <td>0.003930</td>\n",
              "      <td>0.004758</td>\n",
              "      <td>0.010724</td>\n",
              "      <td>0.011464</td>\n",
              "      <td>0.014312</td>\n",
              "      <td>0.016437</td>\n",
              "      <td>0.017770</td>\n",
              "      <td>0.016425</td>\n",
              "      <td>0.013601</td>\n",
              "      <td>0.013024</td>\n",
              "      <td>...</td>\n",
              "      <td>0.000542</td>\n",
              "      <td>-0.008116</td>\n",
              "      <td>-0.013517</td>\n",
              "      <td>-0.012443</td>\n",
              "      <td>-0.009640</td>\n",
              "      <td>-0.008416</td>\n",
              "      <td>-0.008202</td>\n",
              "      <td>0</td>\n",
              "      <td>#e6194b</td>\n",
              "      <td>San Diego County</td>\n",
              "    </tr>\n",
              "  </tbody>\n",
              "</table>\n",
              "<p>5 rows × 279 columns</p>\n",
              "</div>\n",
              "      <button class=\"colab-df-convert\" onclick=\"convertToInteractive('df-ab0377e6-0cf5-4b63-8696-afe90bf280d4')\"\n",
              "              title=\"Convert this dataframe to an interactive table.\"\n",
              "              style=\"display:none;\">\n",
              "        \n",
              "  <svg xmlns=\"http://www.w3.org/2000/svg\" height=\"24px\"viewBox=\"0 0 24 24\"\n",
              "       width=\"24px\">\n",
              "    <path d=\"M0 0h24v24H0V0z\" fill=\"none\"/>\n",
              "    <path d=\"M18.56 5.44l.94 2.06.94-2.06 2.06-.94-2.06-.94-.94-2.06-.94 2.06-2.06.94zm-11 1L8.5 8.5l.94-2.06 2.06-.94-2.06-.94L8.5 2.5l-.94 2.06-2.06.94zm10 10l.94 2.06.94-2.06 2.06-.94-2.06-.94-.94-2.06-.94 2.06-2.06.94z\"/><path d=\"M17.41 7.96l-1.37-1.37c-.4-.4-.92-.59-1.43-.59-.52 0-1.04.2-1.43.59L10.3 9.45l-7.72 7.72c-.78.78-.78 2.05 0 2.83L4 21.41c.39.39.9.59 1.41.59.51 0 1.02-.2 1.41-.59l7.78-7.78 2.81-2.81c.8-.78.8-2.07 0-2.86zM5.41 20L4 18.59l7.72-7.72 1.47 1.35L5.41 20z\"/>\n",
              "  </svg>\n",
              "      </button>\n",
              "      \n",
              "  <style>\n",
              "    .colab-df-container {\n",
              "      display:flex;\n",
              "      flex-wrap:wrap;\n",
              "      gap: 12px;\n",
              "    }\n",
              "\n",
              "    .colab-df-convert {\n",
              "      background-color: #E8F0FE;\n",
              "      border: none;\n",
              "      border-radius: 50%;\n",
              "      cursor: pointer;\n",
              "      display: none;\n",
              "      fill: #1967D2;\n",
              "      height: 32px;\n",
              "      padding: 0 0 0 0;\n",
              "      width: 32px;\n",
              "    }\n",
              "\n",
              "    .colab-df-convert:hover {\n",
              "      background-color: #E2EBFA;\n",
              "      box-shadow: 0px 1px 2px rgba(60, 64, 67, 0.3), 0px 1px 3px 1px rgba(60, 64, 67, 0.15);\n",
              "      fill: #174EA6;\n",
              "    }\n",
              "\n",
              "    [theme=dark] .colab-df-convert {\n",
              "      background-color: #3B4455;\n",
              "      fill: #D2E3FC;\n",
              "    }\n",
              "\n",
              "    [theme=dark] .colab-df-convert:hover {\n",
              "      background-color: #434B5C;\n",
              "      box-shadow: 0px 1px 3px 1px rgba(0, 0, 0, 0.15);\n",
              "      filter: drop-shadow(0px 1px 2px rgba(0, 0, 0, 0.3));\n",
              "      fill: #FFFFFF;\n",
              "    }\n",
              "  </style>\n",
              "\n",
              "      <script>\n",
              "        const buttonEl =\n",
              "          document.querySelector('#df-ab0377e6-0cf5-4b63-8696-afe90bf280d4 button.colab-df-convert');\n",
              "        buttonEl.style.display =\n",
              "          google.colab.kernel.accessAllowed ? 'block' : 'none';\n",
              "\n",
              "        async function convertToInteractive(key) {\n",
              "          const element = document.querySelector('#df-ab0377e6-0cf5-4b63-8696-afe90bf280d4');\n",
              "          const dataTable =\n",
              "            await google.colab.kernel.invokeFunction('convertToInteractive',\n",
              "                                                     [key], {});\n",
              "          if (!dataTable) return;\n",
              "\n",
              "          const docLinkHtml = 'Like what you see? Visit the ' +\n",
              "            '<a target=\"_blank\" href=https://colab.research.google.com/notebooks/data_table.ipynb>data table notebook</a>'\n",
              "            + ' to learn more about interactive tables.';\n",
              "          element.innerHTML = '';\n",
              "          dataTable['output_type'] = 'display_data';\n",
              "          await google.colab.output.renderOutput(dataTable, element);\n",
              "          const docLink = document.createElement('div');\n",
              "          docLink.innerHTML = docLinkHtml;\n",
              "          element.appendChild(docLink);\n",
              "        }\n",
              "      </script>\n",
              "    </div>\n",
              "  </div>\n",
              "  "
            ]
          },
          "metadata": {},
          "execution_count": 45
        }
      ]
    },
    {
      "cell_type": "markdown",
      "metadata": {
        "id": "PNDI_MUhz5X_"
      },
      "source": [
        "### Future Scope\n",
        "We have found our golden cluter and now we need to relate this cluster to the FHFA dataset so that we can compare the increase in prices to differnt House Price Indices."
      ]
    }
  ],
  "metadata": {
    "colab": {
      "collapsed_sections": [
        "ul1a6JtvkHeZ",
        "SWRpzowDkKS3",
        "V_OGLFyH23qr"
      ],
      "provenance": [],
      "include_colab_link": true
    },
    "kernelspec": {
      "display_name": "Python 3",
      "name": "python3"
    },
    "language_info": {
      "name": "python"
    }
  },
  "nbformat": 4,
  "nbformat_minor": 0
}