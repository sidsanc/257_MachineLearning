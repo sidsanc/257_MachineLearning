{
  "cells": [
    {
      "cell_type": "markdown",
      "source": [
        "**K MEANS**"
      ],
      "metadata": {
        "id": "D0pi6ckH-120"
      }
    },
    {
      "cell_type": "code",
      "execution_count": 1,
      "metadata": {
        "id": "JBDRe92q5WV0",
        "colab": {
          "base_uri": "https://localhost:8080/"
        },
        "outputId": "a3eeea70-69d8-435c-b5c1-266d86da3e56"
      },
      "outputs": [
        {
          "output_type": "execute_result",
          "data": {
            "text/plain": [
              "['Looking in indexes: https://pypi.org/simple, https://us-python.pkg.dev/colab-wheels/public/simple/',\n",
              " 'Collecting kmeans_pytorch',\n",
              " '  Downloading kmeans_pytorch-0.3-py3-none-any.whl (4.4 kB)',\n",
              " 'Installing collected packages: kmeans_pytorch',\n",
              " 'Successfully installed kmeans_pytorch-0.3']"
            ]
          },
          "metadata": {},
          "execution_count": 1
        }
      ],
      "source": [
        "!!pip install kmeans_pytorch"
      ]
    },
    {
      "cell_type": "code",
      "execution_count": 37,
      "metadata": {
        "id": "QEW_yPxH6NC8"
      },
      "outputs": [],
      "source": [
        "import torch\n",
        "import numpy as np\n",
        "from kmeans_pytorch import kmeans_predict, kmeans\n",
        "import matplotlib.pyplot as plt\n",
        "import pandas as pd\n",
        "import seaborn as sns\n",
        "from datetime import date\n",
        "from scipy.stats import probplot"
      ]
    },
    {
      "cell_type": "code",
      "execution_count": 6,
      "metadata": {
        "id": "TGJ06Y3g7-aJ",
        "colab": {
          "base_uri": "https://localhost:8080/",
          "height": 267
        },
        "outputId": "adae107a-9ace-400b-ae13-ef920b1d2c95"
      },
      "outputs": [
        {
          "output_type": "execute_result",
          "data": {
            "text/plain": [
              "  TransactionID CustomerID CustomerDOB CustGender CustLocation  \\\n",
              "0            T1   C5841053     10/1/94          F   JAMSHEDPUR   \n",
              "1            T2   C2142763      4/4/57          M      JHAJJAR   \n",
              "2            T3   C4417068    26/11/96          F       MUMBAI   \n",
              "3            T4   C5342380     14/9/73          F       MUMBAI   \n",
              "4            T5   C9031234     24/3/88          F  NAVI MUMBAI   \n",
              "\n",
              "   CustAccountBalance TransactionDate  TransactionTime  \\\n",
              "0            17819.05          2/8/16           143207   \n",
              "1             2270.69          2/8/16           141858   \n",
              "2            17874.44          2/8/16           142712   \n",
              "3           866503.21          2/8/16           142714   \n",
              "4             6714.43          2/8/16           181156   \n",
              "\n",
              "   TransactionAmount (INR)  \n",
              "0                     25.0  \n",
              "1                  27999.0  \n",
              "2                    459.0  \n",
              "3                   2060.0  \n",
              "4                   1762.5  "
            ],
            "text/html": [
              "\n",
              "  <div id=\"df-ae436244-16db-4279-be28-fd3e31b3cb2d\">\n",
              "    <div class=\"colab-df-container\">\n",
              "      <div>\n",
              "<style scoped>\n",
              "    .dataframe tbody tr th:only-of-type {\n",
              "        vertical-align: middle;\n",
              "    }\n",
              "\n",
              "    .dataframe tbody tr th {\n",
              "        vertical-align: top;\n",
              "    }\n",
              "\n",
              "    .dataframe thead th {\n",
              "        text-align: right;\n",
              "    }\n",
              "</style>\n",
              "<table border=\"1\" class=\"dataframe\">\n",
              "  <thead>\n",
              "    <tr style=\"text-align: right;\">\n",
              "      <th></th>\n",
              "      <th>TransactionID</th>\n",
              "      <th>CustomerID</th>\n",
              "      <th>CustomerDOB</th>\n",
              "      <th>CustGender</th>\n",
              "      <th>CustLocation</th>\n",
              "      <th>CustAccountBalance</th>\n",
              "      <th>TransactionDate</th>\n",
              "      <th>TransactionTime</th>\n",
              "      <th>TransactionAmount (INR)</th>\n",
              "    </tr>\n",
              "  </thead>\n",
              "  <tbody>\n",
              "    <tr>\n",
              "      <th>0</th>\n",
              "      <td>T1</td>\n",
              "      <td>C5841053</td>\n",
              "      <td>10/1/94</td>\n",
              "      <td>F</td>\n",
              "      <td>JAMSHEDPUR</td>\n",
              "      <td>17819.05</td>\n",
              "      <td>2/8/16</td>\n",
              "      <td>143207</td>\n",
              "      <td>25.0</td>\n",
              "    </tr>\n",
              "    <tr>\n",
              "      <th>1</th>\n",
              "      <td>T2</td>\n",
              "      <td>C2142763</td>\n",
              "      <td>4/4/57</td>\n",
              "      <td>M</td>\n",
              "      <td>JHAJJAR</td>\n",
              "      <td>2270.69</td>\n",
              "      <td>2/8/16</td>\n",
              "      <td>141858</td>\n",
              "      <td>27999.0</td>\n",
              "    </tr>\n",
              "    <tr>\n",
              "      <th>2</th>\n",
              "      <td>T3</td>\n",
              "      <td>C4417068</td>\n",
              "      <td>26/11/96</td>\n",
              "      <td>F</td>\n",
              "      <td>MUMBAI</td>\n",
              "      <td>17874.44</td>\n",
              "      <td>2/8/16</td>\n",
              "      <td>142712</td>\n",
              "      <td>459.0</td>\n",
              "    </tr>\n",
              "    <tr>\n",
              "      <th>3</th>\n",
              "      <td>T4</td>\n",
              "      <td>C5342380</td>\n",
              "      <td>14/9/73</td>\n",
              "      <td>F</td>\n",
              "      <td>MUMBAI</td>\n",
              "      <td>866503.21</td>\n",
              "      <td>2/8/16</td>\n",
              "      <td>142714</td>\n",
              "      <td>2060.0</td>\n",
              "    </tr>\n",
              "    <tr>\n",
              "      <th>4</th>\n",
              "      <td>T5</td>\n",
              "      <td>C9031234</td>\n",
              "      <td>24/3/88</td>\n",
              "      <td>F</td>\n",
              "      <td>NAVI MUMBAI</td>\n",
              "      <td>6714.43</td>\n",
              "      <td>2/8/16</td>\n",
              "      <td>181156</td>\n",
              "      <td>1762.5</td>\n",
              "    </tr>\n",
              "  </tbody>\n",
              "</table>\n",
              "</div>\n",
              "      <button class=\"colab-df-convert\" onclick=\"convertToInteractive('df-ae436244-16db-4279-be28-fd3e31b3cb2d')\"\n",
              "              title=\"Convert this dataframe to an interactive table.\"\n",
              "              style=\"display:none;\">\n",
              "        \n",
              "  <svg xmlns=\"http://www.w3.org/2000/svg\" height=\"24px\"viewBox=\"0 0 24 24\"\n",
              "       width=\"24px\">\n",
              "    <path d=\"M0 0h24v24H0V0z\" fill=\"none\"/>\n",
              "    <path d=\"M18.56 5.44l.94 2.06.94-2.06 2.06-.94-2.06-.94-.94-2.06-.94 2.06-2.06.94zm-11 1L8.5 8.5l.94-2.06 2.06-.94-2.06-.94L8.5 2.5l-.94 2.06-2.06.94zm10 10l.94 2.06.94-2.06 2.06-.94-2.06-.94-.94-2.06-.94 2.06-2.06.94z\"/><path d=\"M17.41 7.96l-1.37-1.37c-.4-.4-.92-.59-1.43-.59-.52 0-1.04.2-1.43.59L10.3 9.45l-7.72 7.72c-.78.78-.78 2.05 0 2.83L4 21.41c.39.39.9.59 1.41.59.51 0 1.02-.2 1.41-.59l7.78-7.78 2.81-2.81c.8-.78.8-2.07 0-2.86zM5.41 20L4 18.59l7.72-7.72 1.47 1.35L5.41 20z\"/>\n",
              "  </svg>\n",
              "      </button>\n",
              "      \n",
              "  <style>\n",
              "    .colab-df-container {\n",
              "      display:flex;\n",
              "      flex-wrap:wrap;\n",
              "      gap: 12px;\n",
              "    }\n",
              "\n",
              "    .colab-df-convert {\n",
              "      background-color: #E8F0FE;\n",
              "      border: none;\n",
              "      border-radius: 50%;\n",
              "      cursor: pointer;\n",
              "      display: none;\n",
              "      fill: #1967D2;\n",
              "      height: 32px;\n",
              "      padding: 0 0 0 0;\n",
              "      width: 32px;\n",
              "    }\n",
              "\n",
              "    .colab-df-convert:hover {\n",
              "      background-color: #E2EBFA;\n",
              "      box-shadow: 0px 1px 2px rgba(60, 64, 67, 0.3), 0px 1px 3px 1px rgba(60, 64, 67, 0.15);\n",
              "      fill: #174EA6;\n",
              "    }\n",
              "\n",
              "    [theme=dark] .colab-df-convert {\n",
              "      background-color: #3B4455;\n",
              "      fill: #D2E3FC;\n",
              "    }\n",
              "\n",
              "    [theme=dark] .colab-df-convert:hover {\n",
              "      background-color: #434B5C;\n",
              "      box-shadow: 0px 1px 3px 1px rgba(0, 0, 0, 0.15);\n",
              "      filter: drop-shadow(0px 1px 2px rgba(0, 0, 0, 0.3));\n",
              "      fill: #FFFFFF;\n",
              "    }\n",
              "  </style>\n",
              "\n",
              "      <script>\n",
              "        const buttonEl =\n",
              "          document.querySelector('#df-ae436244-16db-4279-be28-fd3e31b3cb2d button.colab-df-convert');\n",
              "        buttonEl.style.display =\n",
              "          google.colab.kernel.accessAllowed ? 'block' : 'none';\n",
              "\n",
              "        async function convertToInteractive(key) {\n",
              "          const element = document.querySelector('#df-ae436244-16db-4279-be28-fd3e31b3cb2d');\n",
              "          const dataTable =\n",
              "            await google.colab.kernel.invokeFunction('convertToInteractive',\n",
              "                                                     [key], {});\n",
              "          if (!dataTable) return;\n",
              "\n",
              "          const docLinkHtml = 'Like what you see? Visit the ' +\n",
              "            '<a target=\"_blank\" href=https://colab.research.google.com/notebooks/data_table.ipynb>data table notebook</a>'\n",
              "            + ' to learn more about interactive tables.';\n",
              "          element.innerHTML = '';\n",
              "          dataTable['output_type'] = 'display_data';\n",
              "          await google.colab.output.renderOutput(dataTable, element);\n",
              "          const docLink = document.createElement('div');\n",
              "          docLink.innerHTML = docLinkHtml;\n",
              "          element.appendChild(docLink);\n",
              "        }\n",
              "      </script>\n",
              "    </div>\n",
              "  </div>\n",
              "  "
            ]
          },
          "metadata": {},
          "execution_count": 6
        }
      ],
      "source": [
        "df = pd.read_csv('/content/bank_transactions.csv')\n",
        "\n",
        "df.head()"
      ]
    },
    {
      "cell_type": "code",
      "source": [],
      "metadata": {
        "id": "YgRFnuULgP-U"
      },
      "execution_count": null,
      "outputs": []
    },
    {
      "cell_type": "markdown",
      "source": [
        "# Data Wrangling"
      ],
      "metadata": {
        "id": "IDUgjOCvxaFN"
      }
    },
    {
      "cell_type": "code",
      "source": [
        "df.shape"
      ],
      "metadata": {
        "colab": {
          "base_uri": "https://localhost:8080/"
        },
        "id": "Hy-2tAQukzyc",
        "outputId": "3e9a3601-3bfe-4357-fa55-c7fe23e70b88"
      },
      "execution_count": 7,
      "outputs": [
        {
          "output_type": "execute_result",
          "data": {
            "text/plain": [
              "(1048567, 9)"
            ]
          },
          "metadata": {},
          "execution_count": 7
        }
      ]
    },
    {
      "cell_type": "code",
      "source": [
        "df.info()"
      ],
      "metadata": {
        "colab": {
          "base_uri": "https://localhost:8080/"
        },
        "id": "ARoaRTlHkz2C",
        "outputId": "6e0b8451-5841-4b4c-8fef-b66e1f87f21b"
      },
      "execution_count": 8,
      "outputs": [
        {
          "output_type": "stream",
          "name": "stdout",
          "text": [
            "<class 'pandas.core.frame.DataFrame'>\n",
            "RangeIndex: 1048567 entries, 0 to 1048566\n",
            "Data columns (total 9 columns):\n",
            " #   Column                   Non-Null Count    Dtype  \n",
            "---  ------                   --------------    -----  \n",
            " 0   TransactionID            1048567 non-null  object \n",
            " 1   CustomerID               1048567 non-null  object \n",
            " 2   CustomerDOB              1045170 non-null  object \n",
            " 3   CustGender               1047467 non-null  object \n",
            " 4   CustLocation             1048416 non-null  object \n",
            " 5   CustAccountBalance       1046198 non-null  float64\n",
            " 6   TransactionDate          1048567 non-null  object \n",
            " 7   TransactionTime          1048567 non-null  int64  \n",
            " 8   TransactionAmount (INR)  1048567 non-null  float64\n",
            "dtypes: float64(2), int64(1), object(6)\n",
            "memory usage: 72.0+ MB\n"
          ]
        }
      ]
    },
    {
      "cell_type": "code",
      "source": [
        "df.describe()"
      ],
      "metadata": {
        "colab": {
          "base_uri": "https://localhost:8080/",
          "height": 300
        },
        "id": "ruz_bWMWkz5R",
        "outputId": "46b4f854-4b49-4b75-f7cb-d7800a9081f3"
      },
      "execution_count": 9,
      "outputs": [
        {
          "output_type": "execute_result",
          "data": {
            "text/plain": [
              "       CustAccountBalance  TransactionTime  TransactionAmount (INR)\n",
              "count        1.046198e+06     1.048567e+06             1.048567e+06\n",
              "mean         1.154035e+05     1.570875e+05             1.574335e+03\n",
              "std          8.464854e+05     5.126185e+04             6.574743e+03\n",
              "min          0.000000e+00     0.000000e+00             0.000000e+00\n",
              "25%          4.721760e+03     1.240300e+05             1.610000e+02\n",
              "50%          1.679218e+04     1.642260e+05             4.590300e+02\n",
              "75%          5.765736e+04     2.000100e+05             1.200000e+03\n",
              "max          1.150355e+08     2.359590e+05             1.560035e+06"
            ],
            "text/html": [
              "\n",
              "  <div id=\"df-0d5cd9c8-382e-4458-85a7-e01cf1483bd0\">\n",
              "    <div class=\"colab-df-container\">\n",
              "      <div>\n",
              "<style scoped>\n",
              "    .dataframe tbody tr th:only-of-type {\n",
              "        vertical-align: middle;\n",
              "    }\n",
              "\n",
              "    .dataframe tbody tr th {\n",
              "        vertical-align: top;\n",
              "    }\n",
              "\n",
              "    .dataframe thead th {\n",
              "        text-align: right;\n",
              "    }\n",
              "</style>\n",
              "<table border=\"1\" class=\"dataframe\">\n",
              "  <thead>\n",
              "    <tr style=\"text-align: right;\">\n",
              "      <th></th>\n",
              "      <th>CustAccountBalance</th>\n",
              "      <th>TransactionTime</th>\n",
              "      <th>TransactionAmount (INR)</th>\n",
              "    </tr>\n",
              "  </thead>\n",
              "  <tbody>\n",
              "    <tr>\n",
              "      <th>count</th>\n",
              "      <td>1.046198e+06</td>\n",
              "      <td>1.048567e+06</td>\n",
              "      <td>1.048567e+06</td>\n",
              "    </tr>\n",
              "    <tr>\n",
              "      <th>mean</th>\n",
              "      <td>1.154035e+05</td>\n",
              "      <td>1.570875e+05</td>\n",
              "      <td>1.574335e+03</td>\n",
              "    </tr>\n",
              "    <tr>\n",
              "      <th>std</th>\n",
              "      <td>8.464854e+05</td>\n",
              "      <td>5.126185e+04</td>\n",
              "      <td>6.574743e+03</td>\n",
              "    </tr>\n",
              "    <tr>\n",
              "      <th>min</th>\n",
              "      <td>0.000000e+00</td>\n",
              "      <td>0.000000e+00</td>\n",
              "      <td>0.000000e+00</td>\n",
              "    </tr>\n",
              "    <tr>\n",
              "      <th>25%</th>\n",
              "      <td>4.721760e+03</td>\n",
              "      <td>1.240300e+05</td>\n",
              "      <td>1.610000e+02</td>\n",
              "    </tr>\n",
              "    <tr>\n",
              "      <th>50%</th>\n",
              "      <td>1.679218e+04</td>\n",
              "      <td>1.642260e+05</td>\n",
              "      <td>4.590300e+02</td>\n",
              "    </tr>\n",
              "    <tr>\n",
              "      <th>75%</th>\n",
              "      <td>5.765736e+04</td>\n",
              "      <td>2.000100e+05</td>\n",
              "      <td>1.200000e+03</td>\n",
              "    </tr>\n",
              "    <tr>\n",
              "      <th>max</th>\n",
              "      <td>1.150355e+08</td>\n",
              "      <td>2.359590e+05</td>\n",
              "      <td>1.560035e+06</td>\n",
              "    </tr>\n",
              "  </tbody>\n",
              "</table>\n",
              "</div>\n",
              "      <button class=\"colab-df-convert\" onclick=\"convertToInteractive('df-0d5cd9c8-382e-4458-85a7-e01cf1483bd0')\"\n",
              "              title=\"Convert this dataframe to an interactive table.\"\n",
              "              style=\"display:none;\">\n",
              "        \n",
              "  <svg xmlns=\"http://www.w3.org/2000/svg\" height=\"24px\"viewBox=\"0 0 24 24\"\n",
              "       width=\"24px\">\n",
              "    <path d=\"M0 0h24v24H0V0z\" fill=\"none\"/>\n",
              "    <path d=\"M18.56 5.44l.94 2.06.94-2.06 2.06-.94-2.06-.94-.94-2.06-.94 2.06-2.06.94zm-11 1L8.5 8.5l.94-2.06 2.06-.94-2.06-.94L8.5 2.5l-.94 2.06-2.06.94zm10 10l.94 2.06.94-2.06 2.06-.94-2.06-.94-.94-2.06-.94 2.06-2.06.94z\"/><path d=\"M17.41 7.96l-1.37-1.37c-.4-.4-.92-.59-1.43-.59-.52 0-1.04.2-1.43.59L10.3 9.45l-7.72 7.72c-.78.78-.78 2.05 0 2.83L4 21.41c.39.39.9.59 1.41.59.51 0 1.02-.2 1.41-.59l7.78-7.78 2.81-2.81c.8-.78.8-2.07 0-2.86zM5.41 20L4 18.59l7.72-7.72 1.47 1.35L5.41 20z\"/>\n",
              "  </svg>\n",
              "      </button>\n",
              "      \n",
              "  <style>\n",
              "    .colab-df-container {\n",
              "      display:flex;\n",
              "      flex-wrap:wrap;\n",
              "      gap: 12px;\n",
              "    }\n",
              "\n",
              "    .colab-df-convert {\n",
              "      background-color: #E8F0FE;\n",
              "      border: none;\n",
              "      border-radius: 50%;\n",
              "      cursor: pointer;\n",
              "      display: none;\n",
              "      fill: #1967D2;\n",
              "      height: 32px;\n",
              "      padding: 0 0 0 0;\n",
              "      width: 32px;\n",
              "    }\n",
              "\n",
              "    .colab-df-convert:hover {\n",
              "      background-color: #E2EBFA;\n",
              "      box-shadow: 0px 1px 2px rgba(60, 64, 67, 0.3), 0px 1px 3px 1px rgba(60, 64, 67, 0.15);\n",
              "      fill: #174EA6;\n",
              "    }\n",
              "\n",
              "    [theme=dark] .colab-df-convert {\n",
              "      background-color: #3B4455;\n",
              "      fill: #D2E3FC;\n",
              "    }\n",
              "\n",
              "    [theme=dark] .colab-df-convert:hover {\n",
              "      background-color: #434B5C;\n",
              "      box-shadow: 0px 1px 3px 1px rgba(0, 0, 0, 0.15);\n",
              "      filter: drop-shadow(0px 1px 2px rgba(0, 0, 0, 0.3));\n",
              "      fill: #FFFFFF;\n",
              "    }\n",
              "  </style>\n",
              "\n",
              "      <script>\n",
              "        const buttonEl =\n",
              "          document.querySelector('#df-0d5cd9c8-382e-4458-85a7-e01cf1483bd0 button.colab-df-convert');\n",
              "        buttonEl.style.display =\n",
              "          google.colab.kernel.accessAllowed ? 'block' : 'none';\n",
              "\n",
              "        async function convertToInteractive(key) {\n",
              "          const element = document.querySelector('#df-0d5cd9c8-382e-4458-85a7-e01cf1483bd0');\n",
              "          const dataTable =\n",
              "            await google.colab.kernel.invokeFunction('convertToInteractive',\n",
              "                                                     [key], {});\n",
              "          if (!dataTable) return;\n",
              "\n",
              "          const docLinkHtml = 'Like what you see? Visit the ' +\n",
              "            '<a target=\"_blank\" href=https://colab.research.google.com/notebooks/data_table.ipynb>data table notebook</a>'\n",
              "            + ' to learn more about interactive tables.';\n",
              "          element.innerHTML = '';\n",
              "          dataTable['output_type'] = 'display_data';\n",
              "          await google.colab.output.renderOutput(dataTable, element);\n",
              "          const docLink = document.createElement('div');\n",
              "          docLink.innerHTML = docLinkHtml;\n",
              "          element.appendChild(docLink);\n",
              "        }\n",
              "      </script>\n",
              "    </div>\n",
              "  </div>\n",
              "  "
            ]
          },
          "metadata": {},
          "execution_count": 9
        }
      ]
    },
    {
      "cell_type": "code",
      "source": [
        "df.isnull().sum()"
      ],
      "metadata": {
        "colab": {
          "base_uri": "https://localhost:8080/"
        },
        "id": "QGBSAVZhkz9O",
        "outputId": "beb39ef5-9ee9-411e-eef6-55407e254f22"
      },
      "execution_count": 10,
      "outputs": [
        {
          "output_type": "execute_result",
          "data": {
            "text/plain": [
              "TransactionID                 0\n",
              "CustomerID                    0\n",
              "CustomerDOB                3397\n",
              "CustGender                 1100\n",
              "CustLocation                151\n",
              "CustAccountBalance         2369\n",
              "TransactionDate               0\n",
              "TransactionTime               0\n",
              "TransactionAmount (INR)       0\n",
              "dtype: int64"
            ]
          },
          "metadata": {},
          "execution_count": 10
        }
      ]
    },
    {
      "cell_type": "code",
      "source": [
        "df[df.duplicated()]"
      ],
      "metadata": {
        "colab": {
          "base_uri": "https://localhost:8080/",
          "height": 111
        },
        "id": "liuQSCROkz_s",
        "outputId": "66e9d3ba-b65e-4aa6-c2c5-3b17d7a25d0b"
      },
      "execution_count": 11,
      "outputs": [
        {
          "output_type": "execute_result",
          "data": {
            "text/plain": [
              "Empty DataFrame\n",
              "Columns: [TransactionID, CustomerID, CustomerDOB, CustGender, CustLocation, CustAccountBalance, TransactionDate, TransactionTime, TransactionAmount (INR)]\n",
              "Index: []"
            ],
            "text/html": [
              "\n",
              "  <div id=\"df-21afb340-df9b-4f7c-958e-226c302b8d7b\">\n",
              "    <div class=\"colab-df-container\">\n",
              "      <div>\n",
              "<style scoped>\n",
              "    .dataframe tbody tr th:only-of-type {\n",
              "        vertical-align: middle;\n",
              "    }\n",
              "\n",
              "    .dataframe tbody tr th {\n",
              "        vertical-align: top;\n",
              "    }\n",
              "\n",
              "    .dataframe thead th {\n",
              "        text-align: right;\n",
              "    }\n",
              "</style>\n",
              "<table border=\"1\" class=\"dataframe\">\n",
              "  <thead>\n",
              "    <tr style=\"text-align: right;\">\n",
              "      <th></th>\n",
              "      <th>TransactionID</th>\n",
              "      <th>CustomerID</th>\n",
              "      <th>CustomerDOB</th>\n",
              "      <th>CustGender</th>\n",
              "      <th>CustLocation</th>\n",
              "      <th>CustAccountBalance</th>\n",
              "      <th>TransactionDate</th>\n",
              "      <th>TransactionTime</th>\n",
              "      <th>TransactionAmount (INR)</th>\n",
              "    </tr>\n",
              "  </thead>\n",
              "  <tbody>\n",
              "  </tbody>\n",
              "</table>\n",
              "</div>\n",
              "      <button class=\"colab-df-convert\" onclick=\"convertToInteractive('df-21afb340-df9b-4f7c-958e-226c302b8d7b')\"\n",
              "              title=\"Convert this dataframe to an interactive table.\"\n",
              "              style=\"display:none;\">\n",
              "        \n",
              "  <svg xmlns=\"http://www.w3.org/2000/svg\" height=\"24px\"viewBox=\"0 0 24 24\"\n",
              "       width=\"24px\">\n",
              "    <path d=\"M0 0h24v24H0V0z\" fill=\"none\"/>\n",
              "    <path d=\"M18.56 5.44l.94 2.06.94-2.06 2.06-.94-2.06-.94-.94-2.06-.94 2.06-2.06.94zm-11 1L8.5 8.5l.94-2.06 2.06-.94-2.06-.94L8.5 2.5l-.94 2.06-2.06.94zm10 10l.94 2.06.94-2.06 2.06-.94-2.06-.94-.94-2.06-.94 2.06-2.06.94z\"/><path d=\"M17.41 7.96l-1.37-1.37c-.4-.4-.92-.59-1.43-.59-.52 0-1.04.2-1.43.59L10.3 9.45l-7.72 7.72c-.78.78-.78 2.05 0 2.83L4 21.41c.39.39.9.59 1.41.59.51 0 1.02-.2 1.41-.59l7.78-7.78 2.81-2.81c.8-.78.8-2.07 0-2.86zM5.41 20L4 18.59l7.72-7.72 1.47 1.35L5.41 20z\"/>\n",
              "  </svg>\n",
              "      </button>\n",
              "      \n",
              "  <style>\n",
              "    .colab-df-container {\n",
              "      display:flex;\n",
              "      flex-wrap:wrap;\n",
              "      gap: 12px;\n",
              "    }\n",
              "\n",
              "    .colab-df-convert {\n",
              "      background-color: #E8F0FE;\n",
              "      border: none;\n",
              "      border-radius: 50%;\n",
              "      cursor: pointer;\n",
              "      display: none;\n",
              "      fill: #1967D2;\n",
              "      height: 32px;\n",
              "      padding: 0 0 0 0;\n",
              "      width: 32px;\n",
              "    }\n",
              "\n",
              "    .colab-df-convert:hover {\n",
              "      background-color: #E2EBFA;\n",
              "      box-shadow: 0px 1px 2px rgba(60, 64, 67, 0.3), 0px 1px 3px 1px rgba(60, 64, 67, 0.15);\n",
              "      fill: #174EA6;\n",
              "    }\n",
              "\n",
              "    [theme=dark] .colab-df-convert {\n",
              "      background-color: #3B4455;\n",
              "      fill: #D2E3FC;\n",
              "    }\n",
              "\n",
              "    [theme=dark] .colab-df-convert:hover {\n",
              "      background-color: #434B5C;\n",
              "      box-shadow: 0px 1px 3px 1px rgba(0, 0, 0, 0.15);\n",
              "      filter: drop-shadow(0px 1px 2px rgba(0, 0, 0, 0.3));\n",
              "      fill: #FFFFFF;\n",
              "    }\n",
              "  </style>\n",
              "\n",
              "      <script>\n",
              "        const buttonEl =\n",
              "          document.querySelector('#df-21afb340-df9b-4f7c-958e-226c302b8d7b button.colab-df-convert');\n",
              "        buttonEl.style.display =\n",
              "          google.colab.kernel.accessAllowed ? 'block' : 'none';\n",
              "\n",
              "        async function convertToInteractive(key) {\n",
              "          const element = document.querySelector('#df-21afb340-df9b-4f7c-958e-226c302b8d7b');\n",
              "          const dataTable =\n",
              "            await google.colab.kernel.invokeFunction('convertToInteractive',\n",
              "                                                     [key], {});\n",
              "          if (!dataTable) return;\n",
              "\n",
              "          const docLinkHtml = 'Like what you see? Visit the ' +\n",
              "            '<a target=\"_blank\" href=https://colab.research.google.com/notebooks/data_table.ipynb>data table notebook</a>'\n",
              "            + ' to learn more about interactive tables.';\n",
              "          element.innerHTML = '';\n",
              "          dataTable['output_type'] = 'display_data';\n",
              "          await google.colab.output.renderOutput(dataTable, element);\n",
              "          const docLink = document.createElement('div');\n",
              "          docLink.innerHTML = docLinkHtml;\n",
              "          element.appendChild(docLink);\n",
              "        }\n",
              "      </script>\n",
              "    </div>\n",
              "  </div>\n",
              "  "
            ]
          },
          "metadata": {},
          "execution_count": 11
        }
      ]
    },
    {
      "cell_type": "code",
      "source": [
        "\n",
        "df.drop(['TransactionID','CustomerID'],axis=1,inplace=True)"
      ],
      "metadata": {
        "id": "_37bIbSKk0CS"
      },
      "execution_count": 12,
      "outputs": []
    },
    {
      "cell_type": "code",
      "source": [
        "df['CustGender'].value_counts()"
      ],
      "metadata": {
        "colab": {
          "base_uri": "https://localhost:8080/"
        },
        "id": "ezeXqkj0k0FG",
        "outputId": "115d86ee-44cc-4895-e080-572f8a9741ea"
      },
      "execution_count": 13,
      "outputs": [
        {
          "output_type": "execute_result",
          "data": {
            "text/plain": [
              "M    765530\n",
              "F    281936\n",
              "T         1\n",
              "Name: CustGender, dtype: int64"
            ]
          },
          "metadata": {},
          "execution_count": 13
        }
      ]
    },
    {
      "cell_type": "code",
      "source": [
        "df.drop(df[df['CustGender'].isin(['T'])].index,axis=0,inplace=True)"
      ],
      "metadata": {
        "id": "M2xRJVtDk0Hy"
      },
      "execution_count": 14,
      "outputs": []
    },
    {
      "cell_type": "code",
      "source": [
        "df['CustGender'].unique()"
      ],
      "metadata": {
        "colab": {
          "base_uri": "https://localhost:8080/"
        },
        "id": "0UL0en6fk0KP",
        "outputId": "35594a1f-2911-42b2-ab0a-41dd1b6f82e6"
      },
      "execution_count": 15,
      "outputs": [
        {
          "output_type": "execute_result",
          "data": {
            "text/plain": [
              "array(['F', 'M', nan], dtype=object)"
            ]
          },
          "metadata": {},
          "execution_count": 15
        }
      ]
    },
    {
      "cell_type": "code",
      "source": [
        "df = df[~df['CustomerDOB'].isna()]\n",
        "df.CustomerDOB = pd.to_datetime(df.CustomerDOB,errors='coerce')"
      ],
      "metadata": {
        "id": "mkCtIQlok0NG"
      },
      "execution_count": 16,
      "outputs": []
    },
    {
      "cell_type": "code",
      "source": [
        "def age(birthdate):\n",
        "    today = date.today()\n",
        "    age = today.year - birthdate.year - ((today.month, today.day) < (birthdate.month, birthdate.day))\n",
        "    return age"
      ],
      "metadata": {
        "id": "YZkNpaUkk0Pl"
      },
      "execution_count": 20,
      "outputs": []
    },
    {
      "cell_type": "code",
      "source": [
        "df['Age'] = df.CustomerDOB.apply(age)"
      ],
      "metadata": {
        "id": "gpwo7bQwlZVK"
      },
      "execution_count": 23,
      "outputs": []
    },
    {
      "cell_type": "code",
      "source": [
        "df = df[df['Age']>0]\n",
        "df.drop('CustomerDOB',axis=1,inplace=True)\n",
        "df.shape"
      ],
      "metadata": {
        "colab": {
          "base_uri": "https://localhost:8080/"
        },
        "id": "jzUAIY2blZXx",
        "outputId": "c69051bf-d058-46a3-9f8a-5c80d6dd8763"
      },
      "execution_count": 24,
      "outputs": [
        {
          "output_type": "execute_result",
          "data": {
            "text/plain": [
              "(960885, 7)"
            ]
          },
          "metadata": {},
          "execution_count": 24
        }
      ]
    },
    {
      "cell_type": "code",
      "source": [
        "for col in df.columns:\n",
        "    print(\"Percentage of null values of {}:\".format(col),str(np.round(df[col].isna().sum()/len(df)*100,2)) + '%')"
      ],
      "metadata": {
        "colab": {
          "base_uri": "https://localhost:8080/"
        },
        "id": "wAjzoOxqlZdy",
        "outputId": "d6bb993f-071a-4522-e01f-3da2907e3d49"
      },
      "execution_count": 25,
      "outputs": [
        {
          "output_type": "stream",
          "name": "stdout",
          "text": [
            "Percentage of null values of CustGender: 0.09%\n",
            "Percentage of null values of CustLocation: 0.02%\n",
            "Percentage of null values of CustAccountBalance: 0.23%\n",
            "Percentage of null values of TransactionDate: 0.0%\n",
            "Percentage of null values of TransactionTime: 0.0%\n",
            "Percentage of null values of TransactionAmount (INR): 0.0%\n",
            "Percentage of null values of Age: 0.0%\n"
          ]
        }
      ]
    },
    {
      "cell_type": "code",
      "source": [
        "for col in df.columns:\n",
        "    print(\"Percentage of unique values of {}:\".format(col),str(np.round(df[col].nunique()/len(df)*100,2)) + '%')"
      ],
      "metadata": {
        "colab": {
          "base_uri": "https://localhost:8080/"
        },
        "id": "0ZLyFj5wlZiA",
        "outputId": "d54b46dd-8c16-4614-ee8d-5faa6f947009"
      },
      "execution_count": 26,
      "outputs": [
        {
          "output_type": "stream",
          "name": "stdout",
          "text": [
            "Percentage of unique values of CustGender: 0.0%\n",
            "Percentage of unique values of CustLocation: 0.91%\n",
            "Percentage of unique values of CustAccountBalance: 15.06%\n",
            "Percentage of unique values of TransactionDate: 0.01%\n",
            "Percentage of unique values of TransactionTime: 8.47%\n",
            "Percentage of unique values of TransactionAmount (INR): 8.7%\n",
            "Percentage of unique values of Age: 0.01%\n"
          ]
        }
      ]
    },
    {
      "cell_type": "code",
      "source": [
        "df = df[~df['CustGender'].isna()]"
      ],
      "metadata": {
        "id": "2me_7WDqlZlS"
      },
      "execution_count": 27,
      "outputs": []
    },
    {
      "cell_type": "code",
      "source": [
        "df = df[~df['CustLocation'].isna()]"
      ],
      "metadata": {
        "id": "1Zw78QrIlpw0"
      },
      "execution_count": 28,
      "outputs": []
    },
    {
      "cell_type": "code",
      "source": [
        "df.CustAccountBalance = df.CustAccountBalance.fillna(df.groupby('CustLocation')['CustAccountBalance'].transform('mean'))"
      ],
      "metadata": {
        "id": "XqEnD1uIlp3V"
      },
      "execution_count": 29,
      "outputs": []
    },
    {
      "cell_type": "code",
      "source": [
        "df = df[~df.CustAccountBalance.isna()]"
      ],
      "metadata": {
        "id": "crgJb9jTlp-H"
      },
      "execution_count": 30,
      "outputs": []
    },
    {
      "cell_type": "code",
      "source": [
        "df.isna().sum()"
      ],
      "metadata": {
        "colab": {
          "base_uri": "https://localhost:8080/"
        },
        "id": "h3xRZUWRlqBZ",
        "outputId": "5bfd8d32-7789-464c-f13d-9e3bcadf7233"
      },
      "execution_count": 31,
      "outputs": [
        {
          "output_type": "execute_result",
          "data": {
            "text/plain": [
              "CustGender                 0\n",
              "CustLocation               0\n",
              "CustAccountBalance         0\n",
              "TransactionDate            0\n",
              "TransactionTime            0\n",
              "TransactionAmount (INR)    0\n",
              "Age                        0\n",
              "dtype: int64"
            ]
          },
          "metadata": {},
          "execution_count": 31
        }
      ]
    },
    {
      "cell_type": "code",
      "source": [
        "df.shape"
      ],
      "metadata": {
        "colab": {
          "base_uri": "https://localhost:8080/"
        },
        "id": "VXHFqiq4lqIr",
        "outputId": "5091e293-ad15-471f-9d1b-9f7d2ddf39fd"
      },
      "execution_count": 32,
      "outputs": [
        {
          "output_type": "execute_result",
          "data": {
            "text/plain": [
              "(959688, 7)"
            ]
          },
          "metadata": {},
          "execution_count": 32
        }
      ]
    },
    {
      "cell_type": "code",
      "source": [
        "df.TransactionDate = pd.to_datetime(df.TransactionDate,errors='coerce')"
      ],
      "metadata": {
        "id": "q4_HcEfVlqLr"
      },
      "execution_count": 33,
      "outputs": []
    },
    {
      "cell_type": "code",
      "source": [
        "df['TransactionMonth'] = df.TransactionDate.dt.month\n",
        "df['TransactionMonthName'] = df.TransactionDate.dt.month_name()\n",
        "df['TransactionDay'] = df.TransactionDate.dt.day\n",
        "df['TransactionDayName'] = df.TransactionDate.dt.day_name()"
      ],
      "metadata": {
        "id": "5AdsWGuklqQJ"
      },
      "execution_count": 34,
      "outputs": []
    },
    {
      "cell_type": "code",
      "source": [
        "df.drop('TransactionDate',axis=1,inplace=True)"
      ],
      "metadata": {
        "id": "AHGCgZPolZos"
      },
      "execution_count": 35,
      "outputs": []
    },
    {
      "cell_type": "code",
      "source": [
        "for col in df.columns:\n",
        "    if df[col].dtypes == np.float64:\n",
        "        print(\"Skewness of {}:\".format(col),df[col].skew())\n",
        "        print(\"Kurtosis of {}:\".format(col),df[col].kurt())\n",
        "        plt.figure(figsize=(3,3))\n",
        "        print(\"Distribution Plot of {}:\".format(col))\n",
        "        sns.distplot(df[col])\n",
        "        plt.show()\n",
        "        print(\"Box Plot of {}:\".format(col))\n",
        "        plt.figure(figsize=(3,3))\n",
        "        sns.boxplot(df[col])\n",
        "        plt.show()\n",
        "        print(\"Quantile-Quantile Plot of {}:\".format(col))\n",
        "        plt.figure(figsize=(3,3))\n",
        "        probplot(df[col],plot=plt,rvalue=True)\n",
        "        plt.show()"
      ],
      "metadata": {
        "colab": {
          "base_uri": "https://localhost:8080/",
          "height": 1000
        },
        "id": "W_PixrmYoNHn",
        "outputId": "644cdf6c-20d0-45c3-94c0-b7d1e8fade3a"
      },
      "execution_count": 38,
      "outputs": [
        {
          "output_type": "stream",
          "name": "stdout",
          "text": [
            "Skewness of CustAccountBalance: 36.781898325340336\n",
            "Kurtosis of CustAccountBalance: 2719.6433815447053\n",
            "Distribution Plot of CustAccountBalance:\n"
          ]
        },
        {
          "output_type": "stream",
          "name": "stderr",
          "text": [
            "/usr/local/lib/python3.8/dist-packages/seaborn/distributions.py:2619: FutureWarning: `distplot` is a deprecated function and will be removed in a future version. Please adapt your code to use either `displot` (a figure-level function with similar flexibility) or `histplot` (an axes-level function for histograms).\n",
            "  warnings.warn(msg, FutureWarning)\n"
          ]
        },
        {
          "output_type": "display_data",
          "data": {
            "text/plain": [
              "<Figure size 216x216 with 1 Axes>"
            ],
            "image/png": "[encoded data removed]"
          },
          "metadata": {
            "needs_background": "light"
          }
        },
        {
          "output_type": "stream",
          "name": "stdout",
          "text": [
            "Box Plot of CustAccountBalance:\n"
          ]
        },
        {
          "output_type": "stream",
          "name": "stderr",
          "text": [
            "/usr/local/lib/python3.8/dist-packages/seaborn/_decorators.py:36: FutureWarning: Pass the following variable as a keyword arg: x. From version 0.12, the only valid positional argument will be `data`, and passing other arguments without an explicit keyword will result in an error or misinterpretation.\n",
            "  warnings.warn(\n"
          ]
        },
        {
          "output_type": "display_data",
          "data": {
            "text/plain": [
              "<Figure size 216x216 with 1 Axes>"
            ],
            "image/png": "[encoded data removed]"
          },
          "metadata": {
            "needs_background": "light"
          }
        },
        {
          "output_type": "stream",
          "name": "stdout",
          "text": [
            "Quantile-Quantile Plot of CustAccountBalance:\n"
          ]
        },
        {
          "output_type": "display_data",
          "data": {
            "text/plain": [
              "<Figure size 216x216 with 1 Axes>"
            ],
            "image/png": "[encoded data removed]"
          },
          "metadata": {
            "needs_background": "light"
          }
        },
        {
          "output_type": "stream",
          "name": "stdout",
          "text": [
            "Skewness of TransactionAmount (INR): 56.972533113151364\n",
            "Kurtosis of TransactionAmount (INR): 9565.222497905634\n",
            "Distribution Plot of TransactionAmount (INR):\n"
          ]
        },
        {
          "output_type": "stream",
          "name": "stderr",
          "text": [
            "/usr/local/lib/python3.8/dist-packages/seaborn/distributions.py:2619: FutureWarning: `distplot` is a deprecated function and will be removed in a future version. Please adapt your code to use either `displot` (a figure-level function with similar flexibility) or `histplot` (an axes-level function for histograms).\n",
            "  warnings.warn(msg, FutureWarning)\n"
          ]
        },
        {
          "output_type": "display_data",
          "data": {
            "text/plain": [
              "<Figure size 216x216 with 1 Axes>"
            ],
            "image/png": "[encoded data removed]"
          },
          "metadata": {
            "needs_background": "light"
          }
        },
        {
          "output_type": "stream",
          "name": "stdout",
          "text": [
            "Box Plot of TransactionAmount (INR):\n"
          ]
        },
        {
          "output_type": "stream",
          "name": "stderr",
          "text": [
            "/usr/local/lib/python3.8/dist-packages/seaborn/_decorators.py:36: FutureWarning: Pass the following variable as a keyword arg: x. From version 0.12, the only valid positional argument will be `data`, and passing other arguments without an explicit keyword will result in an error or misinterpretation.\n",
            "  warnings.warn(\n"
          ]
        },
        {
          "output_type": "display_data",
          "data": {
            "text/plain": [
              "<Figure size 216x216 with 1 Axes>"
            ],
            "image/png": "[encoded data removed]"
          },
          "metadata": {
            "needs_background": "light"
          }
        },
        {
          "output_type": "stream",
          "name": "stdout",
          "text": [
            "Quantile-Quantile Plot of TransactionAmount (INR):\n"
          ]
        },
        {
          "output_type": "display_data",
          "data": {
            "text/plain": [
              "<Figure size 216x216 with 1 Axes>"
            ],
            "image/png": "[encoded data removed]"
          },
          "metadata": {
            "needs_background": "light"
          }
        }
      ]
    },
    {
      "cell_type": "code",
      "source": [],
      "metadata": {
        "id": "FzqLPqmFga5x"
      },
      "execution_count": 38,
      "outputs": []
    },
    {
      "cell_type": "markdown",
      "source": [
        "#Exploratory Data Analysis"
      ],
      "metadata": {
        "id": "p5SN8QepxfWe"
      }
    },
    {
      "cell_type": "code",
      "source": [
        "ax = df.groupby('CustGender')['TransactionAmount (INR)'].mean().plot(kind='bar',color=['crimson','green'])\n",
        "plt.ylabel('Transaction Amount (INR)');"
      ],
      "metadata": {
        "colab": {
          "base_uri": "https://localhost:8080/",
          "height": 278
        },
        "id": "pYap40LYoNKz",
        "outputId": "ad83cc82-87f1-4461-8c58-57ea68521272"
      },
      "execution_count": 40,
      "outputs": [
        {
          "output_type": "display_data",
          "data": {
            "text/plain": [
              "<Figure size 432x288 with 1 Axes>"
            ],
            "image/png": "[encoded data removed]"
          },
          "metadata": {
            "needs_background": "light"
          }
        }
      ]
    },
    {
      "cell_type": "code",
      "source": [
        "sns.barplot(data=df,x='TransactionDayName',y='TransactionAmount (INR)',palette='Set1',hue='CustGender')\n",
        "plt.title('Weekday-Wise Comparison of Spending Habits of Male & Female Customers',fontsize=32,fontweight='bold',color='navy',pad=30);"
      ],
      "metadata": {
        "colab": {
          "base_uri": "https://localhost:8080/",
          "height": 271
        },
        "id": "lNTpQIUeoNOH",
        "outputId": "54f02a58-3013-4708-f709-fdb87711da9d"
      },
      "execution_count": 41,
      "outputs": [
        {
          "output_type": "display_data",
          "data": {
            "text/plain": [
              "<Figure size 432x288 with 1 Axes>"
            ],
            "image/png": "[encoded data removed]"
          },
          "metadata": {
            "needs_background": "light"
          }
        }
      ]
    },
    {
      "cell_type": "code",
      "source": [
        "sns.pointplot(data=df,x='TransactionMonthName',y='TransactionAmount (INR)',color='indigo')"
      ],
      "metadata": {
        "colab": {
          "base_uri": "https://localhost:8080/",
          "height": 297
        },
        "id": "yNyK5uYzoNQp",
        "outputId": "54fb7f46-9ba7-4e8b-86f4-f7f4e97881e6"
      },
      "execution_count": 42,
      "outputs": [
        {
          "output_type": "execute_result",
          "data": {
            "text/plain": [
              "<matplotlib.axes._subplots.AxesSubplot at 0x7f3be91978e0>"
            ]
          },
          "metadata": {},
          "execution_count": 42
        },
        {
          "output_type": "display_data",
          "data": {
            "text/plain": [
              "<Figure size 432x288 with 1 Axes>"
            ],
            "image/png": "[encoded data removed]"
          },
          "metadata": {
            "needs_background": "light"
          }
        }
      ]
    },
    {
      "cell_type": "code",
      "source": [
        "sns.pointplot(data=df,x='TransactionMonthName',y='CustAccountBalance',color='orchid')"
      ],
      "metadata": {
        "colab": {
          "base_uri": "https://localhost:8080/",
          "height": 297
        },
        "id": "qVrm2ssGoNVm",
        "outputId": "e0b2a014-f726-47be-bb40-08337705a576"
      },
      "execution_count": 43,
      "outputs": [
        {
          "output_type": "execute_result",
          "data": {
            "text/plain": [
              "<matplotlib.axes._subplots.AxesSubplot at 0x7f3be9164e20>"
            ]
          },
          "metadata": {},
          "execution_count": 43
        },
        {
          "output_type": "display_data",
          "data": {
            "text/plain": [
              "<Figure size 432x288 with 1 Axes>"
            ],
            "image/png": "[encoded data removed]"
          },
          "metadata": {
            "needs_background": "light"
          }
        }
      ]
    },
    {
      "cell_type": "code",
      "source": [
        "df.groupby('CustLocation')['CustAccountBalance'].mean().sort_values(ascending=False)[:10].plot(kind='bar',color=['aqua','maroon','lawngreen','crimson','tomato','violet','red','brown','green','royalblue'])\n",
        "plt.ylabel('Customer Account Balance');"
      ],
      "metadata": {
        "colab": {
          "base_uri": "https://localhost:8080/",
          "height": 497
        },
        "id": "Kfg4niVfoNa6",
        "outputId": "a243f9f3-c533-489f-d0be-e00df2aa9a02"
      },
      "execution_count": 44,
      "outputs": [
        {
          "output_type": "display_data",
          "data": {
            "text/plain": [
              "<Figure size 432x288 with 1 Axes>"
            ],
            "image/png": "[encoded data removed]"
          },
          "metadata": {
            "needs_background": "light"
          }
        }
      ]
    },
    {
      "cell_type": "code",
      "source": [
        "sns.clustermap(df.corr(),row_cluster=False)"
      ],
      "metadata": {
        "colab": {
          "base_uri": "https://localhost:8080/",
          "height": 748
        },
        "id": "WWlDetSWoNgu",
        "outputId": "db36239a-c33e-4099-80cc-6fbdd53f22da"
      },
      "execution_count": 45,
      "outputs": [
        {
          "output_type": "execute_result",
          "data": {
            "text/plain": [
              "<seaborn.matrix.ClusterGrid at 0x7f3be909d7f0>"
            ]
          },
          "metadata": {},
          "execution_count": 45
        },
        {
          "output_type": "display_data",
          "data": {
            "text/plain": [
              "<Figure size 720x720 with 4 Axes>"
            ],
            "image/png": "[encoded data removed]"
          },
          "metadata": {
            "needs_background": "light"
          }
        }
      ]
    },
    {
      "cell_type": "code",
      "source": [
        "df.CustGender.replace(['F','M'],[0,1],inplace=True)\n",
        "df.CustGender = df.CustGender.astype(np.int64)"
      ],
      "metadata": {
        "id": "Uyb4t_v1oNkI"
      },
      "execution_count": 46,
      "outputs": []
    },
    {
      "cell_type": "markdown",
      "source": [
        "# Categorical Encoding"
      ],
      "metadata": {
        "id": "tQRBHvrUxv7j"
      }
    },
    {
      "cell_type": "code",
      "source": [
        "from sklearn.preprocessing import LabelEncoder\n",
        "encoder = LabelEncoder()\n",
        "df.CustLocation = encoder.fit_transform(df.CustLocation)\n",
        "df.CustLocation = df.CustLocation.astype(np.int64)"
      ],
      "metadata": {
        "id": "Tj36x8WSoNpC"
      },
      "execution_count": 47,
      "outputs": []
    },
    {
      "cell_type": "code",
      "source": [
        "df.drop(['TransactionMonthName','TransactionDayName'],axis=1,inplace=True)"
      ],
      "metadata": {
        "id": "BIpDxmZMoNx1"
      },
      "execution_count": 48,
      "outputs": []
    },
    {
      "cell_type": "markdown",
      "source": [
        "# Feature Scaling"
      ],
      "metadata": {
        "id": "TNTt_6q0x0QE"
      }
    },
    {
      "cell_type": "code",
      "source": [
        "from sklearn.preprocessing import StandardScaler\n",
        "scaler = StandardScaler()\n",
        "scaled_df = scaler.fit_transform(df)\n",
        "scaled_df = pd.DataFrame(scaled_df,columns=df.columns)\n",
        "scaled_df.head()"
      ],
      "metadata": {
        "colab": {
          "base_uri": "https://localhost:8080/",
          "height": 206
        },
        "id": "alZxrqOMs34W",
        "outputId": "bbfe5e8d-f5f5-453d-c16e-358ec75a67ba"
      },
      "execution_count": 50,
      "outputs": [
        {
          "output_type": "execute_result",
          "data": {
            "text/plain": [
              "   CustGender  CustLocation  CustAccountBalance  TransactionTime  \\\n",
              "0   -1.650102     -0.225842           -0.153031        -0.272455   \n",
              "1   -1.650102      0.478541           -0.152918        -0.282049   \n",
              "2   -1.650102      0.478541            1.576735        -0.282011   \n",
              "3   -1.650102      0.641746           -0.175665         0.463052   \n",
              "4   -1.650102      0.478541           -0.187366         0.320598   \n",
              "\n",
              "   TransactionAmount (INR)       Age  TransactionMonth  TransactionDay  \n",
              "0                -0.233311 -0.409136         -2.027732       -0.879388  \n",
              "1                -0.161371 -0.454059         -2.027732       -0.879388  \n",
              "2                 0.104013  0.062562         -2.027732       -0.879388  \n",
              "3                 0.054699 -0.274365         -2.027732       -0.879388  \n",
              "4                -0.143635 -0.341750         -2.027732       -0.879388  "
            ],
            "text/html": [
              "\n",
              "  <div id=\"df-7b5dacae-9e05-4e32-82cd-71e0ac211817\">\n",
              "    <div class=\"colab-df-container\">\n",
              "      <div>\n",
              "<style scoped>\n",
              "    .dataframe tbody tr th:only-of-type {\n",
              "        vertical-align: middle;\n",
              "    }\n",
              "\n",
              "    .dataframe tbody tr th {\n",
              "        vertical-align: top;\n",
              "    }\n",
              "\n",
              "    .dataframe thead th {\n",
              "        text-align: right;\n",
              "    }\n",
              "</style>\n",
              "<table border=\"1\" class=\"dataframe\">\n",
              "  <thead>\n",
              "    <tr style=\"text-align: right;\">\n",
              "      <th></th>\n",
              "      <th>CustGender</th>\n",
              "      <th>CustLocation</th>\n",
              "      <th>CustAccountBalance</th>\n",
              "      <th>TransactionTime</th>\n",
              "      <th>TransactionAmount (INR)</th>\n",
              "      <th>Age</th>\n",
              "      <th>TransactionMonth</th>\n",
              "      <th>TransactionDay</th>\n",
              "    </tr>\n",
              "  </thead>\n",
              "  <tbody>\n",
              "    <tr>\n",
              "      <th>0</th>\n",
              "      <td>-1.650102</td>\n",
              "      <td>-0.225842</td>\n",
              "      <td>-0.153031</td>\n",
              "      <td>-0.272455</td>\n",
              "      <td>-0.233311</td>\n",
              "      <td>-0.409136</td>\n",
              "      <td>-2.027732</td>\n",
              "      <td>-0.879388</td>\n",
              "    </tr>\n",
              "    <tr>\n",
              "      <th>1</th>\n",
              "      <td>-1.650102</td>\n",
              "      <td>0.478541</td>\n",
              "      <td>-0.152918</td>\n",
              "      <td>-0.282049</td>\n",
              "      <td>-0.161371</td>\n",
              "      <td>-0.454059</td>\n",
              "      <td>-2.027732</td>\n",
              "      <td>-0.879388</td>\n",
              "    </tr>\n",
              "    <tr>\n",
              "      <th>2</th>\n",
              "      <td>-1.650102</td>\n",
              "      <td>0.478541</td>\n",
              "      <td>1.576735</td>\n",
              "      <td>-0.282011</td>\n",
              "      <td>0.104013</td>\n",
              "      <td>0.062562</td>\n",
              "      <td>-2.027732</td>\n",
              "      <td>-0.879388</td>\n",
              "    </tr>\n",
              "    <tr>\n",
              "      <th>3</th>\n",
              "      <td>-1.650102</td>\n",
              "      <td>0.641746</td>\n",
              "      <td>-0.175665</td>\n",
              "      <td>0.463052</td>\n",
              "      <td>0.054699</td>\n",
              "      <td>-0.274365</td>\n",
              "      <td>-2.027732</td>\n",
              "      <td>-0.879388</td>\n",
              "    </tr>\n",
              "    <tr>\n",
              "      <th>4</th>\n",
              "      <td>-1.650102</td>\n",
              "      <td>0.478541</td>\n",
              "      <td>-0.187366</td>\n",
              "      <td>0.320598</td>\n",
              "      <td>-0.143635</td>\n",
              "      <td>-0.341750</td>\n",
              "      <td>-2.027732</td>\n",
              "      <td>-0.879388</td>\n",
              "    </tr>\n",
              "  </tbody>\n",
              "</table>\n",
              "</div>\n",
              "      <button class=\"colab-df-convert\" onclick=\"convertToInteractive('df-7b5dacae-9e05-4e32-82cd-71e0ac211817')\"\n",
              "              title=\"Convert this dataframe to an interactive table.\"\n",
              "              style=\"display:none;\">\n",
              "        \n",
              "  <svg xmlns=\"http://www.w3.org/2000/svg\" height=\"24px\"viewBox=\"0 0 24 24\"\n",
              "       width=\"24px\">\n",
              "    <path d=\"M0 0h24v24H0V0z\" fill=\"none\"/>\n",
              "    <path d=\"M18.56 5.44l.94 2.06.94-2.06 2.06-.94-2.06-.94-.94-2.06-.94 2.06-2.06.94zm-11 1L8.5 8.5l.94-2.06 2.06-.94-2.06-.94L8.5 2.5l-.94 2.06-2.06.94zm10 10l.94 2.06.94-2.06 2.06-.94-2.06-.94-.94-2.06-.94 2.06-2.06.94z\"/><path d=\"M17.41 7.96l-1.37-1.37c-.4-.4-.92-.59-1.43-.59-.52 0-1.04.2-1.43.59L10.3 9.45l-7.72 7.72c-.78.78-.78 2.05 0 2.83L4 21.41c.39.39.9.59 1.41.59.51 0 1.02-.2 1.41-.59l7.78-7.78 2.81-2.81c.8-.78.8-2.07 0-2.86zM5.41 20L4 18.59l7.72-7.72 1.47 1.35L5.41 20z\"/>\n",
              "  </svg>\n",
              "      </button>\n",
              "      \n",
              "  <style>\n",
              "    .colab-df-container {\n",
              "      display:flex;\n",
              "      flex-wrap:wrap;\n",
              "      gap: 12px;\n",
              "    }\n",
              "\n",
              "    .colab-df-convert {\n",
              "      background-color: #E8F0FE;\n",
              "      border: none;\n",
              "      border-radius: 50%;\n",
              "      cursor: pointer;\n",
              "      display: none;\n",
              "      fill: #1967D2;\n",
              "      height: 32px;\n",
              "      padding: 0 0 0 0;\n",
              "      width: 32px;\n",
              "    }\n",
              "\n",
              "    .colab-df-convert:hover {\n",
              "      background-color: #E2EBFA;\n",
              "      box-shadow: 0px 1px 2px rgba(60, 64, 67, 0.3), 0px 1px 3px 1px rgba(60, 64, 67, 0.15);\n",
              "      fill: #174EA6;\n",
              "    }\n",
              "\n",
              "    [theme=dark] .colab-df-convert {\n",
              "      background-color: #3B4455;\n",
              "      fill: #D2E3FC;\n",
              "    }\n",
              "\n",
              "    [theme=dark] .colab-df-convert:hover {\n",
              "      background-color: #434B5C;\n",
              "      box-shadow: 0px 1px 3px 1px rgba(0, 0, 0, 0.15);\n",
              "      filter: drop-shadow(0px 1px 2px rgba(0, 0, 0, 0.3));\n",
              "      fill: #FFFFFF;\n",
              "    }\n",
              "  </style>\n",
              "\n",
              "      <script>\n",
              "        const buttonEl =\n",
              "          document.querySelector('#df-7b5dacae-9e05-4e32-82cd-71e0ac211817 button.colab-df-convert');\n",
              "        buttonEl.style.display =\n",
              "          google.colab.kernel.accessAllowed ? 'block' : 'none';\n",
              "\n",
              "        async function convertToInteractive(key) {\n",
              "          const element = document.querySelector('#df-7b5dacae-9e05-4e32-82cd-71e0ac211817');\n",
              "          const dataTable =\n",
              "            await google.colab.kernel.invokeFunction('convertToInteractive',\n",
              "                                                     [key], {});\n",
              "          if (!dataTable) return;\n",
              "\n",
              "          const docLinkHtml = 'Like what you see? Visit the ' +\n",
              "            '<a target=\"_blank\" href=https://colab.research.google.com/notebooks/data_table.ipynb>data table notebook</a>'\n",
              "            + ' to learn more about interactive tables.';\n",
              "          element.innerHTML = '';\n",
              "          dataTable['output_type'] = 'display_data';\n",
              "          await google.colab.output.renderOutput(dataTable, element);\n",
              "          const docLink = document.createElement('div');\n",
              "          docLink.innerHTML = docLinkHtml;\n",
              "          element.appendChild(docLink);\n",
              "        }\n",
              "      </script>\n",
              "    </div>\n",
              "  </div>\n",
              "  "
            ]
          },
          "metadata": {},
          "execution_count": 50
        }
      ]
    },
    {
      "cell_type": "markdown",
      "source": [
        "# PCA"
      ],
      "metadata": {
        "id": "PgwoFZpWx2KP"
      }
    },
    {
      "cell_type": "code",
      "source": [
        "from sklearn.decomposition import PCA\n",
        "temp = scaled_df.sample(10000)\n",
        "pca = PCA(n_components=2)\n",
        "pca_components = pca.fit_transform(temp)\n",
        "pca_components = pd.DataFrame(pca_components,columns=['PC1','PC2'])\n",
        "pca_components.head()"
      ],
      "metadata": {
        "colab": {
          "base_uri": "https://localhost:8080/",
          "height": 206
        },
        "id": "G_qve3KEs4A9",
        "outputId": "25847bf4-8ac6-4b92-de60-c1a1a5c154de"
      },
      "execution_count": 53,
      "outputs": [
        {
          "output_type": "execute_result",
          "data": {
            "text/plain": [
              "        PC1       PC2\n",
              "0  1.108534 -0.022553\n",
              "1  1.486630 -0.595274\n",
              "2  0.059902 -1.728342\n",
              "3  0.673222  0.018408\n",
              "4  0.281984 -2.223423"
            ],
            "text/html": [
              "\n",
              "  <div id=\"df-42d3c4fe-a55f-4207-992e-6cb0456516b9\">\n",
              "    <div class=\"colab-df-container\">\n",
              "      <div>\n",
              "<style scoped>\n",
              "    .dataframe tbody tr th:only-of-type {\n",
              "        vertical-align: middle;\n",
              "    }\n",
              "\n",
              "    .dataframe tbody tr th {\n",
              "        vertical-align: top;\n",
              "    }\n",
              "\n",
              "    .dataframe thead th {\n",
              "        text-align: right;\n",
              "    }\n",
              "</style>\n",
              "<table border=\"1\" class=\"dataframe\">\n",
              "  <thead>\n",
              "    <tr style=\"text-align: right;\">\n",
              "      <th></th>\n",
              "      <th>PC1</th>\n",
              "      <th>PC2</th>\n",
              "    </tr>\n",
              "  </thead>\n",
              "  <tbody>\n",
              "    <tr>\n",
              "      <th>0</th>\n",
              "      <td>1.108534</td>\n",
              "      <td>-0.022553</td>\n",
              "    </tr>\n",
              "    <tr>\n",
              "      <th>1</th>\n",
              "      <td>1.486630</td>\n",
              "      <td>-0.595274</td>\n",
              "    </tr>\n",
              "    <tr>\n",
              "      <th>2</th>\n",
              "      <td>0.059902</td>\n",
              "      <td>-1.728342</td>\n",
              "    </tr>\n",
              "    <tr>\n",
              "      <th>3</th>\n",
              "      <td>0.673222</td>\n",
              "      <td>0.018408</td>\n",
              "    </tr>\n",
              "    <tr>\n",
              "      <th>4</th>\n",
              "      <td>0.281984</td>\n",
              "      <td>-2.223423</td>\n",
              "    </tr>\n",
              "  </tbody>\n",
              "</table>\n",
              "</div>\n",
              "      <button class=\"colab-df-convert\" onclick=\"convertToInteractive('df-42d3c4fe-a55f-4207-992e-6cb0456516b9')\"\n",
              "              title=\"Convert this dataframe to an interactive table.\"\n",
              "              style=\"display:none;\">\n",
              "        \n",
              "  <svg xmlns=\"http://www.w3.org/2000/svg\" height=\"24px\"viewBox=\"0 0 24 24\"\n",
              "       width=\"24px\">\n",
              "    <path d=\"M0 0h24v24H0V0z\" fill=\"none\"/>\n",
              "    <path d=\"M18.56 5.44l.94 2.06.94-2.06 2.06-.94-2.06-.94-.94-2.06-.94 2.06-2.06.94zm-11 1L8.5 8.5l.94-2.06 2.06-.94-2.06-.94L8.5 2.5l-.94 2.06-2.06.94zm10 10l.94 2.06.94-2.06 2.06-.94-2.06-.94-.94-2.06-.94 2.06-2.06.94z\"/><path d=\"M17.41 7.96l-1.37-1.37c-.4-.4-.92-.59-1.43-.59-.52 0-1.04.2-1.43.59L10.3 9.45l-7.72 7.72c-.78.78-.78 2.05 0 2.83L4 21.41c.39.39.9.59 1.41.59.51 0 1.02-.2 1.41-.59l7.78-7.78 2.81-2.81c.8-.78.8-2.07 0-2.86zM5.41 20L4 18.59l7.72-7.72 1.47 1.35L5.41 20z\"/>\n",
              "  </svg>\n",
              "      </button>\n",
              "      \n",
              "  <style>\n",
              "    .colab-df-container {\n",
              "      display:flex;\n",
              "      flex-wrap:wrap;\n",
              "      gap: 12px;\n",
              "    }\n",
              "\n",
              "    .colab-df-convert {\n",
              "      background-color: #E8F0FE;\n",
              "      border: none;\n",
              "      border-radius: 50%;\n",
              "      cursor: pointer;\n",
              "      display: none;\n",
              "      fill: #1967D2;\n",
              "      height: 32px;\n",
              "      padding: 0 0 0 0;\n",
              "      width: 32px;\n",
              "    }\n",
              "\n",
              "    .colab-df-convert:hover {\n",
              "      background-color: #E2EBFA;\n",
              "      box-shadow: 0px 1px 2px rgba(60, 64, 67, 0.3), 0px 1px 3px 1px rgba(60, 64, 67, 0.15);\n",
              "      fill: #174EA6;\n",
              "    }\n",
              "\n",
              "    [theme=dark] .colab-df-convert {\n",
              "      background-color: #3B4455;\n",
              "      fill: #D2E3FC;\n",
              "    }\n",
              "\n",
              "    [theme=dark] .colab-df-convert:hover {\n",
              "      background-color: #434B5C;\n",
              "      box-shadow: 0px 1px 3px 1px rgba(0, 0, 0, 0.15);\n",
              "      filter: drop-shadow(0px 1px 2px rgba(0, 0, 0, 0.3));\n",
              "      fill: #FFFFFF;\n",
              "    }\n",
              "  </style>\n",
              "\n",
              "      <script>\n",
              "        const buttonEl =\n",
              "          document.querySelector('#df-42d3c4fe-a55f-4207-992e-6cb0456516b9 button.colab-df-convert');\n",
              "        buttonEl.style.display =\n",
              "          google.colab.kernel.accessAllowed ? 'block' : 'none';\n",
              "\n",
              "        async function convertToInteractive(key) {\n",
              "          const element = document.querySelector('#df-42d3c4fe-a55f-4207-992e-6cb0456516b9');\n",
              "          const dataTable =\n",
              "            await google.colab.kernel.invokeFunction('convertToInteractive',\n",
              "                                                     [key], {});\n",
              "          if (!dataTable) return;\n",
              "\n",
              "          const docLinkHtml = 'Like what you see? Visit the ' +\n",
              "            '<a target=\"_blank\" href=https://colab.research.google.com/notebooks/data_table.ipynb>data table notebook</a>'\n",
              "            + ' to learn more about interactive tables.';\n",
              "          element.innerHTML = '';\n",
              "          dataTable['output_type'] = 'display_data';\n",
              "          await google.colab.output.renderOutput(dataTable, element);\n",
              "          const docLink = document.createElement('div');\n",
              "          docLink.innerHTML = docLinkHtml;\n",
              "          element.appendChild(docLink);\n",
              "        }\n",
              "      </script>\n",
              "    </div>\n",
              "  </div>\n",
              "  "
            ]
          },
          "metadata": {},
          "execution_count": 53
        }
      ]
    },
    {
      "cell_type": "code",
      "source": [
        "data_size, dims, num_clusters = 10000, 2, 8\n",
        "x = torch.from_numpy(df.to_numpy()) "
      ],
      "metadata": {
        "id": "a-XHEqsCnUKG"
      },
      "execution_count": 62,
      "outputs": []
    },
    {
      "cell_type": "code",
      "source": [
        "cluster_ids_x, cluster_centers = kmeans(X=x,num_clusters=num_clusters,distance='euclidean',\n",
        "device=torch.device(\"cuda\" if torch.cuda.is_available() else \"cpu\"))"
      ],
      "metadata": {
        "colab": {
          "base_uri": "https://localhost:8080/"
        },
        "id": "AUB1iPtyn0JV",
        "outputId": "e8d37459-4c25-4f34-b62e-99f06799fbb2"
      },
      "execution_count": 63,
      "outputs": [
        {
          "output_type": "stream",
          "name": "stdout",
          "text": [
            "running k-means on cuda..\n"
          ]
        },
        {
          "output_type": "stream",
          "name": "stderr",
          "text": [
            "[running kmeans]: 161it [01:24,  1.90it/s, center_shift=0.000000, iteration=161, tol=0.000100]\n"
          ]
        }
      ]
    },
    {
      "cell_type": "code",
      "source": [
        "cluster_ids_x"
      ],
      "metadata": {
        "colab": {
          "base_uri": "https://localhost:8080/"
        },
        "id": "t4JymvCxn_Us",
        "outputId": "3fb33d5e-77d3-44a8-c9ab-2d2a26cdb936"
      },
      "execution_count": 64,
      "outputs": [
        {
          "output_type": "execute_result",
          "data": {
            "text/plain": [
              "tensor([0, 0, 2,  ..., 4, 3, 3])"
            ]
          },
          "metadata": {},
          "execution_count": 64
        }
      ]
    },
    {
      "cell_type": "code",
      "source": [
        "num_clusters"
      ],
      "metadata": {
        "colab": {
          "base_uri": "https://localhost:8080/"
        },
        "id": "hzkZUkB0oG6X",
        "outputId": "f6e6d04b-2320-4d46-8dff-fe4d9d947da5"
      },
      "execution_count": 66,
      "outputs": [
        {
          "output_type": "execute_result",
          "data": {
            "text/plain": [
              "8"
            ]
          },
          "metadata": {},
          "execution_count": 66
        }
      ]
    },
    {
      "cell_type": "code",
      "source": [
        "cluster_centers"
      ],
      "metadata": {
        "colab": {
          "base_uri": "https://localhost:8080/"
        },
        "id": "LssxZsjLoJiw",
        "outputId": "92c8b6d6-17d0-4c59-e5e3-c56bd238af83"
      },
      "execution_count": 65,
      "outputs": [
        {
          "output_type": "execute_result",
          "data": {
            "text/plain": [
              "tensor([[7.5430e-01, 3.8576e+03, 2.6185e+04, 1.0440e+05, 1.1656e+03, 4.5360e+01,\n",
              "         7.3501e+00, 1.4234e+01, 1.0000e+00],\n",
              "        [8.5868e-01, 3.6036e+03, 7.6892e+06, 1.5550e+05, 6.3296e+03, 6.7476e+01,\n",
              "         7.1767e+00, 1.4831e+01, 0.0000e+00],\n",
              "        [7.2317e-01, 3.8893e+03, 8.8917e+05, 1.5802e+05, 3.5040e+03, 6.8870e+01,\n",
              "         7.4471e+00, 1.5049e+01, 1.0000e+00],\n",
              "        [7.2030e-01, 3.8506e+03, 2.7007e+04, 1.9139e+05, 1.2966e+03, 4.3341e+01,\n",
              "         7.3323e+00, 1.4433e+01, 1.0000e+00],\n",
              "        [6.9490e-01, 3.9355e+03, 3.0752e+05, 1.5858e+05, 2.8537e+03, 6.1217e+01,\n",
              "         7.4131e+00, 1.4894e+01, 1.0000e+00],\n",
              "        [7.8574e-01, 3.9319e+03, 1.9485e+06, 1.5468e+05, 4.1058e+03, 8.7924e+01,\n",
              "         7.4126e+00, 1.4912e+01, 1.0000e+00],\n",
              "        [8.8179e-01, 4.0837e+03, 4.1543e+06, 1.5717e+05, 5.2263e+03, 9.1652e+01,\n",
              "         7.3940e+00, 1.5245e+01, 5.6922e-01],\n",
              "        [7.7154e-01, 3.9700e+03, 1.9136e+07, 1.5618e+05, 6.7304e+03, 1.2283e+02,\n",
              "         7.2210e+00, 1.4566e+01, 0.0000e+00]])"
            ]
          },
          "metadata": {},
          "execution_count": 65
        }
      ]
    },
    {
      "cell_type": "code",
      "source": [
        "clus_data = df\n",
        "clus_data['clusters'] = cluster_ids_x"
      ],
      "metadata": {
        "id": "BlYFSg59oOx1"
      },
      "execution_count": 60,
      "outputs": []
    },
    {
      "cell_type": "code",
      "source": [
        "plt.scatter(df[\"CustAccountBalance\"], df[\"TransactionAmount (INR)\"], c=cluster_ids_x, s=50, cmap='viridis')"
      ],
      "metadata": {
        "colab": {
          "base_uri": "https://localhost:8080/",
          "height": 307
        },
        "id": "mkkzwKiYoTaq",
        "outputId": "4b212d7e-486d-4eb5-d975-0327d2f29030"
      },
      "execution_count": 67,
      "outputs": [
        {
          "output_type": "execute_result",
          "data": {
            "text/plain": [
              "<matplotlib.collections.PathCollection at 0x7f3be9485e20>"
            ]
          },
          "metadata": {},
          "execution_count": 67
        },
        {
          "output_type": "display_data",
          "data": {
            "text/plain": [
              "<Figure size 432x288 with 1 Axes>"
            ],
            "image/png": "[encoded data removed]"
          },
          "metadata": {
            "needs_background": "light"
          }
        }
      ]
    }
  ],
  "metadata": {
    "colab": {
      "provenance": []
    },
    "kernelspec": {
      "display_name": "Python 3",
      "name": "python3"
    },
    "language_info": {
      "name": "python"
    },
    "accelerator": "GPU"
  },
  "nbformat": 4,
  "nbformat_minor": 0
}